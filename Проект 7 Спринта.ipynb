{
 "cells": [
  {
   "cell_type": "markdown",
   "id": "e06910dd",
   "metadata": {
    "id": "e06910dd"
   },
   "source": [
    "# Проект 7. Анализ данных игровой индустрии \n",
    "\n",
    "- Автор: Марков Максим\n",
    "- Дата: 01.07.2025"
   ]
  },
  {
   "cell_type": "markdown",
   "id": "4149134c",
   "metadata": {
    "id": "4149134c"
   },
   "source": [
    "### Цели и задачи проекта\n",
    "\n",
    "- Цель: изучить развитие игровой индустрии, на основе собранных данных из открытых источников в врменном интервале 2000-2013 гг.\n",
    "- Задачи: 1) проверить данные на корректность, 2) провести их предобраюотку, 3) получить необходимый срез данных, 4) произвести категоризацию данных по оценкам пользовтелей и критиков,  5) выявить платформы с наибольшими продажами"
   ]
  },
  {
   "cell_type": "markdown",
   "id": "728986ea",
   "metadata": {
    "id": "728986ea"
   },
   "source": [
    "### Описание данных\n",
    "\n",
    "Данные /datasets/new_games.csv содержат информацию о продажах игр разных жанров и платформ, а также пользовательские и экспертные оценки игр:\n",
    "- Name — название игры.\n",
    "- Platform — название платформы.\n",
    "- Year of Release — год выпуска игры.\n",
    "- Genre — жанр игры.\n",
    "- NA sales — продажи в Северной Америке (в миллионах проданных копий).\n",
    "- EU sales — продажи в Европе (в миллионах проданных копий).\n",
    "- JP sales — продажи в Японии (в миллионах проданных копий).\n",
    "- Other sales — продажи в других странах (в миллионах проданных копий).\n",
    "- Critic Score — оценка критиков (от 0 до 100).\n",
    "- User Score — оценка пользователей (от 0 до 10).\n",
    "- Rating — рейтинг организации ESRB (англ. Entertainment Software Rating Board). "
   ]
  },
  {
   "cell_type": "markdown",
   "id": "89358c92",
   "metadata": {
    "id": "4fecaf95"
   },
   "source": [
    "\n",
    "### Оглавление\n",
    "\n",
    "<div class=\"toc\"><ul class=\"toc-item\"><li><ul class=\"toc-item\"><li><span><a href=\"#Цели-и-задачи-проекта\" data-toc-modified-id=\"Цели-и-задачи-проекта-0.1\"><span class=\"toc-item-num\">0.1&nbsp;&nbsp;</span>Цели и задачи проекта</a></span></li><li><span><a href=\"#Описание-данных\" data-toc-modified-id=\"Описание-данных-0.2\"><span class=\"toc-item-num\">0.2&nbsp;&nbsp;</span>Описание данных</a></span></li><li><span><a href=\"#Оглавление\" data-toc-modified-id=\"Оглавление-0.3\"><span class=\"toc-item-num\">0.3&nbsp;&nbsp;</span>Оглавление</a></span></li></ul></li><li><span><a href=\"#Загрузка-данных-и-знакомство-с-ними\" data-toc-modified-id=\"Загрузка-данных-и-знакомство-с-ними-1\"><span class=\"toc-item-num\">1&nbsp;&nbsp;</span>Загрузка данных и знакомство с ними</a></span></li><li><span><a href=\"#Проверка-ошибок-в-данных-и-их-предобработка\" data-toc-modified-id=\"Проверка-ошибок-в-данных-и-их-предобработка-2\"><span class=\"toc-item-num\">2&nbsp;&nbsp;</span>Проверка ошибок в данных и их предобработка</a></span><ul class=\"toc-item\"><li><span><a href=\"#Названия,-или-метки,-столбцов-датафрейма\" data-toc-modified-id=\"Названия,-или-метки,-столбцов-датафрейма-2.1\"><span class=\"toc-item-num\">2.1&nbsp;&nbsp;</span>Названия, или метки, столбцов датафрейма</a></span></li><li><span><a href=\"#Типы-данных\" data-toc-modified-id=\"Типы-данных-2.2\"><span class=\"toc-item-num\">2.2&nbsp;&nbsp;</span>Типы данных</a></span></li><li><span><a href=\"#Наличие-пропусков-в-данных\" data-toc-modified-id=\"Наличие-пропусков-в-данных-2.3\"><span class=\"toc-item-num\">2.3&nbsp;&nbsp;</span>Наличие пропусков в данных</a></span></li><li><span><a href=\"#Явные-и-неявные-дубликаты-в-данных\" data-toc-modified-id=\"Явные-и-неявные-дубликаты-в-данных-2.4\"><span class=\"toc-item-num\">2.4&nbsp;&nbsp;</span>Явные и неявные дубликаты в данных</a></span></li></ul></li><li><span><a href=\"#Фильтрация-данных\" data-toc-modified-id=\"Фильтрация-данных-3\"><span class=\"toc-item-num\">3&nbsp;&nbsp;</span>Фильтрация данных</a></span></li><li><span><a href=\"#Категоризация-данных\" data-toc-modified-id=\"Категоризация-данных-4\"><span class=\"toc-item-num\">4&nbsp;&nbsp;</span>Категоризация данных</a></span></li><li><span><a href=\"#Итоговый-вывод\" data-toc-modified-id=\"Итоговый-вывод-5\"><span class=\"toc-item-num\">5&nbsp;&nbsp;</span>Итоговый вывод</a></span></li></ul></div>"
   ]
  },
  {
   "cell_type": "markdown",
   "id": "6f7d21d6",
   "metadata": {
    "id": "6f7d21d6"
   },
   "source": [
    "## Загрузка данных и знакомство с ними\n",
    "\n",
    "- Загрузите необходимые библиотеки Python и данные датасета `/datasets/new_games.csv`.\n"
   ]
  },
  {
   "cell_type": "markdown",
   "id": "e0a8705f",
   "metadata": {
    "id": "e0a8705f"
   },
   "source": [
    "- Познакомьтесь с данными: выведите первые строки и результат метода `info()`.\n"
   ]
  },
  {
   "cell_type": "code",
   "execution_count": 1,
   "id": "3937acf7",
   "metadata": {
    "id": "3937acf7"
   },
   "outputs": [],
   "source": [
    "# загружаем нужную библиотеку\n",
    "import pandas as pd"
   ]
  },
  {
   "cell_type": "code",
   "execution_count": 2,
   "id": "d7c8eb4b",
   "metadata": {
    "id": "d7c8eb4b"
   },
   "outputs": [],
   "source": [
    "# загружаем данные из файла\n",
    "df = pd.read_csv('https://code.s3.yandex.net/datasets/new_games.csv')"
   ]
  },
  {
   "cell_type": "code",
   "execution_count": 3,
   "id": "fc561cac",
   "metadata": {
    "id": "fc561cac"
   },
   "outputs": [
    {
     "data": {
      "text/html": [
       "<div>\n",
       "<style scoped>\n",
       "    .dataframe tbody tr th:only-of-type {\n",
       "        vertical-align: middle;\n",
       "    }\n",
       "\n",
       "    .dataframe tbody tr th {\n",
       "        vertical-align: top;\n",
       "    }\n",
       "\n",
       "    .dataframe thead th {\n",
       "        text-align: right;\n",
       "    }\n",
       "</style>\n",
       "<table border=\"1\" class=\"dataframe\">\n",
       "  <thead>\n",
       "    <tr style=\"text-align: right;\">\n",
       "      <th></th>\n",
       "      <th>Name</th>\n",
       "      <th>Platform</th>\n",
       "      <th>Year of Release</th>\n",
       "      <th>Genre</th>\n",
       "      <th>NA sales</th>\n",
       "      <th>EU sales</th>\n",
       "      <th>JP sales</th>\n",
       "      <th>Other sales</th>\n",
       "      <th>Critic Score</th>\n",
       "      <th>User Score</th>\n",
       "      <th>Rating</th>\n",
       "    </tr>\n",
       "  </thead>\n",
       "  <tbody>\n",
       "    <tr>\n",
       "      <th>0</th>\n",
       "      <td>Wii Sports</td>\n",
       "      <td>Wii</td>\n",
       "      <td>2006.0</td>\n",
       "      <td>Sports</td>\n",
       "      <td>41.36</td>\n",
       "      <td>28.96</td>\n",
       "      <td>3.77</td>\n",
       "      <td>8.45</td>\n",
       "      <td>76.0</td>\n",
       "      <td>8</td>\n",
       "      <td>E</td>\n",
       "    </tr>\n",
       "    <tr>\n",
       "      <th>1</th>\n",
       "      <td>Super Mario Bros.</td>\n",
       "      <td>NES</td>\n",
       "      <td>1985.0</td>\n",
       "      <td>Platform</td>\n",
       "      <td>29.08</td>\n",
       "      <td>3.58</td>\n",
       "      <td>6.81</td>\n",
       "      <td>0.77</td>\n",
       "      <td>NaN</td>\n",
       "      <td>NaN</td>\n",
       "      <td>NaN</td>\n",
       "    </tr>\n",
       "    <tr>\n",
       "      <th>2</th>\n",
       "      <td>Mario Kart Wii</td>\n",
       "      <td>Wii</td>\n",
       "      <td>2008.0</td>\n",
       "      <td>Racing</td>\n",
       "      <td>15.68</td>\n",
       "      <td>12.76</td>\n",
       "      <td>3.79</td>\n",
       "      <td>3.29</td>\n",
       "      <td>82.0</td>\n",
       "      <td>8.3</td>\n",
       "      <td>E</td>\n",
       "    </tr>\n",
       "    <tr>\n",
       "      <th>3</th>\n",
       "      <td>Wii Sports Resort</td>\n",
       "      <td>Wii</td>\n",
       "      <td>2009.0</td>\n",
       "      <td>Sports</td>\n",
       "      <td>15.61</td>\n",
       "      <td>10.93</td>\n",
       "      <td>3.28</td>\n",
       "      <td>2.95</td>\n",
       "      <td>80.0</td>\n",
       "      <td>8</td>\n",
       "      <td>E</td>\n",
       "    </tr>\n",
       "    <tr>\n",
       "      <th>4</th>\n",
       "      <td>Pokemon Red/Pokemon Blue</td>\n",
       "      <td>GB</td>\n",
       "      <td>1996.0</td>\n",
       "      <td>Role-Playing</td>\n",
       "      <td>11.27</td>\n",
       "      <td>8.89</td>\n",
       "      <td>10.22</td>\n",
       "      <td>1.00</td>\n",
       "      <td>NaN</td>\n",
       "      <td>NaN</td>\n",
       "      <td>NaN</td>\n",
       "    </tr>\n",
       "    <tr>\n",
       "      <th>...</th>\n",
       "      <td>...</td>\n",
       "      <td>...</td>\n",
       "      <td>...</td>\n",
       "      <td>...</td>\n",
       "      <td>...</td>\n",
       "      <td>...</td>\n",
       "      <td>...</td>\n",
       "      <td>...</td>\n",
       "      <td>...</td>\n",
       "      <td>...</td>\n",
       "      <td>...</td>\n",
       "    </tr>\n",
       "    <tr>\n",
       "      <th>16951</th>\n",
       "      <td>Samurai Warriors: Sanada Maru</td>\n",
       "      <td>PS3</td>\n",
       "      <td>2016.0</td>\n",
       "      <td>Action</td>\n",
       "      <td>0.00</td>\n",
       "      <td>0.0</td>\n",
       "      <td>0.01</td>\n",
       "      <td>0.00</td>\n",
       "      <td>NaN</td>\n",
       "      <td>NaN</td>\n",
       "      <td>NaN</td>\n",
       "    </tr>\n",
       "    <tr>\n",
       "      <th>16952</th>\n",
       "      <td>LMA Manager 2007</td>\n",
       "      <td>X360</td>\n",
       "      <td>2006.0</td>\n",
       "      <td>Sports</td>\n",
       "      <td>0.00</td>\n",
       "      <td>0.01</td>\n",
       "      <td>0.0</td>\n",
       "      <td>0.00</td>\n",
       "      <td>NaN</td>\n",
       "      <td>NaN</td>\n",
       "      <td>NaN</td>\n",
       "    </tr>\n",
       "    <tr>\n",
       "      <th>16953</th>\n",
       "      <td>Haitaka no Psychedelica</td>\n",
       "      <td>PSV</td>\n",
       "      <td>2016.0</td>\n",
       "      <td>Adventure</td>\n",
       "      <td>0.00</td>\n",
       "      <td>0.0</td>\n",
       "      <td>0.01</td>\n",
       "      <td>0.00</td>\n",
       "      <td>NaN</td>\n",
       "      <td>NaN</td>\n",
       "      <td>NaN</td>\n",
       "    </tr>\n",
       "    <tr>\n",
       "      <th>16954</th>\n",
       "      <td>Spirits &amp; Spells</td>\n",
       "      <td>GBA</td>\n",
       "      <td>2003.0</td>\n",
       "      <td>Platform</td>\n",
       "      <td>0.01</td>\n",
       "      <td>0.0</td>\n",
       "      <td>0.0</td>\n",
       "      <td>0.00</td>\n",
       "      <td>NaN</td>\n",
       "      <td>NaN</td>\n",
       "      <td>NaN</td>\n",
       "    </tr>\n",
       "    <tr>\n",
       "      <th>16955</th>\n",
       "      <td>Winning Post 8 2016</td>\n",
       "      <td>PSV</td>\n",
       "      <td>2016.0</td>\n",
       "      <td>Simulation</td>\n",
       "      <td>0.00</td>\n",
       "      <td>0.0</td>\n",
       "      <td>0.01</td>\n",
       "      <td>0.00</td>\n",
       "      <td>NaN</td>\n",
       "      <td>NaN</td>\n",
       "      <td>NaN</td>\n",
       "    </tr>\n",
       "  </tbody>\n",
       "</table>\n",
       "<p>16956 rows × 11 columns</p>\n",
       "</div>"
      ],
      "text/plain": [
       "                                Name Platform  Year of Release         Genre  \\\n",
       "0                         Wii Sports      Wii           2006.0        Sports   \n",
       "1                  Super Mario Bros.      NES           1985.0      Platform   \n",
       "2                     Mario Kart Wii      Wii           2008.0        Racing   \n",
       "3                  Wii Sports Resort      Wii           2009.0        Sports   \n",
       "4           Pokemon Red/Pokemon Blue       GB           1996.0  Role-Playing   \n",
       "...                              ...      ...              ...           ...   \n",
       "16951  Samurai Warriors: Sanada Maru      PS3           2016.0        Action   \n",
       "16952               LMA Manager 2007     X360           2006.0        Sports   \n",
       "16953        Haitaka no Psychedelica      PSV           2016.0     Adventure   \n",
       "16954               Spirits & Spells      GBA           2003.0      Platform   \n",
       "16955            Winning Post 8 2016      PSV           2016.0    Simulation   \n",
       "\n",
       "       NA sales EU sales JP sales  Other sales  Critic Score User Score Rating  \n",
       "0         41.36    28.96     3.77         8.45          76.0          8      E  \n",
       "1         29.08     3.58     6.81         0.77           NaN        NaN    NaN  \n",
       "2         15.68    12.76     3.79         3.29          82.0        8.3      E  \n",
       "3         15.61    10.93     3.28         2.95          80.0          8      E  \n",
       "4         11.27     8.89    10.22         1.00           NaN        NaN    NaN  \n",
       "...         ...      ...      ...          ...           ...        ...    ...  \n",
       "16951      0.00      0.0     0.01         0.00           NaN        NaN    NaN  \n",
       "16952      0.00     0.01      0.0         0.00           NaN        NaN    NaN  \n",
       "16953      0.00      0.0     0.01         0.00           NaN        NaN    NaN  \n",
       "16954      0.01      0.0      0.0         0.00           NaN        NaN    NaN  \n",
       "16955      0.00      0.0     0.01         0.00           NaN        NaN    NaN  \n",
       "\n",
       "[16956 rows x 11 columns]"
      ]
     },
     "execution_count": 3,
     "metadata": {},
     "output_type": "execute_result"
    }
   ],
   "source": [
    "# выводим таблицу с данными\n",
    "df"
   ]
  },
  {
   "cell_type": "code",
   "execution_count": 4,
   "id": "e68c49f5",
   "metadata": {},
   "outputs": [
    {
     "name": "stdout",
     "output_type": "stream",
     "text": [
      "<class 'pandas.core.frame.DataFrame'>\n",
      "RangeIndex: 16956 entries, 0 to 16955\n",
      "Data columns (total 11 columns):\n",
      " #   Column           Non-Null Count  Dtype  \n",
      "---  ------           --------------  -----  \n",
      " 0   Name             16954 non-null  object \n",
      " 1   Platform         16956 non-null  object \n",
      " 2   Year of Release  16681 non-null  float64\n",
      " 3   Genre            16954 non-null  object \n",
      " 4   NA sales         16956 non-null  float64\n",
      " 5   EU sales         16956 non-null  object \n",
      " 6   JP sales         16956 non-null  object \n",
      " 7   Other sales      16956 non-null  float64\n",
      " 8   Critic Score     8242 non-null   float64\n",
      " 9   User Score       10152 non-null  object \n",
      " 10  Rating           10085 non-null  object \n",
      "dtypes: float64(4), object(7)\n",
      "memory usage: 1.4+ MB\n"
     ]
    }
   ],
   "source": [
    "# получаем информацию по данным\n",
    "df.info()"
   ]
  },
  {
   "cell_type": "markdown",
   "id": "341db436",
   "metadata": {
    "id": "81651b8d"
   },
   "source": [
    "Данные представлены в таблице, состоящей из 16 956 строк и 11 столбцов. В предоставленных данных в ряде столбцов присутсвуют пропуски. В таблице представленно два вида типа данных -- float64 и object. Треть столбцов представлена в неверном типе данных. Названия столбцов нужно привести к стилю snake case."
   ]
  },
  {
   "cell_type": "markdown",
   "id": "774bf76e",
   "metadata": {
    "id": "774bf76e"
   },
   "source": [
    "---\n",
    "\n",
    "## Проверка ошибок в данных и их предобработка\n",
    "\n",
    "\n",
    "### Названия, или метки, столбцов датафрейма\n"
   ]
  },
  {
   "cell_type": "code",
   "execution_count": 5,
   "id": "b9276a2b",
   "metadata": {
    "id": "b9276a2b"
   },
   "outputs": [
    {
     "data": {
      "text/plain": [
       "Index(['Name', 'Platform', 'Year of Release', 'Genre', 'NA sales', 'EU sales',\n",
       "       'JP sales', 'Other sales', 'Critic Score', 'User Score', 'Rating'],\n",
       "      dtype='object')"
      ]
     },
     "execution_count": 5,
     "metadata": {},
     "output_type": "execute_result"
    }
   ],
   "source": [
    "# выводим названия столбцов\n",
    "df.columns"
   ]
  },
  {
   "cell_type": "code",
   "execution_count": 6,
   "id": "d554563c",
   "metadata": {
    "id": "d554563c"
   },
   "outputs": [
    {
     "data": {
      "text/plain": [
       "Index(['name', 'platform', 'year_of_release', 'genre', 'na_sales', 'eu_sales',\n",
       "       'jp_sales', 'other_sales', 'critic_score', 'user_score', 'rating'],\n",
       "      dtype='object')"
      ]
     },
     "execution_count": 6,
     "metadata": {},
     "output_type": "execute_result"
    }
   ],
   "source": [
    "# переименовываем столбцы к общепринятому стилю\n",
    "df = df.rename(columns={'Name': 'name', 'Platform': 'platform', 'Year of Release': 'year_of_release', 'Genre': 'genre', 'NA sales': 'na_sales',\n",
    "                       'EU sales': 'eu_sales', 'JP sales': 'jp_sales', 'Other sales': 'other_sales', 'Critic Score': 'critic_score',\n",
    "                       'User Score': 'user_score', 'Rating': 'rating'})\n",
    "df.columns"
   ]
  },
  {
   "cell_type": "markdown",
   "id": "41bc6bf8",
   "metadata": {
    "id": "41bc6bf8"
   },
   "source": [
    "### Типы данных\n"
   ]
  },
  {
   "cell_type": "markdown",
   "id": "1c2ee05c",
   "metadata": {},
   "source": [
    "В столбце year_of_release представленны данные типа float, и так как нам нужен лишь номер года, то лучше привести к типу int. В столбцах eu_sales и jp_sales представлены данные типа object, из-за наличия строковых значений, которые представляют собой неизвестные значения. Столбец critic_score представлен с типом данных object, и также содержит строковые значения, подразумевающие пропуск данных. "
   ]
  },
  {
   "cell_type": "code",
   "execution_count": 7,
   "id": "8adaac81",
   "metadata": {
    "id": "8adaac81"
   },
   "outputs": [
    {
     "name": "stdout",
     "output_type": "stream",
     "text": [
      "<class 'pandas.core.frame.DataFrame'>\n",
      "RangeIndex: 16956 entries, 0 to 16955\n",
      "Data columns (total 11 columns):\n",
      " #   Column           Non-Null Count  Dtype  \n",
      "---  ------           --------------  -----  \n",
      " 0   name             16954 non-null  object \n",
      " 1   platform         16956 non-null  object \n",
      " 2   year_of_release  16681 non-null  float64\n",
      " 3   genre            16954 non-null  object \n",
      " 4   na_sales         16956 non-null  float64\n",
      " 5   eu_sales         16956 non-null  object \n",
      " 6   jp_sales         16956 non-null  object \n",
      " 7   other_sales      16956 non-null  float64\n",
      " 8   critic_score     8242 non-null   float64\n",
      " 9   user_score       10152 non-null  object \n",
      " 10  rating           10085 non-null  object \n",
      "dtypes: float64(4), object(7)\n",
      "memory usage: 1.4+ MB\n"
     ]
    }
   ],
   "source": [
    "# выводим общюю информацию по данным с новыми названиями\n",
    "df.info()"
   ]
  },
  {
   "cell_type": "code",
   "execution_count": 8,
   "id": "9e53cff4",
   "metadata": {
    "id": "9e53cff4"
   },
   "outputs": [],
   "source": [
    "# Приводим столбец к числовому формату, заменяя строковые значения на NaN\n",
    "df['eu_sales'] = pd.to_numeric(df['eu_sales'], errors = 'coerce')"
   ]
  },
  {
   "cell_type": "code",
   "execution_count": 9,
   "id": "ae758606",
   "metadata": {},
   "outputs": [],
   "source": [
    "# Приводим столбец к числовому формату, заменяя строковые значения на NaN\n",
    "df['jp_sales'] = pd.to_numeric(df['jp_sales'], errors = 'coerce')"
   ]
  },
  {
   "cell_type": "code",
   "execution_count": 10,
   "id": "0ea5602b",
   "metadata": {},
   "outputs": [],
   "source": [
    "# Приводим столбец к числовому формату, заменяя строковые значения на NaN\n",
    "df['user_score'] = pd.to_numeric(df['user_score'], errors = 'coerce')"
   ]
  },
  {
   "cell_type": "code",
   "execution_count": 11,
   "id": "fd11369b",
   "metadata": {},
   "outputs": [
    {
     "data": {
      "text/html": [
       "<div>\n",
       "<style scoped>\n",
       "    .dataframe tbody tr th:only-of-type {\n",
       "        vertical-align: middle;\n",
       "    }\n",
       "\n",
       "    .dataframe tbody tr th {\n",
       "        vertical-align: top;\n",
       "    }\n",
       "\n",
       "    .dataframe thead th {\n",
       "        text-align: right;\n",
       "    }\n",
       "</style>\n",
       "<table border=\"1\" class=\"dataframe\">\n",
       "  <thead>\n",
       "    <tr style=\"text-align: right;\">\n",
       "      <th></th>\n",
       "      <th>year_of_release</th>\n",
       "      <th>na_sales</th>\n",
       "      <th>eu_sales</th>\n",
       "      <th>jp_sales</th>\n",
       "      <th>other_sales</th>\n",
       "      <th>critic_score</th>\n",
       "      <th>user_score</th>\n",
       "    </tr>\n",
       "  </thead>\n",
       "  <tbody>\n",
       "    <tr>\n",
       "      <th>count</th>\n",
       "      <td>16681.000000</td>\n",
       "      <td>16956.000000</td>\n",
       "      <td>16950.000000</td>\n",
       "      <td>16952.000000</td>\n",
       "      <td>16956.000000</td>\n",
       "      <td>8242.000000</td>\n",
       "      <td>7688.000000</td>\n",
       "    </tr>\n",
       "    <tr>\n",
       "      <th>mean</th>\n",
       "      <td>2006.485522</td>\n",
       "      <td>0.262023</td>\n",
       "      <td>0.144114</td>\n",
       "      <td>0.077170</td>\n",
       "      <td>0.047087</td>\n",
       "      <td>68.926717</td>\n",
       "      <td>7.122607</td>\n",
       "    </tr>\n",
       "    <tr>\n",
       "      <th>std</th>\n",
       "      <td>5.873102</td>\n",
       "      <td>0.808654</td>\n",
       "      <td>0.500305</td>\n",
       "      <td>0.307148</td>\n",
       "      <td>0.185577</td>\n",
       "      <td>13.944565</td>\n",
       "      <td>1.499804</td>\n",
       "    </tr>\n",
       "    <tr>\n",
       "      <th>min</th>\n",
       "      <td>1980.000000</td>\n",
       "      <td>0.000000</td>\n",
       "      <td>0.000000</td>\n",
       "      <td>0.000000</td>\n",
       "      <td>0.000000</td>\n",
       "      <td>13.000000</td>\n",
       "      <td>0.000000</td>\n",
       "    </tr>\n",
       "    <tr>\n",
       "      <th>25%</th>\n",
       "      <td>2003.000000</td>\n",
       "      <td>0.000000</td>\n",
       "      <td>0.000000</td>\n",
       "      <td>0.000000</td>\n",
       "      <td>0.000000</td>\n",
       "      <td>60.000000</td>\n",
       "      <td>6.400000</td>\n",
       "    </tr>\n",
       "    <tr>\n",
       "      <th>50%</th>\n",
       "      <td>2007.000000</td>\n",
       "      <td>0.080000</td>\n",
       "      <td>0.020000</td>\n",
       "      <td>0.000000</td>\n",
       "      <td>0.010000</td>\n",
       "      <td>71.000000</td>\n",
       "      <td>7.500000</td>\n",
       "    </tr>\n",
       "    <tr>\n",
       "      <th>75%</th>\n",
       "      <td>2010.000000</td>\n",
       "      <td>0.240000</td>\n",
       "      <td>0.110000</td>\n",
       "      <td>0.040000</td>\n",
       "      <td>0.030000</td>\n",
       "      <td>79.000000</td>\n",
       "      <td>8.200000</td>\n",
       "    </tr>\n",
       "    <tr>\n",
       "      <th>max</th>\n",
       "      <td>2016.000000</td>\n",
       "      <td>41.360000</td>\n",
       "      <td>28.960000</td>\n",
       "      <td>10.220000</td>\n",
       "      <td>10.570000</td>\n",
       "      <td>98.000000</td>\n",
       "      <td>9.700000</td>\n",
       "    </tr>\n",
       "  </tbody>\n",
       "</table>\n",
       "</div>"
      ],
      "text/plain": [
       "       year_of_release      na_sales      eu_sales      jp_sales  \\\n",
       "count     16681.000000  16956.000000  16950.000000  16952.000000   \n",
       "mean       2006.485522      0.262023      0.144114      0.077170   \n",
       "std           5.873102      0.808654      0.500305      0.307148   \n",
       "min        1980.000000      0.000000      0.000000      0.000000   \n",
       "25%        2003.000000      0.000000      0.000000      0.000000   \n",
       "50%        2007.000000      0.080000      0.020000      0.000000   \n",
       "75%        2010.000000      0.240000      0.110000      0.040000   \n",
       "max        2016.000000     41.360000     28.960000     10.220000   \n",
       "\n",
       "        other_sales  critic_score   user_score  \n",
       "count  16956.000000   8242.000000  7688.000000  \n",
       "mean       0.047087     68.926717     7.122607  \n",
       "std        0.185577     13.944565     1.499804  \n",
       "min        0.000000     13.000000     0.000000  \n",
       "25%        0.000000     60.000000     6.400000  \n",
       "50%        0.010000     71.000000     7.500000  \n",
       "75%        0.030000     79.000000     8.200000  \n",
       "max       10.570000     98.000000     9.700000  "
      ]
     },
     "execution_count": 11,
     "metadata": {},
     "output_type": "execute_result"
    }
   ],
   "source": [
    "# после проведенной замены типов данных, оценим статистические показатели числовых столбцов\n",
    "df.describe()"
   ]
  },
  {
   "cell_type": "markdown",
   "id": "b39893cb",
   "metadata": {
    "id": "b39893cb"
   },
   "source": [
    "### Наличие пропусков в данных\n",
    "\n",
    "- Посчитайте количество пропусков в каждом столбце в абсолютных и относительных значениях.\n"
   ]
  },
  {
   "cell_type": "code",
   "execution_count": 12,
   "id": "0f1c91a8",
   "metadata": {
    "id": "0f1c91a8"
   },
   "outputs": [
    {
     "name": "stdout",
     "output_type": "stream",
     "text": [
      "<class 'pandas.core.frame.DataFrame'>\n",
      "RangeIndex: 16956 entries, 0 to 16955\n",
      "Data columns (total 11 columns):\n",
      " #   Column           Non-Null Count  Dtype  \n",
      "---  ------           --------------  -----  \n",
      " 0   name             16954 non-null  object \n",
      " 1   platform         16956 non-null  object \n",
      " 2   year_of_release  16681 non-null  float64\n",
      " 3   genre            16954 non-null  object \n",
      " 4   na_sales         16956 non-null  float64\n",
      " 5   eu_sales         16950 non-null  float64\n",
      " 6   jp_sales         16952 non-null  float64\n",
      " 7   other_sales      16956 non-null  float64\n",
      " 8   critic_score     8242 non-null   float64\n",
      " 9   user_score       7688 non-null   float64\n",
      " 10  rating           10085 non-null  object \n",
      "dtypes: float64(7), object(4)\n",
      "memory usage: 1.4+ MB\n"
     ]
    }
   ],
   "source": [
    "# выводим общую информацию о данных с измененными типами данных\n",
    "df.info()"
   ]
  },
  {
   "cell_type": "code",
   "execution_count": 13,
   "id": "86cd1cc1",
   "metadata": {
    "id": "86cd1cc1"
   },
   "outputs": [
    {
     "data": {
      "text/plain": [
       "name                  2\n",
       "platform              0\n",
       "year_of_release     275\n",
       "genre                 2\n",
       "na_sales              0\n",
       "eu_sales              6\n",
       "jp_sales              4\n",
       "other_sales           0\n",
       "critic_score       8714\n",
       "user_score         9268\n",
       "rating             6871\n",
       "dtype: int64"
      ]
     },
     "execution_count": 13,
     "metadata": {},
     "output_type": "execute_result"
    }
   ],
   "source": [
    "# считаем количество пропусков в каждом столбце \n",
    "df.isna().sum()"
   ]
  },
  {
   "cell_type": "code",
   "execution_count": 14,
   "id": "247a6cf7",
   "metadata": {
    "id": "247a6cf7"
   },
   "outputs": [
    {
     "data": {
      "text/plain": [
       "name                0.011795\n",
       "platform            0.000000\n",
       "year_of_release     1.621845\n",
       "genre               0.011795\n",
       "na_sales            0.000000\n",
       "eu_sales            0.035386\n",
       "jp_sales            0.023590\n",
       "other_sales         0.000000\n",
       "critic_score       51.391838\n",
       "user_score         54.659118\n",
       "rating             40.522529\n",
       "dtype: float64"
      ]
     },
     "execution_count": 14,
     "metadata": {},
     "output_type": "execute_result"
    }
   ],
   "source": [
    "# считаем процент пропусков по каждому столбцу\n",
    "df.isna().sum()/len(df) * 100"
   ]
  },
  {
   "cell_type": "markdown",
   "id": "e722fe05",
   "metadata": {
    "id": "b6965b19"
   },
   "source": [
    "Наибольшее количество пропусков характерно для последних трех столбцов с оценками и рейтингами (critic_score, user_score, rating). В каждом из них отсутствует примерно половина значений. Это может быть связано с тем, что при сборе данных не нашлось информации по оценкам данных игр, а лишь общие характеристики (все зависит от источника). Также, игры могут быьт слишком старые, либо слишком свежие.\n",
    "В столбцах name и genre по 2 пропуска, относящихся к одним и тем же строкам. Это скорее всего относится к ошибке при заполнении данных.\n",
    "В столбце year_of_release 275 пропусков, которые явно связаны с ошибкой при заполнении данных, так как в существенной части названия игр в конце пишется год выпуска (Как пример - Madden NFL 2004). \n",
    "В столбцах eu_sales и jp_sales 6 и 4 пропуска соответственно. Исходя из малого количества, можно предоположить, что это так же является ошибкой при заполнении данных. Возможен случай, что данные игры не продавались в этих регионах, что крайне мало вероятно. Так же возможен случай, что либо статистика по продажам в этих регионах по данным играм отсутствует, либо продажи ничтожно малы.\n"
   ]
  },
  {
   "cell_type": "code",
   "execution_count": 15,
   "id": "5eb29365",
   "metadata": {},
   "outputs": [
    {
     "data": {
      "text/html": [
       "<div>\n",
       "<style scoped>\n",
       "    .dataframe tbody tr th:only-of-type {\n",
       "        vertical-align: middle;\n",
       "    }\n",
       "\n",
       "    .dataframe tbody tr th {\n",
       "        vertical-align: top;\n",
       "    }\n",
       "\n",
       "    .dataframe thead th {\n",
       "        text-align: right;\n",
       "    }\n",
       "</style>\n",
       "<table border=\"1\" class=\"dataframe\">\n",
       "  <thead>\n",
       "    <tr style=\"text-align: right;\">\n",
       "      <th></th>\n",
       "      <th>name</th>\n",
       "      <th>platform</th>\n",
       "      <th>year_of_release</th>\n",
       "      <th>genre</th>\n",
       "      <th>na_sales</th>\n",
       "      <th>eu_sales</th>\n",
       "      <th>jp_sales</th>\n",
       "      <th>other_sales</th>\n",
       "      <th>critic_score</th>\n",
       "      <th>user_score</th>\n",
       "      <th>rating</th>\n",
       "    </tr>\n",
       "  </thead>\n",
       "  <tbody>\n",
       "    <tr>\n",
       "      <th>1</th>\n",
       "      <td>Super Mario Bros.</td>\n",
       "      <td>NES</td>\n",
       "      <td>1985.0</td>\n",
       "      <td>Platform</td>\n",
       "      <td>29.08</td>\n",
       "      <td>3.58</td>\n",
       "      <td>6.81</td>\n",
       "      <td>0.77</td>\n",
       "      <td>NaN</td>\n",
       "      <td>NaN</td>\n",
       "      <td>NaN</td>\n",
       "    </tr>\n",
       "    <tr>\n",
       "      <th>4</th>\n",
       "      <td>Pokemon Red/Pokemon Blue</td>\n",
       "      <td>GB</td>\n",
       "      <td>1996.0</td>\n",
       "      <td>Role-Playing</td>\n",
       "      <td>11.27</td>\n",
       "      <td>8.89</td>\n",
       "      <td>10.22</td>\n",
       "      <td>1.00</td>\n",
       "      <td>NaN</td>\n",
       "      <td>NaN</td>\n",
       "      <td>NaN</td>\n",
       "    </tr>\n",
       "    <tr>\n",
       "      <th>5</th>\n",
       "      <td>Tetris</td>\n",
       "      <td>GB</td>\n",
       "      <td>1989.0</td>\n",
       "      <td>Puzzle</td>\n",
       "      <td>23.20</td>\n",
       "      <td>2.26</td>\n",
       "      <td>4.22</td>\n",
       "      <td>0.58</td>\n",
       "      <td>NaN</td>\n",
       "      <td>NaN</td>\n",
       "      <td>NaN</td>\n",
       "    </tr>\n",
       "    <tr>\n",
       "      <th>9</th>\n",
       "      <td>Duck Hunt</td>\n",
       "      <td>NES</td>\n",
       "      <td>1984.0</td>\n",
       "      <td>Shooter</td>\n",
       "      <td>26.93</td>\n",
       "      <td>0.63</td>\n",
       "      <td>0.28</td>\n",
       "      <td>0.47</td>\n",
       "      <td>NaN</td>\n",
       "      <td>NaN</td>\n",
       "      <td>NaN</td>\n",
       "    </tr>\n",
       "    <tr>\n",
       "      <th>10</th>\n",
       "      <td>Nintendogs</td>\n",
       "      <td>DS</td>\n",
       "      <td>2005.0</td>\n",
       "      <td>Simulation</td>\n",
       "      <td>9.05</td>\n",
       "      <td>10.95</td>\n",
       "      <td>1.93</td>\n",
       "      <td>2.74</td>\n",
       "      <td>NaN</td>\n",
       "      <td>NaN</td>\n",
       "      <td>NaN</td>\n",
       "    </tr>\n",
       "    <tr>\n",
       "      <th>...</th>\n",
       "      <td>...</td>\n",
       "      <td>...</td>\n",
       "      <td>...</td>\n",
       "      <td>...</td>\n",
       "      <td>...</td>\n",
       "      <td>...</td>\n",
       "      <td>...</td>\n",
       "      <td>...</td>\n",
       "      <td>...</td>\n",
       "      <td>...</td>\n",
       "      <td>...</td>\n",
       "    </tr>\n",
       "    <tr>\n",
       "      <th>16951</th>\n",
       "      <td>Samurai Warriors: Sanada Maru</td>\n",
       "      <td>PS3</td>\n",
       "      <td>2016.0</td>\n",
       "      <td>Action</td>\n",
       "      <td>0.00</td>\n",
       "      <td>0.00</td>\n",
       "      <td>0.01</td>\n",
       "      <td>0.00</td>\n",
       "      <td>NaN</td>\n",
       "      <td>NaN</td>\n",
       "      <td>NaN</td>\n",
       "    </tr>\n",
       "    <tr>\n",
       "      <th>16952</th>\n",
       "      <td>LMA Manager 2007</td>\n",
       "      <td>X360</td>\n",
       "      <td>2006.0</td>\n",
       "      <td>Sports</td>\n",
       "      <td>0.00</td>\n",
       "      <td>0.01</td>\n",
       "      <td>0.00</td>\n",
       "      <td>0.00</td>\n",
       "      <td>NaN</td>\n",
       "      <td>NaN</td>\n",
       "      <td>NaN</td>\n",
       "    </tr>\n",
       "    <tr>\n",
       "      <th>16953</th>\n",
       "      <td>Haitaka no Psychedelica</td>\n",
       "      <td>PSV</td>\n",
       "      <td>2016.0</td>\n",
       "      <td>Adventure</td>\n",
       "      <td>0.00</td>\n",
       "      <td>0.00</td>\n",
       "      <td>0.01</td>\n",
       "      <td>0.00</td>\n",
       "      <td>NaN</td>\n",
       "      <td>NaN</td>\n",
       "      <td>NaN</td>\n",
       "    </tr>\n",
       "    <tr>\n",
       "      <th>16954</th>\n",
       "      <td>Spirits &amp; Spells</td>\n",
       "      <td>GBA</td>\n",
       "      <td>2003.0</td>\n",
       "      <td>Platform</td>\n",
       "      <td>0.01</td>\n",
       "      <td>0.00</td>\n",
       "      <td>0.00</td>\n",
       "      <td>0.00</td>\n",
       "      <td>NaN</td>\n",
       "      <td>NaN</td>\n",
       "      <td>NaN</td>\n",
       "    </tr>\n",
       "    <tr>\n",
       "      <th>16955</th>\n",
       "      <td>Winning Post 8 2016</td>\n",
       "      <td>PSV</td>\n",
       "      <td>2016.0</td>\n",
       "      <td>Simulation</td>\n",
       "      <td>0.00</td>\n",
       "      <td>0.00</td>\n",
       "      <td>0.01</td>\n",
       "      <td>0.00</td>\n",
       "      <td>NaN</td>\n",
       "      <td>NaN</td>\n",
       "      <td>NaN</td>\n",
       "    </tr>\n",
       "  </tbody>\n",
       "</table>\n",
       "<p>9921 rows × 11 columns</p>\n",
       "</div>"
      ],
      "text/plain": [
       "                                name platform  year_of_release         genre  \\\n",
       "1                  Super Mario Bros.      NES           1985.0      Platform   \n",
       "4           Pokemon Red/Pokemon Blue       GB           1996.0  Role-Playing   \n",
       "5                             Tetris       GB           1989.0        Puzzle   \n",
       "9                          Duck Hunt      NES           1984.0       Shooter   \n",
       "10                        Nintendogs       DS           2005.0    Simulation   \n",
       "...                              ...      ...              ...           ...   \n",
       "16951  Samurai Warriors: Sanada Maru      PS3           2016.0        Action   \n",
       "16952               LMA Manager 2007     X360           2006.0        Sports   \n",
       "16953        Haitaka no Psychedelica      PSV           2016.0     Adventure   \n",
       "16954               Spirits & Spells      GBA           2003.0      Platform   \n",
       "16955            Winning Post 8 2016      PSV           2016.0    Simulation   \n",
       "\n",
       "       na_sales  eu_sales  jp_sales  other_sales  critic_score  user_score  \\\n",
       "1         29.08      3.58      6.81         0.77           NaN         NaN   \n",
       "4         11.27      8.89     10.22         1.00           NaN         NaN   \n",
       "5         23.20      2.26      4.22         0.58           NaN         NaN   \n",
       "9         26.93      0.63      0.28         0.47           NaN         NaN   \n",
       "10         9.05     10.95      1.93         2.74           NaN         NaN   \n",
       "...         ...       ...       ...          ...           ...         ...   \n",
       "16951      0.00      0.00      0.01         0.00           NaN         NaN   \n",
       "16952      0.00      0.01      0.00         0.00           NaN         NaN   \n",
       "16953      0.00      0.00      0.01         0.00           NaN         NaN   \n",
       "16954      0.01      0.00      0.00         0.00           NaN         NaN   \n",
       "16955      0.00      0.00      0.01         0.00           NaN         NaN   \n",
       "\n",
       "      rating  \n",
       "1        NaN  \n",
       "4        NaN  \n",
       "5        NaN  \n",
       "9        NaN  \n",
       "10       NaN  \n",
       "...      ...  \n",
       "16951    NaN  \n",
       "16952    NaN  \n",
       "16953    NaN  \n",
       "16954    NaN  \n",
       "16955    NaN  \n",
       "\n",
       "[9921 rows x 11 columns]"
      ]
     },
     "execution_count": 15,
     "metadata": {},
     "output_type": "execute_result"
    }
   ],
   "source": [
    "# выводим строки с отсутствующими оценками и рейтингами\n",
    "df[(df['critic_score'].isnull()) | (df['user_score'].isnull()) | (df['rating'].isnull())]"
   ]
  },
  {
   "cell_type": "code",
   "execution_count": 16,
   "id": "a271b1a0",
   "metadata": {},
   "outputs": [
    {
     "data": {
      "text/html": [
       "<div>\n",
       "<style scoped>\n",
       "    .dataframe tbody tr th:only-of-type {\n",
       "        vertical-align: middle;\n",
       "    }\n",
       "\n",
       "    .dataframe tbody tr th {\n",
       "        vertical-align: top;\n",
       "    }\n",
       "\n",
       "    .dataframe thead th {\n",
       "        text-align: right;\n",
       "    }\n",
       "</style>\n",
       "<table border=\"1\" class=\"dataframe\">\n",
       "  <thead>\n",
       "    <tr style=\"text-align: right;\">\n",
       "      <th></th>\n",
       "      <th>name</th>\n",
       "      <th>platform</th>\n",
       "      <th>year_of_release</th>\n",
       "      <th>genre</th>\n",
       "      <th>na_sales</th>\n",
       "      <th>eu_sales</th>\n",
       "      <th>jp_sales</th>\n",
       "      <th>other_sales</th>\n",
       "      <th>critic_score</th>\n",
       "      <th>user_score</th>\n",
       "      <th>rating</th>\n",
       "    </tr>\n",
       "  </thead>\n",
       "  <tbody>\n",
       "    <tr>\n",
       "      <th>661</th>\n",
       "      <td>NaN</td>\n",
       "      <td>GEN</td>\n",
       "      <td>1993.0</td>\n",
       "      <td>NaN</td>\n",
       "      <td>1.78</td>\n",
       "      <td>0.53</td>\n",
       "      <td>0.00</td>\n",
       "      <td>0.08</td>\n",
       "      <td>NaN</td>\n",
       "      <td>NaN</td>\n",
       "      <td>NaN</td>\n",
       "    </tr>\n",
       "    <tr>\n",
       "      <th>14439</th>\n",
       "      <td>NaN</td>\n",
       "      <td>GEN</td>\n",
       "      <td>1993.0</td>\n",
       "      <td>NaN</td>\n",
       "      <td>0.00</td>\n",
       "      <td>0.00</td>\n",
       "      <td>0.03</td>\n",
       "      <td>0.00</td>\n",
       "      <td>NaN</td>\n",
       "      <td>NaN</td>\n",
       "      <td>NaN</td>\n",
       "    </tr>\n",
       "  </tbody>\n",
       "</table>\n",
       "</div>"
      ],
      "text/plain": [
       "      name platform  year_of_release genre  na_sales  eu_sales  jp_sales  \\\n",
       "661    NaN      GEN           1993.0   NaN      1.78      0.53      0.00   \n",
       "14439  NaN      GEN           1993.0   NaN      0.00      0.00      0.03   \n",
       "\n",
       "       other_sales  critic_score  user_score rating  \n",
       "661           0.08           NaN         NaN    NaN  \n",
       "14439         0.00           NaN         NaN    NaN  "
      ]
     },
     "execution_count": 16,
     "metadata": {},
     "output_type": "execute_result"
    }
   ],
   "source": [
    "# выводим строки с отсутствующими значениями названия игр и жанра\n",
    "df[df['name'].isnull()]"
   ]
  },
  {
   "cell_type": "code",
   "execution_count": 17,
   "id": "6324cf4c",
   "metadata": {},
   "outputs": [
    {
     "data": {
      "text/html": [
       "<div>\n",
       "<style scoped>\n",
       "    .dataframe tbody tr th:only-of-type {\n",
       "        vertical-align: middle;\n",
       "    }\n",
       "\n",
       "    .dataframe tbody tr th {\n",
       "        vertical-align: top;\n",
       "    }\n",
       "\n",
       "    .dataframe thead th {\n",
       "        text-align: right;\n",
       "    }\n",
       "</style>\n",
       "<table border=\"1\" class=\"dataframe\">\n",
       "  <thead>\n",
       "    <tr style=\"text-align: right;\">\n",
       "      <th></th>\n",
       "      <th>name</th>\n",
       "      <th>platform</th>\n",
       "      <th>year_of_release</th>\n",
       "      <th>genre</th>\n",
       "      <th>na_sales</th>\n",
       "      <th>eu_sales</th>\n",
       "      <th>jp_sales</th>\n",
       "      <th>other_sales</th>\n",
       "      <th>critic_score</th>\n",
       "      <th>user_score</th>\n",
       "      <th>rating</th>\n",
       "    </tr>\n",
       "  </thead>\n",
       "  <tbody>\n",
       "    <tr>\n",
       "      <th>183</th>\n",
       "      <td>Madden NFL 2004</td>\n",
       "      <td>PS2</td>\n",
       "      <td>NaN</td>\n",
       "      <td>Sports</td>\n",
       "      <td>4.26</td>\n",
       "      <td>0.26</td>\n",
       "      <td>0.01</td>\n",
       "      <td>0.71</td>\n",
       "      <td>94.0</td>\n",
       "      <td>8.5</td>\n",
       "      <td>E</td>\n",
       "    </tr>\n",
       "    <tr>\n",
       "      <th>379</th>\n",
       "      <td>FIFA Soccer 2004</td>\n",
       "      <td>PS2</td>\n",
       "      <td>NaN</td>\n",
       "      <td>Sports</td>\n",
       "      <td>0.59</td>\n",
       "      <td>2.36</td>\n",
       "      <td>0.04</td>\n",
       "      <td>0.51</td>\n",
       "      <td>84.0</td>\n",
       "      <td>6.4</td>\n",
       "      <td>E</td>\n",
       "    </tr>\n",
       "    <tr>\n",
       "      <th>458</th>\n",
       "      <td>LEGO Batman: The Videogame</td>\n",
       "      <td>Wii</td>\n",
       "      <td>NaN</td>\n",
       "      <td>Action</td>\n",
       "      <td>1.80</td>\n",
       "      <td>0.97</td>\n",
       "      <td>0.00</td>\n",
       "      <td>0.29</td>\n",
       "      <td>74.0</td>\n",
       "      <td>7.9</td>\n",
       "      <td>E10+</td>\n",
       "    </tr>\n",
       "    <tr>\n",
       "      <th>477</th>\n",
       "      <td>wwe Smackdown vs. Raw 2006</td>\n",
       "      <td>PS2</td>\n",
       "      <td>NaN</td>\n",
       "      <td>Fighting</td>\n",
       "      <td>1.57</td>\n",
       "      <td>1.02</td>\n",
       "      <td>0.00</td>\n",
       "      <td>0.41</td>\n",
       "      <td>NaN</td>\n",
       "      <td>NaN</td>\n",
       "      <td>NaN</td>\n",
       "    </tr>\n",
       "    <tr>\n",
       "      <th>611</th>\n",
       "      <td>Space Invaders</td>\n",
       "      <td>2600</td>\n",
       "      <td>NaN</td>\n",
       "      <td>Shooter</td>\n",
       "      <td>2.36</td>\n",
       "      <td>0.14</td>\n",
       "      <td>0.00</td>\n",
       "      <td>0.03</td>\n",
       "      <td>NaN</td>\n",
       "      <td>NaN</td>\n",
       "      <td>NaN</td>\n",
       "    </tr>\n",
       "    <tr>\n",
       "      <th>...</th>\n",
       "      <td>...</td>\n",
       "      <td>...</td>\n",
       "      <td>...</td>\n",
       "      <td>...</td>\n",
       "      <td>...</td>\n",
       "      <td>...</td>\n",
       "      <td>...</td>\n",
       "      <td>...</td>\n",
       "      <td>...</td>\n",
       "      <td>...</td>\n",
       "      <td>...</td>\n",
       "    </tr>\n",
       "    <tr>\n",
       "      <th>16609</th>\n",
       "      <td>PDC World Championship Darts 2008</td>\n",
       "      <td>PSP</td>\n",
       "      <td>NaN</td>\n",
       "      <td>Sports</td>\n",
       "      <td>0.01</td>\n",
       "      <td>0.00</td>\n",
       "      <td>0.00</td>\n",
       "      <td>0.00</td>\n",
       "      <td>43.0</td>\n",
       "      <td>NaN</td>\n",
       "      <td>E10+</td>\n",
       "    </tr>\n",
       "    <tr>\n",
       "      <th>16641</th>\n",
       "      <td>Freaky Flyers</td>\n",
       "      <td>GC</td>\n",
       "      <td>NaN</td>\n",
       "      <td>Racing</td>\n",
       "      <td>0.01</td>\n",
       "      <td>0.00</td>\n",
       "      <td>0.00</td>\n",
       "      <td>0.00</td>\n",
       "      <td>69.0</td>\n",
       "      <td>6.5</td>\n",
       "      <td>T</td>\n",
       "    </tr>\n",
       "    <tr>\n",
       "      <th>16685</th>\n",
       "      <td>Inversion</td>\n",
       "      <td>PC</td>\n",
       "      <td>NaN</td>\n",
       "      <td>Shooter</td>\n",
       "      <td>0.01</td>\n",
       "      <td>0.00</td>\n",
       "      <td>0.00</td>\n",
       "      <td>0.00</td>\n",
       "      <td>59.0</td>\n",
       "      <td>6.7</td>\n",
       "      <td>M</td>\n",
       "    </tr>\n",
       "    <tr>\n",
       "      <th>16695</th>\n",
       "      <td>Hakuouki: Shinsengumi Kitan</td>\n",
       "      <td>PS3</td>\n",
       "      <td>NaN</td>\n",
       "      <td>Adventure</td>\n",
       "      <td>0.01</td>\n",
       "      <td>0.00</td>\n",
       "      <td>0.00</td>\n",
       "      <td>0.00</td>\n",
       "      <td>NaN</td>\n",
       "      <td>NaN</td>\n",
       "      <td>NaN</td>\n",
       "    </tr>\n",
       "    <tr>\n",
       "      <th>16760</th>\n",
       "      <td>Virtua Quest</td>\n",
       "      <td>GC</td>\n",
       "      <td>NaN</td>\n",
       "      <td>Role-Playing</td>\n",
       "      <td>0.01</td>\n",
       "      <td>0.00</td>\n",
       "      <td>0.00</td>\n",
       "      <td>0.00</td>\n",
       "      <td>55.0</td>\n",
       "      <td>5.5</td>\n",
       "      <td>T</td>\n",
       "    </tr>\n",
       "  </tbody>\n",
       "</table>\n",
       "<p>275 rows × 11 columns</p>\n",
       "</div>"
      ],
      "text/plain": [
       "                                    name platform  year_of_release  \\\n",
       "183                      Madden NFL 2004      PS2              NaN   \n",
       "379                     FIFA Soccer 2004      PS2              NaN   \n",
       "458           LEGO Batman: The Videogame      Wii              NaN   \n",
       "477           wwe Smackdown vs. Raw 2006      PS2              NaN   \n",
       "611                       Space Invaders     2600              NaN   \n",
       "...                                  ...      ...              ...   \n",
       "16609  PDC World Championship Darts 2008      PSP              NaN   \n",
       "16641                      Freaky Flyers       GC              NaN   \n",
       "16685                          Inversion       PC              NaN   \n",
       "16695        Hakuouki: Shinsengumi Kitan      PS3              NaN   \n",
       "16760                       Virtua Quest       GC              NaN   \n",
       "\n",
       "              genre  na_sales  eu_sales  jp_sales  other_sales  critic_score  \\\n",
       "183          Sports      4.26      0.26      0.01         0.71          94.0   \n",
       "379          Sports      0.59      2.36      0.04         0.51          84.0   \n",
       "458          Action      1.80      0.97      0.00         0.29          74.0   \n",
       "477        Fighting      1.57      1.02      0.00         0.41           NaN   \n",
       "611         Shooter      2.36      0.14      0.00         0.03           NaN   \n",
       "...             ...       ...       ...       ...          ...           ...   \n",
       "16609        Sports      0.01      0.00      0.00         0.00          43.0   \n",
       "16641        Racing      0.01      0.00      0.00         0.00          69.0   \n",
       "16685       Shooter      0.01      0.00      0.00         0.00          59.0   \n",
       "16695     Adventure      0.01      0.00      0.00         0.00           NaN   \n",
       "16760  Role-Playing      0.01      0.00      0.00         0.00          55.0   \n",
       "\n",
       "       user_score rating  \n",
       "183           8.5      E  \n",
       "379           6.4      E  \n",
       "458           7.9   E10+  \n",
       "477           NaN    NaN  \n",
       "611           NaN    NaN  \n",
       "...           ...    ...  \n",
       "16609         NaN   E10+  \n",
       "16641         6.5      T  \n",
       "16685         6.7      M  \n",
       "16695         NaN    NaN  \n",
       "16760         5.5      T  \n",
       "\n",
       "[275 rows x 11 columns]"
      ]
     },
     "execution_count": 17,
     "metadata": {},
     "output_type": "execute_result"
    }
   ],
   "source": [
    "# выводим строки с отсутствующим годом издания игр\n",
    "df[df['year_of_release'].isnull()]"
   ]
  },
  {
   "cell_type": "code",
   "execution_count": 18,
   "id": "57fe43f6",
   "metadata": {},
   "outputs": [
    {
     "data": {
      "text/html": [
       "<div>\n",
       "<style scoped>\n",
       "    .dataframe tbody tr th:only-of-type {\n",
       "        vertical-align: middle;\n",
       "    }\n",
       "\n",
       "    .dataframe tbody tr th {\n",
       "        vertical-align: top;\n",
       "    }\n",
       "\n",
       "    .dataframe thead th {\n",
       "        text-align: right;\n",
       "    }\n",
       "</style>\n",
       "<table border=\"1\" class=\"dataframe\">\n",
       "  <thead>\n",
       "    <tr style=\"text-align: right;\">\n",
       "      <th></th>\n",
       "      <th>name</th>\n",
       "      <th>platform</th>\n",
       "      <th>year_of_release</th>\n",
       "      <th>genre</th>\n",
       "      <th>na_sales</th>\n",
       "      <th>eu_sales</th>\n",
       "      <th>jp_sales</th>\n",
       "      <th>other_sales</th>\n",
       "      <th>critic_score</th>\n",
       "      <th>user_score</th>\n",
       "      <th>rating</th>\n",
       "    </tr>\n",
       "  </thead>\n",
       "  <tbody>\n",
       "    <tr>\n",
       "      <th>446</th>\n",
       "      <td>Rhythm Heaven</td>\n",
       "      <td>DS</td>\n",
       "      <td>2008.0</td>\n",
       "      <td>Misc</td>\n",
       "      <td>0.55</td>\n",
       "      <td>NaN</td>\n",
       "      <td>1.93</td>\n",
       "      <td>0.13</td>\n",
       "      <td>83.0</td>\n",
       "      <td>9.0</td>\n",
       "      <td>E</td>\n",
       "    </tr>\n",
       "    <tr>\n",
       "      <th>467</th>\n",
       "      <td>Saints Row 2</td>\n",
       "      <td>X360</td>\n",
       "      <td>2008.0</td>\n",
       "      <td>Action</td>\n",
       "      <td>1.94</td>\n",
       "      <td>0.79</td>\n",
       "      <td>NaN</td>\n",
       "      <td>0.28</td>\n",
       "      <td>81.0</td>\n",
       "      <td>8.1</td>\n",
       "      <td>M</td>\n",
       "    </tr>\n",
       "    <tr>\n",
       "      <th>802</th>\n",
       "      <td>Dead Rising</td>\n",
       "      <td>X360</td>\n",
       "      <td>2006.0</td>\n",
       "      <td>Action</td>\n",
       "      <td>1.16</td>\n",
       "      <td>NaN</td>\n",
       "      <td>0.08</td>\n",
       "      <td>0.20</td>\n",
       "      <td>85.0</td>\n",
       "      <td>7.6</td>\n",
       "      <td>M</td>\n",
       "    </tr>\n",
       "    <tr>\n",
       "      <th>819</th>\n",
       "      <td>UFC 2009 Undisputed</td>\n",
       "      <td>X360</td>\n",
       "      <td>2009.0</td>\n",
       "      <td>Fighting</td>\n",
       "      <td>1.48</td>\n",
       "      <td>0.39</td>\n",
       "      <td>NaN</td>\n",
       "      <td>0.19</td>\n",
       "      <td>83.0</td>\n",
       "      <td>7.9</td>\n",
       "      <td>T</td>\n",
       "    </tr>\n",
       "    <tr>\n",
       "      <th>1131</th>\n",
       "      <td>Prince of Persia: Warrior Within</td>\n",
       "      <td>PS2</td>\n",
       "      <td>2004.0</td>\n",
       "      <td>Action</td>\n",
       "      <td>0.54</td>\n",
       "      <td>NaN</td>\n",
       "      <td>0.00</td>\n",
       "      <td>0.22</td>\n",
       "      <td>83.0</td>\n",
       "      <td>8.5</td>\n",
       "      <td>M</td>\n",
       "    </tr>\n",
       "    <tr>\n",
       "      <th>1132</th>\n",
       "      <td>Far Cry 4</td>\n",
       "      <td>XOne</td>\n",
       "      <td>2014.0</td>\n",
       "      <td>Shooter</td>\n",
       "      <td>0.80</td>\n",
       "      <td>NaN</td>\n",
       "      <td>0.01</td>\n",
       "      <td>0.14</td>\n",
       "      <td>82.0</td>\n",
       "      <td>7.5</td>\n",
       "      <td>M</td>\n",
       "    </tr>\n",
       "    <tr>\n",
       "      <th>1379</th>\n",
       "      <td>Hello Kitty Party</td>\n",
       "      <td>DS</td>\n",
       "      <td>2007.0</td>\n",
       "      <td>Misc</td>\n",
       "      <td>0.78</td>\n",
       "      <td>0.51</td>\n",
       "      <td>NaN</td>\n",
       "      <td>0.12</td>\n",
       "      <td>NaN</td>\n",
       "      <td>NaN</td>\n",
       "      <td>E</td>\n",
       "    </tr>\n",
       "    <tr>\n",
       "      <th>1394</th>\n",
       "      <td>Sonic Advance 3</td>\n",
       "      <td>GBA</td>\n",
       "      <td>2004.0</td>\n",
       "      <td>Platform</td>\n",
       "      <td>0.74</td>\n",
       "      <td>NaN</td>\n",
       "      <td>0.08</td>\n",
       "      <td>0.06</td>\n",
       "      <td>79.0</td>\n",
       "      <td>8.4</td>\n",
       "      <td>E</td>\n",
       "    </tr>\n",
       "    <tr>\n",
       "      <th>1612</th>\n",
       "      <td>Ratatouille</td>\n",
       "      <td>DS</td>\n",
       "      <td>2007.0</td>\n",
       "      <td>Action</td>\n",
       "      <td>0.49</td>\n",
       "      <td>NaN</td>\n",
       "      <td>0.00</td>\n",
       "      <td>0.14</td>\n",
       "      <td>NaN</td>\n",
       "      <td>NaN</td>\n",
       "      <td>NaN</td>\n",
       "    </tr>\n",
       "    <tr>\n",
       "      <th>4732</th>\n",
       "      <td>Castlevania: The Dracula X Chronicles</td>\n",
       "      <td>PSP</td>\n",
       "      <td>2007.0</td>\n",
       "      <td>Platform</td>\n",
       "      <td>0.22</td>\n",
       "      <td>0.09</td>\n",
       "      <td>NaN</td>\n",
       "      <td>0.07</td>\n",
       "      <td>80.0</td>\n",
       "      <td>7.8</td>\n",
       "      <td>T</td>\n",
       "    </tr>\n",
       "  </tbody>\n",
       "</table>\n",
       "</div>"
      ],
      "text/plain": [
       "                                       name platform  year_of_release  \\\n",
       "446                           Rhythm Heaven       DS           2008.0   \n",
       "467                            Saints Row 2     X360           2008.0   \n",
       "802                             Dead Rising     X360           2006.0   \n",
       "819                     UFC 2009 Undisputed     X360           2009.0   \n",
       "1131       Prince of Persia: Warrior Within      PS2           2004.0   \n",
       "1132                              Far Cry 4     XOne           2014.0   \n",
       "1379                      Hello Kitty Party       DS           2007.0   \n",
       "1394                        Sonic Advance 3      GBA           2004.0   \n",
       "1612                            Ratatouille       DS           2007.0   \n",
       "4732  Castlevania: The Dracula X Chronicles      PSP           2007.0   \n",
       "\n",
       "         genre  na_sales  eu_sales  jp_sales  other_sales  critic_score  \\\n",
       "446       Misc      0.55       NaN      1.93         0.13          83.0   \n",
       "467     Action      1.94      0.79       NaN         0.28          81.0   \n",
       "802     Action      1.16       NaN      0.08         0.20          85.0   \n",
       "819   Fighting      1.48      0.39       NaN         0.19          83.0   \n",
       "1131    Action      0.54       NaN      0.00         0.22          83.0   \n",
       "1132   Shooter      0.80       NaN      0.01         0.14          82.0   \n",
       "1379      Misc      0.78      0.51       NaN         0.12           NaN   \n",
       "1394  Platform      0.74       NaN      0.08         0.06          79.0   \n",
       "1612    Action      0.49       NaN      0.00         0.14           NaN   \n",
       "4732  Platform      0.22      0.09       NaN         0.07          80.0   \n",
       "\n",
       "      user_score rating  \n",
       "446          9.0      E  \n",
       "467          8.1      M  \n",
       "802          7.6      M  \n",
       "819          7.9      T  \n",
       "1131         8.5      M  \n",
       "1132         7.5      M  \n",
       "1379         NaN      E  \n",
       "1394         8.4      E  \n",
       "1612         NaN    NaN  \n",
       "4732         7.8      T  "
      ]
     },
     "execution_count": 18,
     "metadata": {},
     "output_type": "execute_result"
    }
   ],
   "source": [
    "# выводим строки с отсутствующими значениями продаж в Европе и Японии \n",
    "df[(df['eu_sales'].isnull()) | (df['jp_sales'].isnull())]"
   ]
  },
  {
   "cell_type": "code",
   "execution_count": 19,
   "id": "154be65d",
   "metadata": {
    "id": "154be65d"
   },
   "outputs": [
    {
     "name": "stdout",
     "output_type": "stream",
     "text": [
      "<class 'pandas.core.frame.DataFrame'>\n",
      "Index: 16954 entries, 0 to 16955\n",
      "Data columns (total 11 columns):\n",
      " #   Column           Non-Null Count  Dtype  \n",
      "---  ------           --------------  -----  \n",
      " 0   name             16954 non-null  object \n",
      " 1   platform         16954 non-null  object \n",
      " 2   year_of_release  16679 non-null  float64\n",
      " 3   genre            16954 non-null  object \n",
      " 4   na_sales         16954 non-null  float64\n",
      " 5   eu_sales         16948 non-null  float64\n",
      " 6   jp_sales         16950 non-null  float64\n",
      " 7   other_sales      16954 non-null  float64\n",
      " 8   critic_score     8242 non-null   float64\n",
      " 9   user_score       7688 non-null   float64\n",
      " 10  rating           10085 non-null  object \n",
      "dtypes: float64(7), object(4)\n",
      "memory usage: 1.6+ MB\n"
     ]
    }
   ],
   "source": [
    "# дропаем 2 строки с неизвестными названием и жанром игр и убедимся, что строк стало на 2 меньше\n",
    "df = df.dropna(subset = ['name'])\n",
    "df.info()"
   ]
  },
  {
   "cell_type": "code",
   "execution_count": 20,
   "id": "3f42817b",
   "metadata": {
    "id": "3f42817b"
   },
   "outputs": [],
   "source": [
    "# заменим отсутствующие оценки на значение-индикатор -1, так как отсутствующие данные составляют почти половину \n",
    "# от всех -- их удаление сильно исказит статистику\n",
    "df['critic_score'] = df['critic_score'].fillna(-1)"
   ]
  },
  {
   "cell_type": "code",
   "execution_count": 21,
   "id": "2784c760",
   "metadata": {
    "id": "2784c760"
   },
   "outputs": [],
   "source": [
    "# заменим отсутствующие оценки на значение-индикатор -1, так как отсутствующие данные составляют почти половину \n",
    "# от всех -- их удаление сильно исказит статистику\n",
    "df['user_score'] = df['user_score'].fillna(-1)"
   ]
  },
  {
   "cell_type": "code",
   "execution_count": 22,
   "id": "ad8d4d99",
   "metadata": {},
   "outputs": [],
   "source": [
    "# заменяем пропуски в столбце eu_sales на медианное значение по группе \"платформа-год выпуска\". Выбрал медиану, а не среднее\n",
    "# значение, так как 75% процентиль равен 0.11, а максимальное 28.96\n",
    "def median_group_eu(x):\n",
    "    if pd.isna(x['eu_sales']):\n",
    "        group = df[(df['platform'] == x['platform']) & (df['year_of_release'] == x['year_of_release'])]\n",
    "        return group['eu_sales'].median\n",
    "    else:\n",
    "        return x['eu_sales']\n",
    "df['eu_sales'] = df.apply(median_group_eu, axis =1)"
   ]
  },
  {
   "cell_type": "code",
   "execution_count": 23,
   "id": "6c720fe6",
   "metadata": {},
   "outputs": [],
   "source": [
    "# делаем то же самое для jp_sales\n",
    "def median_group_jp(x):\n",
    "    if pd.isna(x['jp_sales']):\n",
    "        group = df[(df['platform'] == x['platform']) & (df['year_of_release'] == x['year_of_release'])]\n",
    "        return group['jp_sales'].median\n",
    "    else:\n",
    "        return x['jp_sales']\n",
    "df['jp_sales'] = df.apply(median_group_jp, axis =1)"
   ]
  },
  {
   "cell_type": "code",
   "execution_count": 24,
   "id": "9321f29b",
   "metadata": {},
   "outputs": [],
   "source": [
    "# вынуждено заменяю на 0 пропуски в году выпуска и меняю тип данных на int\n",
    "df['year_of_release'] = df['year_of_release'].fillna(0)\n",
    "df['year_of_release'] = df['year_of_release'].astype('int64')"
   ]
  },
  {
   "cell_type": "markdown",
   "id": "a63363fd",
   "metadata": {
    "id": "a63363fd"
   },
   "source": [
    "### Явные и неявные дубликаты в данных\n",
    "\n",
    "- Изучите уникальные значения в категориальных данных, например с названиями жанра игры, платформы, рейтинга и года выпуска. Проверьте, встречаются ли среди данных неявные дубликаты, связанные с опечатками или разным способом написания.\n",
    "- При необходимости проведите нормализацию данных с текстовыми значениями. Названия или жанры игр можно привести к нижнему регистру, а названия рейтинга — к верхнему."
   ]
  },
  {
   "cell_type": "code",
   "execution_count": 25,
   "id": "c9ebffe4",
   "metadata": {},
   "outputs": [
    {
     "data": {
      "text/plain": [
       "array(['Sports', 'Platform', 'Racing', 'Role-Playing', 'Puzzle', 'Misc',\n",
       "       'Shooter', 'Simulation', 'Action', 'Fighting', 'Adventure',\n",
       "       'Strategy', 'MISC', 'ROLE-PLAYING', 'RACING', 'ACTION', 'SHOOTER',\n",
       "       'FIGHTING', 'SPORTS', 'PLATFORM', 'ADVENTURE', 'SIMULATION',\n",
       "       'PUZZLE', 'STRATEGY'], dtype=object)"
      ]
     },
     "execution_count": 25,
     "metadata": {},
     "output_type": "execute_result"
    }
   ],
   "source": [
    "# выводим уникальные названия жанра\n",
    "df['genre'].unique()"
   ]
  },
  {
   "cell_type": "code",
   "execution_count": 26,
   "id": "6ebce1f3",
   "metadata": {},
   "outputs": [
    {
     "data": {
      "text/plain": [
       "array(['sports', 'platform', 'racing', 'role-playing', 'puzzle', 'misc',\n",
       "       'shooter', 'simulation', 'action', 'fighting', 'adventure',\n",
       "       'strategy'], dtype=object)"
      ]
     },
     "execution_count": 26,
     "metadata": {},
     "output_type": "execute_result"
    }
   ],
   "source": [
    "# приводим названия к нижнему регистру, тем самым избавляясь от дубликатов\n",
    "df['genre']=df['genre'].str.lower()\n",
    "df['genre'].unique()"
   ]
  },
  {
   "cell_type": "code",
   "execution_count": 27,
   "id": "491c9c39",
   "metadata": {
    "id": "491c9c39"
   },
   "outputs": [
    {
     "data": {
      "text/plain": [
       "array(['Wii', 'NES', 'GB', 'DS', 'X360', 'PS3', 'PS2', 'SNES', 'GBA',\n",
       "       'PS4', '3DS', 'N64', 'PS', 'XB', 'PC', '2600', 'PSP', 'XOne',\n",
       "       'WiiU', 'GC', 'GEN', 'DC', 'PSV', 'SAT', 'SCD', 'WS', 'NG', 'TG16',\n",
       "       '3DO', 'GG', 'PCFX'], dtype=object)"
      ]
     },
     "execution_count": 27,
     "metadata": {},
     "output_type": "execute_result"
    }
   ],
   "source": [
    "# выводим уникальные названия платформ - дубликатов нет\n",
    "df['platform'].unique()"
   ]
  },
  {
   "cell_type": "code",
   "execution_count": 28,
   "id": "f1627198",
   "metadata": {
    "id": "f1627198"
   },
   "outputs": [
    {
     "data": {
      "text/plain": [
       "11559"
      ]
     },
     "execution_count": 28,
     "metadata": {},
     "output_type": "execute_result"
    }
   ],
   "source": [
    "# выводим число уникальных названий игр\n",
    "df['name'].nunique()"
   ]
  },
  {
   "cell_type": "code",
   "execution_count": 29,
   "id": "0065eafe",
   "metadata": {},
   "outputs": [
    {
     "data": {
      "text/plain": [
       "11559"
      ]
     },
     "execution_count": 29,
     "metadata": {},
     "output_type": "execute_result"
    }
   ],
   "source": [
    "# приводим названия к одному стилю - дубликатов нет\n",
    "df['name']=df['name'].str.lower()\n",
    "df['name'].nunique()"
   ]
  },
  {
   "cell_type": "code",
   "execution_count": 30,
   "id": "2c8214dd",
   "metadata": {},
   "outputs": [
    {
     "data": {
      "text/plain": [
       "array(['E', nan, 'M', 'T', 'E10+', 'K-A', 'AO', 'EC', 'RP'], dtype=object)"
      ]
     },
     "execution_count": 30,
     "metadata": {},
     "output_type": "execute_result"
    }
   ],
   "source": [
    "# выводим число уникальных названий рейтинга ESRB\n",
    "df['rating'].unique()"
   ]
  },
  {
   "cell_type": "code",
   "execution_count": 31,
   "id": "a0cac80c",
   "metadata": {
    "id": "a0cac80c"
   },
   "outputs": [
    {
     "data": {
      "text/html": [
       "<div>\n",
       "<style scoped>\n",
       "    .dataframe tbody tr th:only-of-type {\n",
       "        vertical-align: middle;\n",
       "    }\n",
       "\n",
       "    .dataframe tbody tr th {\n",
       "        vertical-align: top;\n",
       "    }\n",
       "\n",
       "    .dataframe thead th {\n",
       "        text-align: right;\n",
       "    }\n",
       "</style>\n",
       "<table border=\"1\" class=\"dataframe\">\n",
       "  <thead>\n",
       "    <tr style=\"text-align: right;\">\n",
       "      <th></th>\n",
       "      <th>name</th>\n",
       "      <th>platform</th>\n",
       "      <th>year_of_release</th>\n",
       "      <th>genre</th>\n",
       "      <th>na_sales</th>\n",
       "      <th>eu_sales</th>\n",
       "      <th>jp_sales</th>\n",
       "      <th>other_sales</th>\n",
       "      <th>critic_score</th>\n",
       "      <th>user_score</th>\n",
       "      <th>rating</th>\n",
       "    </tr>\n",
       "  </thead>\n",
       "  <tbody>\n",
       "    <tr>\n",
       "      <th>658</th>\n",
       "      <td>theme hospital</td>\n",
       "      <td>PC</td>\n",
       "      <td>1997</td>\n",
       "      <td>strategy</td>\n",
       "      <td>2.30</td>\n",
       "      <td>0.1</td>\n",
       "      <td>0.0</td>\n",
       "      <td>0.00</td>\n",
       "      <td>-1.0</td>\n",
       "      <td>9.0</td>\n",
       "      <td>K-A</td>\n",
       "    </tr>\n",
       "    <tr>\n",
       "      <th>908</th>\n",
       "      <td>parappa the rapper</td>\n",
       "      <td>PS</td>\n",
       "      <td>1996</td>\n",
       "      <td>misc</td>\n",
       "      <td>0.26</td>\n",
       "      <td>0.16</td>\n",
       "      <td>1.46</td>\n",
       "      <td>0.03</td>\n",
       "      <td>92.0</td>\n",
       "      <td>7.4</td>\n",
       "      <td>K-A</td>\n",
       "    </tr>\n",
       "    <tr>\n",
       "      <th>16921</th>\n",
       "      <td>worms 2</td>\n",
       "      <td>PC</td>\n",
       "      <td>1997</td>\n",
       "      <td>strategy</td>\n",
       "      <td>0.00</td>\n",
       "      <td>0.01</td>\n",
       "      <td>0.0</td>\n",
       "      <td>0.00</td>\n",
       "      <td>-1.0</td>\n",
       "      <td>8.1</td>\n",
       "      <td>K-A</td>\n",
       "    </tr>\n",
       "  </tbody>\n",
       "</table>\n",
       "</div>"
      ],
      "text/plain": [
       "                     name platform  year_of_release     genre  na_sales  \\\n",
       "658        theme hospital       PC             1997  strategy      2.30   \n",
       "908    parappa the rapper       PS             1996      misc      0.26   \n",
       "16921             worms 2       PC             1997  strategy      0.00   \n",
       "\n",
       "      eu_sales jp_sales  other_sales  critic_score  user_score rating  \n",
       "658        0.1      0.0         0.00          -1.0         9.0    K-A  \n",
       "908       0.16     1.46         0.03          92.0         7.4    K-A  \n",
       "16921     0.01      0.0         0.00          -1.0         8.1    K-A  "
      ]
     },
     "execution_count": 31,
     "metadata": {},
     "output_type": "execute_result"
    }
   ],
   "source": [
    "# рейтинг K-A использовался до 1998 года, затем его заменили на E, так что произведем его замену\n",
    "df[df['rating']== 'K-A']"
   ]
  },
  {
   "cell_type": "code",
   "execution_count": 32,
   "id": "c4d94ba3",
   "metadata": {},
   "outputs": [
    {
     "data": {
      "text/plain": [
       "array(['E', nan, 'M', 'T', 'E10+', 'AO', 'EC', 'RP'], dtype=object)"
      ]
     },
     "execution_count": 32,
     "metadata": {},
     "output_type": "execute_result"
    }
   ],
   "source": [
    "# меняем K-A на рейтинг E, и выводим уникальные значения столбца\n",
    "df['rating'] = df['rating'].replace({'K-A': 'E'})\n",
    "df['rating'].unique()"
   ]
  },
  {
   "cell_type": "code",
   "execution_count": 33,
   "id": "2f61e076",
   "metadata": {
    "id": "2f61e076"
   },
   "outputs": [
    {
     "data": {
      "text/plain": [
       "241"
      ]
     },
     "execution_count": 33,
     "metadata": {},
     "output_type": "execute_result"
    }
   ],
   "source": [
    "# выводим число явных дубликатов\n",
    "df.duplicated().sum()"
   ]
  },
  {
   "cell_type": "code",
   "execution_count": 34,
   "id": "29e57705",
   "metadata": {
    "id": "29e57705"
   },
   "outputs": [
    {
     "data": {
      "text/html": [
       "<div>\n",
       "<style scoped>\n",
       "    .dataframe tbody tr th:only-of-type {\n",
       "        vertical-align: middle;\n",
       "    }\n",
       "\n",
       "    .dataframe tbody tr th {\n",
       "        vertical-align: top;\n",
       "    }\n",
       "\n",
       "    .dataframe thead th {\n",
       "        text-align: right;\n",
       "    }\n",
       "</style>\n",
       "<table border=\"1\" class=\"dataframe\">\n",
       "  <thead>\n",
       "    <tr style=\"text-align: right;\">\n",
       "      <th></th>\n",
       "      <th>name</th>\n",
       "      <th>platform</th>\n",
       "      <th>year_of_release</th>\n",
       "      <th>genre</th>\n",
       "      <th>na_sales</th>\n",
       "      <th>eu_sales</th>\n",
       "      <th>jp_sales</th>\n",
       "      <th>other_sales</th>\n",
       "      <th>critic_score</th>\n",
       "      <th>user_score</th>\n",
       "      <th>rating</th>\n",
       "    </tr>\n",
       "  </thead>\n",
       "  <tbody>\n",
       "    <tr>\n",
       "      <th>0</th>\n",
       "      <td>wii sports</td>\n",
       "      <td>Wii</td>\n",
       "      <td>2006</td>\n",
       "      <td>sports</td>\n",
       "      <td>41.36</td>\n",
       "      <td>28.96</td>\n",
       "      <td>3.77</td>\n",
       "      <td>8.45</td>\n",
       "      <td>76.0</td>\n",
       "      <td>8.0</td>\n",
       "      <td>E</td>\n",
       "    </tr>\n",
       "    <tr>\n",
       "      <th>1</th>\n",
       "      <td>super mario bros.</td>\n",
       "      <td>NES</td>\n",
       "      <td>1985</td>\n",
       "      <td>platform</td>\n",
       "      <td>29.08</td>\n",
       "      <td>3.58</td>\n",
       "      <td>6.81</td>\n",
       "      <td>0.77</td>\n",
       "      <td>-1.0</td>\n",
       "      <td>-1.0</td>\n",
       "      <td>NaN</td>\n",
       "    </tr>\n",
       "    <tr>\n",
       "      <th>2</th>\n",
       "      <td>mario kart wii</td>\n",
       "      <td>Wii</td>\n",
       "      <td>2008</td>\n",
       "      <td>racing</td>\n",
       "      <td>15.68</td>\n",
       "      <td>12.76</td>\n",
       "      <td>3.79</td>\n",
       "      <td>3.29</td>\n",
       "      <td>82.0</td>\n",
       "      <td>8.3</td>\n",
       "      <td>E</td>\n",
       "    </tr>\n",
       "    <tr>\n",
       "      <th>3</th>\n",
       "      <td>wii sports resort</td>\n",
       "      <td>Wii</td>\n",
       "      <td>2009</td>\n",
       "      <td>sports</td>\n",
       "      <td>15.61</td>\n",
       "      <td>10.93</td>\n",
       "      <td>3.28</td>\n",
       "      <td>2.95</td>\n",
       "      <td>80.0</td>\n",
       "      <td>8.0</td>\n",
       "      <td>E</td>\n",
       "    </tr>\n",
       "    <tr>\n",
       "      <th>4</th>\n",
       "      <td>pokemon red/pokemon blue</td>\n",
       "      <td>GB</td>\n",
       "      <td>1996</td>\n",
       "      <td>role-playing</td>\n",
       "      <td>11.27</td>\n",
       "      <td>8.89</td>\n",
       "      <td>10.22</td>\n",
       "      <td>1.00</td>\n",
       "      <td>-1.0</td>\n",
       "      <td>-1.0</td>\n",
       "      <td>NaN</td>\n",
       "    </tr>\n",
       "    <tr>\n",
       "      <th>...</th>\n",
       "      <td>...</td>\n",
       "      <td>...</td>\n",
       "      <td>...</td>\n",
       "      <td>...</td>\n",
       "      <td>...</td>\n",
       "      <td>...</td>\n",
       "      <td>...</td>\n",
       "      <td>...</td>\n",
       "      <td>...</td>\n",
       "      <td>...</td>\n",
       "      <td>...</td>\n",
       "    </tr>\n",
       "    <tr>\n",
       "      <th>16951</th>\n",
       "      <td>samurai warriors: sanada maru</td>\n",
       "      <td>PS3</td>\n",
       "      <td>2016</td>\n",
       "      <td>action</td>\n",
       "      <td>0.00</td>\n",
       "      <td>0.0</td>\n",
       "      <td>0.01</td>\n",
       "      <td>0.00</td>\n",
       "      <td>-1.0</td>\n",
       "      <td>-1.0</td>\n",
       "      <td>NaN</td>\n",
       "    </tr>\n",
       "    <tr>\n",
       "      <th>16952</th>\n",
       "      <td>lma manager 2007</td>\n",
       "      <td>X360</td>\n",
       "      <td>2006</td>\n",
       "      <td>sports</td>\n",
       "      <td>0.00</td>\n",
       "      <td>0.01</td>\n",
       "      <td>0.0</td>\n",
       "      <td>0.00</td>\n",
       "      <td>-1.0</td>\n",
       "      <td>-1.0</td>\n",
       "      <td>NaN</td>\n",
       "    </tr>\n",
       "    <tr>\n",
       "      <th>16953</th>\n",
       "      <td>haitaka no psychedelica</td>\n",
       "      <td>PSV</td>\n",
       "      <td>2016</td>\n",
       "      <td>adventure</td>\n",
       "      <td>0.00</td>\n",
       "      <td>0.0</td>\n",
       "      <td>0.01</td>\n",
       "      <td>0.00</td>\n",
       "      <td>-1.0</td>\n",
       "      <td>-1.0</td>\n",
       "      <td>NaN</td>\n",
       "    </tr>\n",
       "    <tr>\n",
       "      <th>16954</th>\n",
       "      <td>spirits &amp; spells</td>\n",
       "      <td>GBA</td>\n",
       "      <td>2003</td>\n",
       "      <td>platform</td>\n",
       "      <td>0.01</td>\n",
       "      <td>0.0</td>\n",
       "      <td>0.0</td>\n",
       "      <td>0.00</td>\n",
       "      <td>-1.0</td>\n",
       "      <td>-1.0</td>\n",
       "      <td>NaN</td>\n",
       "    </tr>\n",
       "    <tr>\n",
       "      <th>16955</th>\n",
       "      <td>winning post 8 2016</td>\n",
       "      <td>PSV</td>\n",
       "      <td>2016</td>\n",
       "      <td>simulation</td>\n",
       "      <td>0.00</td>\n",
       "      <td>0.0</td>\n",
       "      <td>0.01</td>\n",
       "      <td>0.00</td>\n",
       "      <td>-1.0</td>\n",
       "      <td>-1.0</td>\n",
       "      <td>NaN</td>\n",
       "    </tr>\n",
       "  </tbody>\n",
       "</table>\n",
       "<p>16713 rows × 11 columns</p>\n",
       "</div>"
      ],
      "text/plain": [
       "                                name platform  year_of_release         genre  \\\n",
       "0                         wii sports      Wii             2006        sports   \n",
       "1                  super mario bros.      NES             1985      platform   \n",
       "2                     mario kart wii      Wii             2008        racing   \n",
       "3                  wii sports resort      Wii             2009        sports   \n",
       "4           pokemon red/pokemon blue       GB             1996  role-playing   \n",
       "...                              ...      ...              ...           ...   \n",
       "16951  samurai warriors: sanada maru      PS3             2016        action   \n",
       "16952               lma manager 2007     X360             2006        sports   \n",
       "16953        haitaka no psychedelica      PSV             2016     adventure   \n",
       "16954               spirits & spells      GBA             2003      platform   \n",
       "16955            winning post 8 2016      PSV             2016    simulation   \n",
       "\n",
       "       na_sales eu_sales jp_sales  other_sales  critic_score  user_score  \\\n",
       "0         41.36    28.96     3.77         8.45          76.0         8.0   \n",
       "1         29.08     3.58     6.81         0.77          -1.0        -1.0   \n",
       "2         15.68    12.76     3.79         3.29          82.0         8.3   \n",
       "3         15.61    10.93     3.28         2.95          80.0         8.0   \n",
       "4         11.27     8.89    10.22         1.00          -1.0        -1.0   \n",
       "...         ...      ...      ...          ...           ...         ...   \n",
       "16951      0.00      0.0     0.01         0.00          -1.0        -1.0   \n",
       "16952      0.00     0.01      0.0         0.00          -1.0        -1.0   \n",
       "16953      0.00      0.0     0.01         0.00          -1.0        -1.0   \n",
       "16954      0.01      0.0      0.0         0.00          -1.0        -1.0   \n",
       "16955      0.00      0.0     0.01         0.00          -1.0        -1.0   \n",
       "\n",
       "      rating  \n",
       "0          E  \n",
       "1        NaN  \n",
       "2          E  \n",
       "3          E  \n",
       "4        NaN  \n",
       "...      ...  \n",
       "16951    NaN  \n",
       "16952    NaN  \n",
       "16953    NaN  \n",
       "16954    NaN  \n",
       "16955    NaN  \n",
       "\n",
       "[16713 rows x 11 columns]"
      ]
     },
     "execution_count": 34,
     "metadata": {},
     "output_type": "execute_result"
    }
   ],
   "source": [
    "# удаляем явные дубликаты\n",
    "df = df.drop_duplicates()\n",
    "df"
   ]
  },
  {
   "cell_type": "markdown",
   "id": "58d64b8a",
   "metadata": {
    "id": "8548f894"
   },
   "source": [
    "В столбце с жанром игры были найдены неявные дубликаты каждого из жанров, после чего столбец был приведен к единому стилю написания. В столбце с рейтингом ESRB были найдены 3 строки с устаревшим обозначением 'K-A', которое было заменено на соврменное название 'E'. Явных дубликатов оказалось 241 строка, после чего они были удалены. "
   ]
  },
  {
   "cell_type": "code",
   "execution_count": 35,
   "id": "f9d8ee19",
   "metadata": {
    "id": "f9d8ee19"
   },
   "outputs": [
    {
     "data": {
      "text/plain": [
       "0.014331210191082803"
      ]
     },
     "execution_count": 35,
     "metadata": {},
     "output_type": "execute_result"
    }
   ],
   "source": [
    "# считаем долю удаленных строк относительно первоначального числа строк\n",
    "del_rows = (16956-df.shape[0])/16956\n",
    "del_rows"
   ]
  },
  {
   "cell_type": "code",
   "execution_count": 36,
   "id": "1e48a7ce",
   "metadata": {
    "id": "1e48a7ce"
   },
   "outputs": [
    {
     "data": {
      "text/plain": [
       "1.4331210191082804"
      ]
     },
     "execution_count": 36,
     "metadata": {},
     "output_type": "execute_result"
    }
   ],
   "source": [
    "# считаем процент удаленных строк\n",
    "del_rows_share = del_rows*100\n",
    "del_rows_share"
   ]
  },
  {
   "cell_type": "markdown",
   "id": "0ab6f7fa",
   "metadata": {
    "id": "5166fdf8"
   },
   "source": [
    "После выявления пропусков и наличия явных и неявных дубликатов в итоговом датафрейме осталось 16713 строк. Процент удаленных строк составил 1.4% (или 243 строки). В столбце рейтинга ESRB пропуски ничем не заменял, так как они не нужны для последующего анализа."
   ]
  },
  {
   "cell_type": "markdown",
   "id": "613f0eb0",
   "metadata": {
    "id": "613f0eb0"
   },
   "source": [
    "---\n",
    "\n",
    "## Фильтрация данных\n",
    "\n",
    "Коллеги хотят изучить историю продаж игр в начале XXI века, и их интересует период с 2000 по 2013 год включительно. Отберите данные по этому показателю. Сохраните новый срез данных в отдельном датафрейме, например `df_actual`."
   ]
  },
  {
   "cell_type": "code",
   "execution_count": 37,
   "id": "2344916d",
   "metadata": {
    "id": "2344916d"
   },
   "outputs": [
    {
     "name": "stdout",
     "output_type": "stream",
     "text": [
      "<class 'pandas.core.frame.DataFrame'>\n",
      "Index: 12781 entries, 0 to 16954\n",
      "Data columns (total 11 columns):\n",
      " #   Column           Non-Null Count  Dtype  \n",
      "---  ------           --------------  -----  \n",
      " 0   name             12781 non-null  object \n",
      " 1   platform         12781 non-null  object \n",
      " 2   year_of_release  12781 non-null  int64  \n",
      " 3   genre            12781 non-null  object \n",
      " 4   na_sales         12781 non-null  float64\n",
      " 5   eu_sales         12781 non-null  object \n",
      " 6   jp_sales         12781 non-null  object \n",
      " 7   other_sales      12781 non-null  float64\n",
      " 8   critic_score     12781 non-null  float64\n",
      " 9   user_score       12781 non-null  float64\n",
      " 10  rating           8723 non-null   object \n",
      "dtypes: float64(4), int64(1), object(6)\n",
      "memory usage: 1.2+ MB\n"
     ]
    },
    {
     "data": {
      "text/plain": [
       "array([2006, 2008, 2009, 2005, 2007, 2010, 2013, 2004, 2002, 2001, 2011,\n",
       "       2012, 2003, 2000], dtype=int64)"
      ]
     },
     "execution_count": 37,
     "metadata": {},
     "output_type": "execute_result"
    }
   ],
   "source": [
    "# фильтруем год выпуска по данному условию и выводим общую информацию и уникальные значения столбца нового датафрейма\n",
    "df_actual = df[(df['year_of_release'] >= 2000) & (df['year_of_release'] <= 2013)].copy()\n",
    "df_actual.info()\n",
    "df_actual['year_of_release'].unique()"
   ]
  },
  {
   "cell_type": "markdown",
   "id": "f0cd22fa",
   "metadata": {
    "id": "44d7529f"
   },
   "source": [
    "В отфильтрованном датафрейме осталось 12781 строка."
   ]
  },
  {
   "cell_type": "markdown",
   "id": "a6f10b01",
   "metadata": {
    "id": "a6f10b01"
   },
   "source": [
    "---\n",
    "\n",
    "## Категоризация данных\n",
    "    \n",
    "Проведите категоризацию данных:\n",
    "- Разделите все игры по оценкам пользователей и выделите такие категории: высокая оценка (от 8 до 10 включительно), средняя оценка (от 3 до 8, не включая правую границу интервала) и низкая оценка (от 0 до 3, не включая правую границу интервала)."
   ]
  },
  {
   "cell_type": "code",
   "execution_count": 38,
   "id": "e44f80e2",
   "metadata": {},
   "outputs": [
    {
     "data": {
      "text/html": [
       "<div>\n",
       "<style scoped>\n",
       "    .dataframe tbody tr th:only-of-type {\n",
       "        vertical-align: middle;\n",
       "    }\n",
       "\n",
       "    .dataframe tbody tr th {\n",
       "        vertical-align: top;\n",
       "    }\n",
       "\n",
       "    .dataframe thead th {\n",
       "        text-align: right;\n",
       "    }\n",
       "</style>\n",
       "<table border=\"1\" class=\"dataframe\">\n",
       "  <thead>\n",
       "    <tr style=\"text-align: right;\">\n",
       "      <th></th>\n",
       "      <th>name</th>\n",
       "      <th>platform</th>\n",
       "      <th>year_of_release</th>\n",
       "      <th>genre</th>\n",
       "      <th>na_sales</th>\n",
       "      <th>eu_sales</th>\n",
       "      <th>jp_sales</th>\n",
       "      <th>other_sales</th>\n",
       "      <th>critic_score</th>\n",
       "      <th>user_score</th>\n",
       "      <th>rating</th>\n",
       "    </tr>\n",
       "  </thead>\n",
       "  <tbody>\n",
       "    <tr>\n",
       "      <th>0</th>\n",
       "      <td>wii sports</td>\n",
       "      <td>Wii</td>\n",
       "      <td>2006</td>\n",
       "      <td>sports</td>\n",
       "      <td>41.36</td>\n",
       "      <td>28.96</td>\n",
       "      <td>3.77</td>\n",
       "      <td>8.45</td>\n",
       "      <td>76.0</td>\n",
       "      <td>8.0</td>\n",
       "      <td>E</td>\n",
       "    </tr>\n",
       "    <tr>\n",
       "      <th>2</th>\n",
       "      <td>mario kart wii</td>\n",
       "      <td>Wii</td>\n",
       "      <td>2008</td>\n",
       "      <td>racing</td>\n",
       "      <td>15.68</td>\n",
       "      <td>12.76</td>\n",
       "      <td>3.79</td>\n",
       "      <td>3.29</td>\n",
       "      <td>82.0</td>\n",
       "      <td>8.3</td>\n",
       "      <td>E</td>\n",
       "    </tr>\n",
       "    <tr>\n",
       "      <th>3</th>\n",
       "      <td>wii sports resort</td>\n",
       "      <td>Wii</td>\n",
       "      <td>2009</td>\n",
       "      <td>sports</td>\n",
       "      <td>15.61</td>\n",
       "      <td>10.93</td>\n",
       "      <td>3.28</td>\n",
       "      <td>2.95</td>\n",
       "      <td>80.0</td>\n",
       "      <td>8.0</td>\n",
       "      <td>E</td>\n",
       "    </tr>\n",
       "    <tr>\n",
       "      <th>6</th>\n",
       "      <td>new super mario bros.</td>\n",
       "      <td>DS</td>\n",
       "      <td>2006</td>\n",
       "      <td>platform</td>\n",
       "      <td>11.28</td>\n",
       "      <td>9.14</td>\n",
       "      <td>6.5</td>\n",
       "      <td>2.88</td>\n",
       "      <td>89.0</td>\n",
       "      <td>8.5</td>\n",
       "      <td>E</td>\n",
       "    </tr>\n",
       "    <tr>\n",
       "      <th>7</th>\n",
       "      <td>wii play</td>\n",
       "      <td>Wii</td>\n",
       "      <td>2006</td>\n",
       "      <td>misc</td>\n",
       "      <td>13.96</td>\n",
       "      <td>9.18</td>\n",
       "      <td>2.93</td>\n",
       "      <td>2.84</td>\n",
       "      <td>58.0</td>\n",
       "      <td>6.6</td>\n",
       "      <td>E</td>\n",
       "    </tr>\n",
       "    <tr>\n",
       "      <th>...</th>\n",
       "      <td>...</td>\n",
       "      <td>...</td>\n",
       "      <td>...</td>\n",
       "      <td>...</td>\n",
       "      <td>...</td>\n",
       "      <td>...</td>\n",
       "      <td>...</td>\n",
       "      <td>...</td>\n",
       "      <td>...</td>\n",
       "      <td>...</td>\n",
       "      <td>...</td>\n",
       "    </tr>\n",
       "    <tr>\n",
       "      <th>16902</th>\n",
       "      <td>e.t. the extra-terrestrial</td>\n",
       "      <td>GBA</td>\n",
       "      <td>2001</td>\n",
       "      <td>action</td>\n",
       "      <td>0.01</td>\n",
       "      <td>0.0</td>\n",
       "      <td>0.0</td>\n",
       "      <td>0.00</td>\n",
       "      <td>46.0</td>\n",
       "      <td>2.4</td>\n",
       "      <td>E</td>\n",
       "    </tr>\n",
       "    <tr>\n",
       "      <th>16913</th>\n",
       "      <td>mortal kombat: deadly alliance</td>\n",
       "      <td>GBA</td>\n",
       "      <td>2002</td>\n",
       "      <td>fighting</td>\n",
       "      <td>0.01</td>\n",
       "      <td>0.0</td>\n",
       "      <td>0.0</td>\n",
       "      <td>0.00</td>\n",
       "      <td>81.0</td>\n",
       "      <td>8.8</td>\n",
       "      <td>M</td>\n",
       "    </tr>\n",
       "    <tr>\n",
       "      <th>16936</th>\n",
       "      <td>breach</td>\n",
       "      <td>PC</td>\n",
       "      <td>2011</td>\n",
       "      <td>shooter</td>\n",
       "      <td>0.01</td>\n",
       "      <td>0.0</td>\n",
       "      <td>0.0</td>\n",
       "      <td>0.00</td>\n",
       "      <td>61.0</td>\n",
       "      <td>5.8</td>\n",
       "      <td>T</td>\n",
       "    </tr>\n",
       "    <tr>\n",
       "      <th>16943</th>\n",
       "      <td>storm: frontline nation</td>\n",
       "      <td>PC</td>\n",
       "      <td>2011</td>\n",
       "      <td>strategy</td>\n",
       "      <td>0.00</td>\n",
       "      <td>0.01</td>\n",
       "      <td>0.0</td>\n",
       "      <td>0.00</td>\n",
       "      <td>60.0</td>\n",
       "      <td>7.2</td>\n",
       "      <td>E10+</td>\n",
       "    </tr>\n",
       "    <tr>\n",
       "      <th>16946</th>\n",
       "      <td>15 days</td>\n",
       "      <td>PC</td>\n",
       "      <td>2009</td>\n",
       "      <td>adventure</td>\n",
       "      <td>0.00</td>\n",
       "      <td>0.01</td>\n",
       "      <td>0.0</td>\n",
       "      <td>0.00</td>\n",
       "      <td>63.0</td>\n",
       "      <td>5.8</td>\n",
       "      <td>NaN</td>\n",
       "    </tr>\n",
       "  </tbody>\n",
       "</table>\n",
       "<p>6108 rows × 11 columns</p>\n",
       "</div>"
      ],
      "text/plain": [
       "                                 name platform  year_of_release      genre  \\\n",
       "0                          wii sports      Wii             2006     sports   \n",
       "2                      mario kart wii      Wii             2008     racing   \n",
       "3                   wii sports resort      Wii             2009     sports   \n",
       "6               new super mario bros.       DS             2006   platform   \n",
       "7                            wii play      Wii             2006       misc   \n",
       "...                               ...      ...              ...        ...   \n",
       "16902      e.t. the extra-terrestrial      GBA             2001     action   \n",
       "16913  mortal kombat: deadly alliance      GBA             2002   fighting   \n",
       "16936                          breach       PC             2011    shooter   \n",
       "16943         storm: frontline nation       PC             2011   strategy   \n",
       "16946                         15 days       PC             2009  adventure   \n",
       "\n",
       "       na_sales eu_sales jp_sales  other_sales  critic_score  user_score  \\\n",
       "0         41.36    28.96     3.77         8.45          76.0         8.0   \n",
       "2         15.68    12.76     3.79         3.29          82.0         8.3   \n",
       "3         15.61    10.93     3.28         2.95          80.0         8.0   \n",
       "6         11.28     9.14      6.5         2.88          89.0         8.5   \n",
       "7         13.96     9.18     2.93         2.84          58.0         6.6   \n",
       "...         ...      ...      ...          ...           ...         ...   \n",
       "16902      0.01      0.0      0.0         0.00          46.0         2.4   \n",
       "16913      0.01      0.0      0.0         0.00          81.0         8.8   \n",
       "16936      0.01      0.0      0.0         0.00          61.0         5.8   \n",
       "16943      0.00     0.01      0.0         0.00          60.0         7.2   \n",
       "16946      0.00     0.01      0.0         0.00          63.0         5.8   \n",
       "\n",
       "      rating  \n",
       "0          E  \n",
       "2          E  \n",
       "3          E  \n",
       "6          E  \n",
       "7          E  \n",
       "...      ...  \n",
       "16902      E  \n",
       "16913      M  \n",
       "16936      T  \n",
       "16943   E10+  \n",
       "16946    NaN  \n",
       "\n",
       "[6108 rows x 11 columns]"
      ]
     },
     "execution_count": 38,
     "metadata": {},
     "output_type": "execute_result"
    }
   ],
   "source": [
    "# отфильтруем еще раз, и уберем строки со значениями-индикаторами (-1) в столбцах critic_score и user_score для категоризации \n",
    "df_actual= df_actual[(df_actual['user_score'] >= 0) & (df_actual['critic_score'] >= 0)]\n",
    "df_actual"
   ]
  },
  {
   "cell_type": "code",
   "execution_count": 39,
   "id": "3db87229",
   "metadata": {
    "id": "3db87229"
   },
   "outputs": [
    {
     "data": {
      "text/html": [
       "<div>\n",
       "<style scoped>\n",
       "    .dataframe tbody tr th:only-of-type {\n",
       "        vertical-align: middle;\n",
       "    }\n",
       "\n",
       "    .dataframe tbody tr th {\n",
       "        vertical-align: top;\n",
       "    }\n",
       "\n",
       "    .dataframe thead th {\n",
       "        text-align: right;\n",
       "    }\n",
       "</style>\n",
       "<table border=\"1\" class=\"dataframe\">\n",
       "  <thead>\n",
       "    <tr style=\"text-align: right;\">\n",
       "      <th></th>\n",
       "      <th>name</th>\n",
       "      <th>platform</th>\n",
       "      <th>year_of_release</th>\n",
       "      <th>genre</th>\n",
       "      <th>na_sales</th>\n",
       "      <th>eu_sales</th>\n",
       "      <th>jp_sales</th>\n",
       "      <th>other_sales</th>\n",
       "      <th>critic_score</th>\n",
       "      <th>user_score</th>\n",
       "      <th>rating</th>\n",
       "      <th>user_score_category</th>\n",
       "    </tr>\n",
       "  </thead>\n",
       "  <tbody>\n",
       "    <tr>\n",
       "      <th>0</th>\n",
       "      <td>wii sports</td>\n",
       "      <td>Wii</td>\n",
       "      <td>2006</td>\n",
       "      <td>sports</td>\n",
       "      <td>41.36</td>\n",
       "      <td>28.96</td>\n",
       "      <td>3.77</td>\n",
       "      <td>8.45</td>\n",
       "      <td>76.0</td>\n",
       "      <td>8.0</td>\n",
       "      <td>E</td>\n",
       "      <td>Высокая оценка</td>\n",
       "    </tr>\n",
       "    <tr>\n",
       "      <th>2</th>\n",
       "      <td>mario kart wii</td>\n",
       "      <td>Wii</td>\n",
       "      <td>2008</td>\n",
       "      <td>racing</td>\n",
       "      <td>15.68</td>\n",
       "      <td>12.76</td>\n",
       "      <td>3.79</td>\n",
       "      <td>3.29</td>\n",
       "      <td>82.0</td>\n",
       "      <td>8.3</td>\n",
       "      <td>E</td>\n",
       "      <td>Высокая оценка</td>\n",
       "    </tr>\n",
       "    <tr>\n",
       "      <th>3</th>\n",
       "      <td>wii sports resort</td>\n",
       "      <td>Wii</td>\n",
       "      <td>2009</td>\n",
       "      <td>sports</td>\n",
       "      <td>15.61</td>\n",
       "      <td>10.93</td>\n",
       "      <td>3.28</td>\n",
       "      <td>2.95</td>\n",
       "      <td>80.0</td>\n",
       "      <td>8.0</td>\n",
       "      <td>E</td>\n",
       "      <td>Высокая оценка</td>\n",
       "    </tr>\n",
       "    <tr>\n",
       "      <th>6</th>\n",
       "      <td>new super mario bros.</td>\n",
       "      <td>DS</td>\n",
       "      <td>2006</td>\n",
       "      <td>platform</td>\n",
       "      <td>11.28</td>\n",
       "      <td>9.14</td>\n",
       "      <td>6.5</td>\n",
       "      <td>2.88</td>\n",
       "      <td>89.0</td>\n",
       "      <td>8.5</td>\n",
       "      <td>E</td>\n",
       "      <td>Высокая оценка</td>\n",
       "    </tr>\n",
       "    <tr>\n",
       "      <th>7</th>\n",
       "      <td>wii play</td>\n",
       "      <td>Wii</td>\n",
       "      <td>2006</td>\n",
       "      <td>misc</td>\n",
       "      <td>13.96</td>\n",
       "      <td>9.18</td>\n",
       "      <td>2.93</td>\n",
       "      <td>2.84</td>\n",
       "      <td>58.0</td>\n",
       "      <td>6.6</td>\n",
       "      <td>E</td>\n",
       "      <td>Средняя оценка</td>\n",
       "    </tr>\n",
       "    <tr>\n",
       "      <th>...</th>\n",
       "      <td>...</td>\n",
       "      <td>...</td>\n",
       "      <td>...</td>\n",
       "      <td>...</td>\n",
       "      <td>...</td>\n",
       "      <td>...</td>\n",
       "      <td>...</td>\n",
       "      <td>...</td>\n",
       "      <td>...</td>\n",
       "      <td>...</td>\n",
       "      <td>...</td>\n",
       "      <td>...</td>\n",
       "    </tr>\n",
       "    <tr>\n",
       "      <th>16902</th>\n",
       "      <td>e.t. the extra-terrestrial</td>\n",
       "      <td>GBA</td>\n",
       "      <td>2001</td>\n",
       "      <td>action</td>\n",
       "      <td>0.01</td>\n",
       "      <td>0.0</td>\n",
       "      <td>0.0</td>\n",
       "      <td>0.00</td>\n",
       "      <td>46.0</td>\n",
       "      <td>2.4</td>\n",
       "      <td>E</td>\n",
       "      <td>Низкая оценка</td>\n",
       "    </tr>\n",
       "    <tr>\n",
       "      <th>16913</th>\n",
       "      <td>mortal kombat: deadly alliance</td>\n",
       "      <td>GBA</td>\n",
       "      <td>2002</td>\n",
       "      <td>fighting</td>\n",
       "      <td>0.01</td>\n",
       "      <td>0.0</td>\n",
       "      <td>0.0</td>\n",
       "      <td>0.00</td>\n",
       "      <td>81.0</td>\n",
       "      <td>8.8</td>\n",
       "      <td>M</td>\n",
       "      <td>Высокая оценка</td>\n",
       "    </tr>\n",
       "    <tr>\n",
       "      <th>16936</th>\n",
       "      <td>breach</td>\n",
       "      <td>PC</td>\n",
       "      <td>2011</td>\n",
       "      <td>shooter</td>\n",
       "      <td>0.01</td>\n",
       "      <td>0.0</td>\n",
       "      <td>0.0</td>\n",
       "      <td>0.00</td>\n",
       "      <td>61.0</td>\n",
       "      <td>5.8</td>\n",
       "      <td>T</td>\n",
       "      <td>Средняя оценка</td>\n",
       "    </tr>\n",
       "    <tr>\n",
       "      <th>16943</th>\n",
       "      <td>storm: frontline nation</td>\n",
       "      <td>PC</td>\n",
       "      <td>2011</td>\n",
       "      <td>strategy</td>\n",
       "      <td>0.00</td>\n",
       "      <td>0.01</td>\n",
       "      <td>0.0</td>\n",
       "      <td>0.00</td>\n",
       "      <td>60.0</td>\n",
       "      <td>7.2</td>\n",
       "      <td>E10+</td>\n",
       "      <td>Средняя оценка</td>\n",
       "    </tr>\n",
       "    <tr>\n",
       "      <th>16946</th>\n",
       "      <td>15 days</td>\n",
       "      <td>PC</td>\n",
       "      <td>2009</td>\n",
       "      <td>adventure</td>\n",
       "      <td>0.00</td>\n",
       "      <td>0.01</td>\n",
       "      <td>0.0</td>\n",
       "      <td>0.00</td>\n",
       "      <td>63.0</td>\n",
       "      <td>5.8</td>\n",
       "      <td>NaN</td>\n",
       "      <td>Средняя оценка</td>\n",
       "    </tr>\n",
       "  </tbody>\n",
       "</table>\n",
       "<p>6108 rows × 12 columns</p>\n",
       "</div>"
      ],
      "text/plain": [
       "                                 name platform  year_of_release      genre  \\\n",
       "0                          wii sports      Wii             2006     sports   \n",
       "2                      mario kart wii      Wii             2008     racing   \n",
       "3                   wii sports resort      Wii             2009     sports   \n",
       "6               new super mario bros.       DS             2006   platform   \n",
       "7                            wii play      Wii             2006       misc   \n",
       "...                               ...      ...              ...        ...   \n",
       "16902      e.t. the extra-terrestrial      GBA             2001     action   \n",
       "16913  mortal kombat: deadly alliance      GBA             2002   fighting   \n",
       "16936                          breach       PC             2011    shooter   \n",
       "16943         storm: frontline nation       PC             2011   strategy   \n",
       "16946                         15 days       PC             2009  adventure   \n",
       "\n",
       "       na_sales eu_sales jp_sales  other_sales  critic_score  user_score  \\\n",
       "0         41.36    28.96     3.77         8.45          76.0         8.0   \n",
       "2         15.68    12.76     3.79         3.29          82.0         8.3   \n",
       "3         15.61    10.93     3.28         2.95          80.0         8.0   \n",
       "6         11.28     9.14      6.5         2.88          89.0         8.5   \n",
       "7         13.96     9.18     2.93         2.84          58.0         6.6   \n",
       "...         ...      ...      ...          ...           ...         ...   \n",
       "16902      0.01      0.0      0.0         0.00          46.0         2.4   \n",
       "16913      0.01      0.0      0.0         0.00          81.0         8.8   \n",
       "16936      0.01      0.0      0.0         0.00          61.0         5.8   \n",
       "16943      0.00     0.01      0.0         0.00          60.0         7.2   \n",
       "16946      0.00     0.01      0.0         0.00          63.0         5.8   \n",
       "\n",
       "      rating user_score_category  \n",
       "0          E      Высокая оценка  \n",
       "2          E      Высокая оценка  \n",
       "3          E      Высокая оценка  \n",
       "6          E      Высокая оценка  \n",
       "7          E      Средняя оценка  \n",
       "...      ...                 ...  \n",
       "16902      E       Низкая оценка  \n",
       "16913      M      Высокая оценка  \n",
       "16936      T      Средняя оценка  \n",
       "16943   E10+      Средняя оценка  \n",
       "16946    NaN      Средняя оценка  \n",
       "\n",
       "[6108 rows x 12 columns]"
      ]
     },
     "execution_count": 39,
     "metadata": {},
     "output_type": "execute_result"
    }
   ],
   "source": [
    "# разделяем на категории по значениям в столбце user_score\n",
    "bins1 = [0, 3, 8, 10]\n",
    "labels1 = ['Низкая оценка', 'Средняя оценка', 'Высокая оценка']\n",
    "df_actual['user_score_category'] = pd.cut(df_actual['user_score'], bins = bins1, labels = labels1, right = False)\n",
    "df_actual"
   ]
  },
  {
   "cell_type": "markdown",
   "id": "f8f34b40",
   "metadata": {
    "id": "f8f34b40"
   },
   "source": [
    "- Разделите все игры по оценкам критиков и выделите такие категории: высокая оценка (от 80 до 100 включительно), средняя оценка (от 30 до 80, не включая правую границу интервала) и низкая оценка (от 0 до 30, не включая правую границу интервала)."
   ]
  },
  {
   "cell_type": "code",
   "execution_count": 40,
   "id": "e3f7acb0",
   "metadata": {
    "id": "e3f7acb0",
    "scrolled": true
   },
   "outputs": [
    {
     "data": {
      "text/html": [
       "<div>\n",
       "<style scoped>\n",
       "    .dataframe tbody tr th:only-of-type {\n",
       "        vertical-align: middle;\n",
       "    }\n",
       "\n",
       "    .dataframe tbody tr th {\n",
       "        vertical-align: top;\n",
       "    }\n",
       "\n",
       "    .dataframe thead th {\n",
       "        text-align: right;\n",
       "    }\n",
       "</style>\n",
       "<table border=\"1\" class=\"dataframe\">\n",
       "  <thead>\n",
       "    <tr style=\"text-align: right;\">\n",
       "      <th></th>\n",
       "      <th>name</th>\n",
       "      <th>platform</th>\n",
       "      <th>year_of_release</th>\n",
       "      <th>genre</th>\n",
       "      <th>na_sales</th>\n",
       "      <th>eu_sales</th>\n",
       "      <th>jp_sales</th>\n",
       "      <th>other_sales</th>\n",
       "      <th>critic_score</th>\n",
       "      <th>user_score</th>\n",
       "      <th>rating</th>\n",
       "      <th>user_score_category</th>\n",
       "      <th>critic_score_category</th>\n",
       "    </tr>\n",
       "  </thead>\n",
       "  <tbody>\n",
       "    <tr>\n",
       "      <th>0</th>\n",
       "      <td>wii sports</td>\n",
       "      <td>Wii</td>\n",
       "      <td>2006</td>\n",
       "      <td>sports</td>\n",
       "      <td>41.36</td>\n",
       "      <td>28.96</td>\n",
       "      <td>3.77</td>\n",
       "      <td>8.45</td>\n",
       "      <td>76.0</td>\n",
       "      <td>8.0</td>\n",
       "      <td>E</td>\n",
       "      <td>Высокая оценка</td>\n",
       "      <td>Средняя оценка</td>\n",
       "    </tr>\n",
       "    <tr>\n",
       "      <th>2</th>\n",
       "      <td>mario kart wii</td>\n",
       "      <td>Wii</td>\n",
       "      <td>2008</td>\n",
       "      <td>racing</td>\n",
       "      <td>15.68</td>\n",
       "      <td>12.76</td>\n",
       "      <td>3.79</td>\n",
       "      <td>3.29</td>\n",
       "      <td>82.0</td>\n",
       "      <td>8.3</td>\n",
       "      <td>E</td>\n",
       "      <td>Высокая оценка</td>\n",
       "      <td>Высокая оценка</td>\n",
       "    </tr>\n",
       "    <tr>\n",
       "      <th>3</th>\n",
       "      <td>wii sports resort</td>\n",
       "      <td>Wii</td>\n",
       "      <td>2009</td>\n",
       "      <td>sports</td>\n",
       "      <td>15.61</td>\n",
       "      <td>10.93</td>\n",
       "      <td>3.28</td>\n",
       "      <td>2.95</td>\n",
       "      <td>80.0</td>\n",
       "      <td>8.0</td>\n",
       "      <td>E</td>\n",
       "      <td>Высокая оценка</td>\n",
       "      <td>Высокая оценка</td>\n",
       "    </tr>\n",
       "    <tr>\n",
       "      <th>6</th>\n",
       "      <td>new super mario bros.</td>\n",
       "      <td>DS</td>\n",
       "      <td>2006</td>\n",
       "      <td>platform</td>\n",
       "      <td>11.28</td>\n",
       "      <td>9.14</td>\n",
       "      <td>6.5</td>\n",
       "      <td>2.88</td>\n",
       "      <td>89.0</td>\n",
       "      <td>8.5</td>\n",
       "      <td>E</td>\n",
       "      <td>Высокая оценка</td>\n",
       "      <td>Высокая оценка</td>\n",
       "    </tr>\n",
       "    <tr>\n",
       "      <th>7</th>\n",
       "      <td>wii play</td>\n",
       "      <td>Wii</td>\n",
       "      <td>2006</td>\n",
       "      <td>misc</td>\n",
       "      <td>13.96</td>\n",
       "      <td>9.18</td>\n",
       "      <td>2.93</td>\n",
       "      <td>2.84</td>\n",
       "      <td>58.0</td>\n",
       "      <td>6.6</td>\n",
       "      <td>E</td>\n",
       "      <td>Средняя оценка</td>\n",
       "      <td>Средняя оценка</td>\n",
       "    </tr>\n",
       "    <tr>\n",
       "      <th>...</th>\n",
       "      <td>...</td>\n",
       "      <td>...</td>\n",
       "      <td>...</td>\n",
       "      <td>...</td>\n",
       "      <td>...</td>\n",
       "      <td>...</td>\n",
       "      <td>...</td>\n",
       "      <td>...</td>\n",
       "      <td>...</td>\n",
       "      <td>...</td>\n",
       "      <td>...</td>\n",
       "      <td>...</td>\n",
       "      <td>...</td>\n",
       "    </tr>\n",
       "    <tr>\n",
       "      <th>16902</th>\n",
       "      <td>e.t. the extra-terrestrial</td>\n",
       "      <td>GBA</td>\n",
       "      <td>2001</td>\n",
       "      <td>action</td>\n",
       "      <td>0.01</td>\n",
       "      <td>0.0</td>\n",
       "      <td>0.0</td>\n",
       "      <td>0.00</td>\n",
       "      <td>46.0</td>\n",
       "      <td>2.4</td>\n",
       "      <td>E</td>\n",
       "      <td>Низкая оценка</td>\n",
       "      <td>Средняя оценка</td>\n",
       "    </tr>\n",
       "    <tr>\n",
       "      <th>16913</th>\n",
       "      <td>mortal kombat: deadly alliance</td>\n",
       "      <td>GBA</td>\n",
       "      <td>2002</td>\n",
       "      <td>fighting</td>\n",
       "      <td>0.01</td>\n",
       "      <td>0.0</td>\n",
       "      <td>0.0</td>\n",
       "      <td>0.00</td>\n",
       "      <td>81.0</td>\n",
       "      <td>8.8</td>\n",
       "      <td>M</td>\n",
       "      <td>Высокая оценка</td>\n",
       "      <td>Высокая оценка</td>\n",
       "    </tr>\n",
       "    <tr>\n",
       "      <th>16936</th>\n",
       "      <td>breach</td>\n",
       "      <td>PC</td>\n",
       "      <td>2011</td>\n",
       "      <td>shooter</td>\n",
       "      <td>0.01</td>\n",
       "      <td>0.0</td>\n",
       "      <td>0.0</td>\n",
       "      <td>0.00</td>\n",
       "      <td>61.0</td>\n",
       "      <td>5.8</td>\n",
       "      <td>T</td>\n",
       "      <td>Средняя оценка</td>\n",
       "      <td>Средняя оценка</td>\n",
       "    </tr>\n",
       "    <tr>\n",
       "      <th>16943</th>\n",
       "      <td>storm: frontline nation</td>\n",
       "      <td>PC</td>\n",
       "      <td>2011</td>\n",
       "      <td>strategy</td>\n",
       "      <td>0.00</td>\n",
       "      <td>0.01</td>\n",
       "      <td>0.0</td>\n",
       "      <td>0.00</td>\n",
       "      <td>60.0</td>\n",
       "      <td>7.2</td>\n",
       "      <td>E10+</td>\n",
       "      <td>Средняя оценка</td>\n",
       "      <td>Средняя оценка</td>\n",
       "    </tr>\n",
       "    <tr>\n",
       "      <th>16946</th>\n",
       "      <td>15 days</td>\n",
       "      <td>PC</td>\n",
       "      <td>2009</td>\n",
       "      <td>adventure</td>\n",
       "      <td>0.00</td>\n",
       "      <td>0.01</td>\n",
       "      <td>0.0</td>\n",
       "      <td>0.00</td>\n",
       "      <td>63.0</td>\n",
       "      <td>5.8</td>\n",
       "      <td>NaN</td>\n",
       "      <td>Средняя оценка</td>\n",
       "      <td>Средняя оценка</td>\n",
       "    </tr>\n",
       "  </tbody>\n",
       "</table>\n",
       "<p>6108 rows × 13 columns</p>\n",
       "</div>"
      ],
      "text/plain": [
       "                                 name platform  year_of_release      genre  \\\n",
       "0                          wii sports      Wii             2006     sports   \n",
       "2                      mario kart wii      Wii             2008     racing   \n",
       "3                   wii sports resort      Wii             2009     sports   \n",
       "6               new super mario bros.       DS             2006   platform   \n",
       "7                            wii play      Wii             2006       misc   \n",
       "...                               ...      ...              ...        ...   \n",
       "16902      e.t. the extra-terrestrial      GBA             2001     action   \n",
       "16913  mortal kombat: deadly alliance      GBA             2002   fighting   \n",
       "16936                          breach       PC             2011    shooter   \n",
       "16943         storm: frontline nation       PC             2011   strategy   \n",
       "16946                         15 days       PC             2009  adventure   \n",
       "\n",
       "       na_sales eu_sales jp_sales  other_sales  critic_score  user_score  \\\n",
       "0         41.36    28.96     3.77         8.45          76.0         8.0   \n",
       "2         15.68    12.76     3.79         3.29          82.0         8.3   \n",
       "3         15.61    10.93     3.28         2.95          80.0         8.0   \n",
       "6         11.28     9.14      6.5         2.88          89.0         8.5   \n",
       "7         13.96     9.18     2.93         2.84          58.0         6.6   \n",
       "...         ...      ...      ...          ...           ...         ...   \n",
       "16902      0.01      0.0      0.0         0.00          46.0         2.4   \n",
       "16913      0.01      0.0      0.0         0.00          81.0         8.8   \n",
       "16936      0.01      0.0      0.0         0.00          61.0         5.8   \n",
       "16943      0.00     0.01      0.0         0.00          60.0         7.2   \n",
       "16946      0.00     0.01      0.0         0.00          63.0         5.8   \n",
       "\n",
       "      rating user_score_category critic_score_category  \n",
       "0          E      Высокая оценка        Средняя оценка  \n",
       "2          E      Высокая оценка        Высокая оценка  \n",
       "3          E      Высокая оценка        Высокая оценка  \n",
       "6          E      Высокая оценка        Высокая оценка  \n",
       "7          E      Средняя оценка        Средняя оценка  \n",
       "...      ...                 ...                   ...  \n",
       "16902      E       Низкая оценка        Средняя оценка  \n",
       "16913      M      Высокая оценка        Высокая оценка  \n",
       "16936      T      Средняя оценка        Средняя оценка  \n",
       "16943   E10+      Средняя оценка        Средняя оценка  \n",
       "16946    NaN      Средняя оценка        Средняя оценка  \n",
       "\n",
       "[6108 rows x 13 columns]"
      ]
     },
     "execution_count": 40,
     "metadata": {},
     "output_type": "execute_result"
    }
   ],
   "source": [
    "# разделяем на категории по значениям в столбце critic_score \n",
    "bins2 = [0, 30, 80, 100]\n",
    "labels2 = ['Низкая оценка', 'Средняя оценка', 'Высокая оценка']\n",
    "df_actual['critic_score_category'] = pd.cut(df_actual['critic_score'], bins = bins2, labels = labels2, right = False)\n",
    "df_actual"
   ]
  },
  {
   "cell_type": "markdown",
   "id": "olkTlTlAUDR9",
   "metadata": {
    "id": "olkTlTlAUDR9"
   },
   "source": [
    "- После категоризации данных проверьте результат: сгруппируйте данные по выделенным категориям и посчитайте количество игр в каждой категории."
   ]
  },
  {
   "cell_type": "code",
   "execution_count": 47,
   "id": "HW0Nsp-4UMSL",
   "metadata": {
    "id": "HW0Nsp-4UMSL"
   },
   "outputs": [
    {
     "data": {
      "text/plain": [
       "user_score_category\n",
       "Низкая оценка       95\n",
       "Средняя оценка    3828\n",
       "Высокая оценка    2185\n",
       "Name: name, dtype: int64"
      ]
     },
     "execution_count": 47,
     "metadata": {},
     "output_type": "execute_result"
    }
   ],
   "source": [
    "# считаем количество игр в каждой категории по столбцу с оценками пользователей\n",
    "grouped_user = df_actual.groupby('user_score_category', observed=False)['name'].count()\n",
    "grouped_user"
   ]
  },
  {
   "cell_type": "code",
   "execution_count": 48,
   "id": "x2ne0HIpUMMD",
   "metadata": {
    "id": "x2ne0HIpUMMD"
   },
   "outputs": [
    {
     "data": {
      "text/plain": [
       "critic_score_category\n",
       "Низкая оценка       48\n",
       "Средняя оценка    4401\n",
       "Высокая оценка    1659\n",
       "Name: name, dtype: int64"
      ]
     },
     "execution_count": 48,
     "metadata": {},
     "output_type": "execute_result"
    }
   ],
   "source": [
    "# считаем количество игр в каждой категории по столбцу с оценками критиков\n",
    "grouped_critic = df_actual.groupby('critic_score_category',observed=False)['name'].count()\n",
    "grouped_critic"
   ]
  },
  {
   "cell_type": "code",
   "execution_count": 49,
   "id": "U6kiXU3JUMCc",
   "metadata": {
    "id": "U6kiXU3JUMCc"
   },
   "outputs": [
    {
     "data": {
      "text/plain": [
       "user_score_category  critic_score_category\n",
       "Низкая оценка        Низкая оценка              17\n",
       "                     Средняя оценка             77\n",
       "                     Высокая оценка              1\n",
       "Средняя оценка       Низкая оценка              30\n",
       "                     Средняя оценка           3157\n",
       "                     Высокая оценка            641\n",
       "Высокая оценка       Низкая оценка               1\n",
       "                     Средняя оценка           1167\n",
       "                     Высокая оценка           1017\n",
       "Name: name, dtype: int64"
      ]
     },
     "execution_count": 49,
     "metadata": {},
     "output_type": "execute_result"
    }
   ],
   "source": [
    "# считаем количество игр в каждой категории по обоим столбцам с оценками\n",
    "grouped_both = df_actual.groupby(['user_score_category','critic_score_category'], observed=False)['name'].count()\n",
    "grouped_both"
   ]
  },
  {
   "cell_type": "markdown",
   "id": "6a98444c",
   "metadata": {
    "id": "6a98444c"
   },
   "source": [
    "- Выделите топ-7 платформ по количеству игр, выпущенных за весь актуальный период."
   ]
  },
  {
   "cell_type": "code",
   "execution_count": 46,
   "id": "003caa2c",
   "metadata": {
    "id": "003caa2c"
   },
   "outputs": [
    {
     "data": {
      "text/plain": [
       "platform\n",
       "PS2     1140\n",
       "X360     835\n",
       "PS3      739\n",
       "XB       566\n",
       "PC       562\n",
       "Wii      480\n",
       "DS       465\n",
       "Name: name, dtype: int64"
      ]
     },
     "execution_count": 46,
     "metadata": {},
     "output_type": "execute_result"
    }
   ],
   "source": [
    "# выводим топ-7 платформ по выпущенным играм в интервал времени с 2000 по 2013 год\n",
    "group_platforms = df_actual.groupby(['platform'])['name'].count()\n",
    "group_platforms = group_platforms.sort_values(ascending=False)\n",
    "group_platforms.head(7)"
   ]
  },
  {
   "cell_type": "markdown",
   "id": "c0158881",
   "metadata": {
    "id": "c0158881"
   },
   "source": [
    "---\n",
    "\n",
    "## Итоговый вывод\n"
   ]
  },
  {
   "cell_type": "markdown",
   "id": "d153d6f1",
   "metadata": {
    "id": "20175f5b"
   },
   "source": [
    "В результате проделанной работы были отфильтрованы данные в интересующем нас временном интервале, а также получен список из семи платформ, которые выпустили наибольшее количество игр за этот интервал. Было проделано: \n",
    "- 1. обработка ошибок в данных и их предобработка (было удалено 243 строки с дубликатами, а также были заменены пропущенные значения)\n",
    "- 2. фильрация обработанного датафрейма по интересующим параметрам (датафрейм был отфильтрован в нужном временном интервале 2000-2013 гг)\n",
    "- 3. категоризация данных для подразделения игр по их оценкам (игры были разделены на 3 группы в разрезе оценок критиков и пользователей, а также был получен топ платформ по продажам игр)"
   ]
  }
 ],
 "metadata": {
  "ExecuteTimeLog": [
   {
    "duration": 456,
    "start_time": "2025-06-26T11:45:02.854Z"
   },
   {
    "duration": 3,
    "start_time": "2025-06-26T11:45:10.409Z"
   },
   {
    "duration": 58,
    "start_time": "2025-06-26T11:46:02.031Z"
   },
   {
    "duration": 54,
    "start_time": "2025-06-26T11:48:28.758Z"
   },
   {
    "duration": 112,
    "start_time": "2025-06-26T11:48:42.318Z"
   },
   {
    "duration": 29,
    "start_time": "2025-06-26T11:48:46.981Z"
   },
   {
    "duration": 26,
    "start_time": "2025-06-26T11:50:56.552Z"
   },
   {
    "duration": 22,
    "start_time": "2025-06-26T11:51:48.187Z"
   },
   {
    "duration": 32,
    "start_time": "2025-06-26T11:51:54.228Z"
   },
   {
    "duration": 2,
    "start_time": "2025-06-26T13:23:00.122Z"
   },
   {
    "duration": 82,
    "start_time": "2025-06-26T14:26:07.504Z"
   },
   {
    "duration": 3,
    "start_time": "2025-06-26T14:26:19.428Z"
   },
   {
    "duration": 2,
    "start_time": "2025-06-26T14:27:17.012Z"
   },
   {
    "duration": 4,
    "start_time": "2025-06-26T14:27:28.427Z"
   },
   {
    "duration": 4,
    "start_time": "2025-06-26T14:32:31.957Z"
   },
   {
    "duration": 6,
    "start_time": "2025-06-26T14:32:37.893Z"
   },
   {
    "duration": 4,
    "start_time": "2025-06-26T14:32:40.800Z"
   },
   {
    "duration": 22,
    "start_time": "2025-06-26T14:35:05.482Z"
   },
   {
    "duration": 34,
    "start_time": "2025-06-26T14:35:30.329Z"
   },
   {
    "duration": 8,
    "start_time": "2025-06-26T14:35:43.313Z"
   },
   {
    "duration": 12,
    "start_time": "2025-06-26T14:36:45.737Z"
   },
   {
    "duration": 4,
    "start_time": "2025-06-26T14:36:48.798Z"
   },
   {
    "duration": 14,
    "start_time": "2025-06-26T14:38:45.216Z"
   },
   {
    "duration": 13,
    "start_time": "2025-06-26T14:38:49.377Z"
   },
   {
    "duration": 8,
    "start_time": "2025-06-26T14:46:22.351Z"
   },
   {
    "duration": 15,
    "start_time": "2025-06-26T14:46:36.606Z"
   },
   {
    "duration": 22,
    "start_time": "2025-06-26T14:46:49.974Z"
   },
   {
    "duration": 22,
    "start_time": "2025-06-26T14:46:55.590Z"
   },
   {
    "duration": 53,
    "start_time": "2025-06-26T14:48:09.470Z"
   },
   {
    "duration": 44,
    "start_time": "2025-06-26T14:48:23.950Z"
   },
   {
    "duration": 27,
    "start_time": "2025-06-26T14:48:27.852Z"
   },
   {
    "duration": 6,
    "start_time": "2025-06-26T14:50:38.396Z"
   },
   {
    "duration": 15,
    "start_time": "2025-06-26T14:51:36.205Z"
   },
   {
    "duration": 46,
    "start_time": "2025-06-26T14:52:03.284Z"
   },
   {
    "duration": 388,
    "start_time": "2025-06-26T14:52:10.365Z"
   },
   {
    "duration": 90,
    "start_time": "2025-06-26T14:52:12.571Z"
   },
   {
    "duration": 34,
    "start_time": "2025-06-26T14:52:14.020Z"
   },
   {
    "duration": 16,
    "start_time": "2025-06-26T14:52:20.653Z"
   },
   {
    "duration": 4,
    "start_time": "2025-06-26T14:52:24.691Z"
   },
   {
    "duration": 14,
    "start_time": "2025-06-26T14:52:25.629Z"
   },
   {
    "duration": 16,
    "start_time": "2025-06-26T14:52:29.590Z"
   },
   {
    "duration": 5,
    "start_time": "2025-06-26T14:52:51.148Z"
   },
   {
    "duration": 7,
    "start_time": "2025-06-26T14:54:29.585Z"
   },
   {
    "duration": 5,
    "start_time": "2025-06-26T14:54:43.452Z"
   },
   {
    "duration": 421,
    "start_time": "2025-06-26T14:54:57.743Z"
   },
   {
    "duration": 185,
    "start_time": "2025-06-26T14:54:58.167Z"
   },
   {
    "duration": 25,
    "start_time": "2025-06-26T14:54:58.355Z"
   },
   {
    "duration": 16,
    "start_time": "2025-06-26T14:54:58.579Z"
   },
   {
    "duration": 5,
    "start_time": "2025-06-26T14:55:00.819Z"
   },
   {
    "duration": 7,
    "start_time": "2025-06-26T14:55:01.325Z"
   },
   {
    "duration": 15,
    "start_time": "2025-06-26T14:55:05.467Z"
   },
   {
    "duration": 6,
    "start_time": "2025-06-26T14:55:10.101Z"
   },
   {
    "duration": 70,
    "start_time": "2025-06-26T14:56:06.084Z"
   },
   {
    "duration": 5,
    "start_time": "2025-06-26T14:56:13.536Z"
   },
   {
    "duration": 7,
    "start_time": "2025-06-26T14:56:19.908Z"
   },
   {
    "duration": 376,
    "start_time": "2025-06-26T14:59:20.076Z"
   },
   {
    "duration": 118,
    "start_time": "2025-06-26T14:59:20.454Z"
   },
   {
    "duration": 26,
    "start_time": "2025-06-26T14:59:20.574Z"
   },
   {
    "duration": 15,
    "start_time": "2025-06-26T14:59:20.614Z"
   },
   {
    "duration": 5,
    "start_time": "2025-06-26T14:59:21.998Z"
   },
   {
    "duration": 6,
    "start_time": "2025-06-26T14:59:22.427Z"
   },
   {
    "duration": 15,
    "start_time": "2025-06-26T14:59:25.250Z"
   },
   {
    "duration": 6,
    "start_time": "2025-06-26T14:59:27.581Z"
   },
   {
    "duration": 73,
    "start_time": "2025-06-26T15:03:14.611Z"
   },
   {
    "duration": 10,
    "start_time": "2025-06-26T15:03:33.516Z"
   },
   {
    "duration": 14,
    "start_time": "2025-06-26T15:04:19.234Z"
   },
   {
    "duration": 5,
    "start_time": "2025-06-26T15:04:23.984Z"
   },
   {
    "duration": 8,
    "start_time": "2025-06-26T15:07:47.140Z"
   },
   {
    "duration": 6,
    "start_time": "2025-06-26T15:16:52.177Z"
   },
   {
    "duration": 6,
    "start_time": "2025-06-26T15:17:30.656Z"
   },
   {
    "duration": 18,
    "start_time": "2025-06-26T15:17:39.642Z"
   },
   {
    "duration": 13,
    "start_time": "2025-06-26T15:17:50.359Z"
   },
   {
    "duration": 12,
    "start_time": "2025-06-26T15:19:19.712Z"
   },
   {
    "duration": 44,
    "start_time": "2025-06-27T11:52:00.879Z"
   },
   {
    "duration": 385,
    "start_time": "2025-06-27T11:52:26.468Z"
   },
   {
    "duration": 194,
    "start_time": "2025-06-27T11:52:26.902Z"
   },
   {
    "duration": 30,
    "start_time": "2025-06-27T11:52:27.253Z"
   },
   {
    "duration": 16,
    "start_time": "2025-06-27T11:52:28.973Z"
   },
   {
    "duration": 5,
    "start_time": "2025-06-27T11:52:32.285Z"
   },
   {
    "duration": 6,
    "start_time": "2025-06-27T11:52:32.796Z"
   },
   {
    "duration": 14,
    "start_time": "2025-06-27T11:52:34.908Z"
   },
   {
    "duration": 6,
    "start_time": "2025-06-27T11:52:35.716Z"
   },
   {
    "duration": 32,
    "start_time": "2025-06-27T11:52:36.238Z"
   },
   {
    "duration": 11,
    "start_time": "2025-06-27T11:52:49.447Z"
   },
   {
    "duration": 9,
    "start_time": "2025-06-27T11:53:23.429Z"
   },
   {
    "duration": 7,
    "start_time": "2025-06-27T11:53:28.021Z"
   },
   {
    "duration": 6,
    "start_time": "2025-06-27T11:53:40.286Z"
   },
   {
    "duration": 7,
    "start_time": "2025-06-27T11:53:52.821Z"
   },
   {
    "duration": 6,
    "start_time": "2025-06-27T11:54:38.253Z"
   },
   {
    "duration": 6,
    "start_time": "2025-06-27T11:54:56.829Z"
   },
   {
    "duration": 22,
    "start_time": "2025-06-27T11:55:05.629Z"
   },
   {
    "duration": 13,
    "start_time": "2025-06-27T14:32:11.249Z"
   },
   {
    "duration": 16,
    "start_time": "2025-06-27T14:32:25.752Z"
   },
   {
    "duration": 15,
    "start_time": "2025-06-27T14:32:35.327Z"
   },
   {
    "duration": 7,
    "start_time": "2025-06-27T14:33:28.164Z"
   },
   {
    "duration": 12,
    "start_time": "2025-06-27T14:33:32.834Z"
   },
   {
    "duration": 4,
    "start_time": "2025-06-27T14:34:04.873Z"
   },
   {
    "duration": 5,
    "start_time": "2025-06-27T14:34:12.594Z"
   },
   {
    "duration": 8,
    "start_time": "2025-06-27T14:34:26.696Z"
   },
   {
    "duration": 398,
    "start_time": "2025-06-27T14:35:05.256Z"
   },
   {
    "duration": 133,
    "start_time": "2025-06-27T14:35:05.661Z"
   },
   {
    "duration": 32,
    "start_time": "2025-06-27T14:35:06.022Z"
   },
   {
    "duration": 17,
    "start_time": "2025-06-27T14:35:06.478Z"
   },
   {
    "duration": 4,
    "start_time": "2025-06-27T14:35:09.929Z"
   },
   {
    "duration": 6,
    "start_time": "2025-06-27T14:35:11.313Z"
   },
   {
    "duration": 15,
    "start_time": "2025-06-27T14:35:14.384Z"
   },
   {
    "duration": 3,
    "start_time": "2025-06-27T14:35:16.606Z"
   },
   {
    "duration": 6,
    "start_time": "2025-06-27T14:35:41.952Z"
   },
   {
    "duration": 20,
    "start_time": "2025-06-27T14:35:48.392Z"
   },
   {
    "duration": 22,
    "start_time": "2025-06-27T14:36:10.880Z"
   },
   {
    "duration": 22,
    "start_time": "2025-06-27T14:37:26.250Z"
   },
   {
    "duration": 28,
    "start_time": "2025-06-27T14:37:30.329Z"
   },
   {
    "duration": 358,
    "start_time": "2025-06-27T14:39:28.592Z"
   },
   {
    "duration": 104,
    "start_time": "2025-06-27T14:39:28.952Z"
   },
   {
    "duration": 31,
    "start_time": "2025-06-27T14:39:29.223Z"
   },
   {
    "duration": 21,
    "start_time": "2025-06-27T14:39:30.934Z"
   },
   {
    "duration": 3,
    "start_time": "2025-06-27T14:39:33.165Z"
   },
   {
    "duration": 6,
    "start_time": "2025-06-27T14:39:34.789Z"
   },
   {
    "duration": 15,
    "start_time": "2025-06-27T14:39:36.797Z"
   },
   {
    "duration": 21,
    "start_time": "2025-06-27T14:39:38.989Z"
   },
   {
    "duration": 6,
    "start_time": "2025-06-27T14:40:51.550Z"
   },
   {
    "duration": 66,
    "start_time": "2025-06-27T14:41:28.422Z"
   },
   {
    "duration": 6,
    "start_time": "2025-06-27T14:41:44.822Z"
   },
   {
    "duration": 410,
    "start_time": "2025-06-27T14:42:21.248Z"
   },
   {
    "duration": 130,
    "start_time": "2025-06-27T14:42:21.660Z"
   },
   {
    "duration": 25,
    "start_time": "2025-06-27T14:42:21.791Z"
   },
   {
    "duration": 17,
    "start_time": "2025-06-27T14:42:22.292Z"
   },
   {
    "duration": 3,
    "start_time": "2025-06-27T14:42:25.220Z"
   },
   {
    "duration": 6,
    "start_time": "2025-06-27T14:42:25.580Z"
   },
   {
    "duration": 16,
    "start_time": "2025-06-27T14:42:30.597Z"
   },
   {
    "duration": 6,
    "start_time": "2025-06-27T14:42:40.414Z"
   },
   {
    "duration": 20,
    "start_time": "2025-06-27T14:42:56.412Z"
   },
   {
    "duration": 13,
    "start_time": "2025-06-27T14:45:20.829Z"
   },
   {
    "duration": 3,
    "start_time": "2025-06-27T14:46:41.582Z"
   },
   {
    "duration": 9,
    "start_time": "2025-06-27T14:46:53.649Z"
   },
   {
    "duration": 16,
    "start_time": "2025-06-27T14:47:27.628Z"
   },
   {
    "duration": 14,
    "start_time": "2025-06-27T14:47:42.262Z"
   },
   {
    "duration": 3,
    "start_time": "2025-06-27T14:47:49.091Z"
   },
   {
    "duration": 15,
    "start_time": "2025-06-27T14:48:03.267Z"
   },
   {
    "duration": 68,
    "start_time": "2025-06-27T14:48:25.741Z"
   },
   {
    "duration": 5,
    "start_time": "2025-06-27T14:48:37.116Z"
   },
   {
    "duration": 22,
    "start_time": "2025-06-27T14:48:51.980Z"
   },
   {
    "duration": 8,
    "start_time": "2025-06-27T14:49:30.092Z"
   },
   {
    "duration": 6,
    "start_time": "2025-06-27T14:49:40.452Z"
   },
   {
    "duration": 3,
    "start_time": "2025-06-27T14:49:49.363Z"
   },
   {
    "duration": 21,
    "start_time": "2025-06-27T14:50:22.267Z"
   },
   {
    "duration": 13,
    "start_time": "2025-06-27T14:50:39.508Z"
   },
   {
    "duration": 18,
    "start_time": "2025-06-27T14:51:33.964Z"
   },
   {
    "duration": 33,
    "start_time": "2025-06-27T14:51:46.924Z"
   },
   {
    "duration": 31,
    "start_time": "2025-06-27T14:52:06.555Z"
   },
   {
    "duration": 18,
    "start_time": "2025-06-27T14:52:44.972Z"
   },
   {
    "duration": 10,
    "start_time": "2025-06-27T14:53:11.748Z"
   },
   {
    "duration": 15,
    "start_time": "2025-06-27T14:54:20.141Z"
   },
   {
    "duration": 3,
    "start_time": "2025-06-27T14:55:43.723Z"
   },
   {
    "duration": 9,
    "start_time": "2025-06-27T14:55:49.762Z"
   },
   {
    "duration": 3,
    "start_time": "2025-06-27T14:58:18.659Z"
   },
   {
    "duration": 425,
    "start_time": "2025-06-27T14:58:50.327Z"
   },
   {
    "duration": 139,
    "start_time": "2025-06-27T14:58:50.856Z"
   },
   {
    "duration": 26,
    "start_time": "2025-06-27T14:58:51.392Z"
   },
   {
    "duration": 15,
    "start_time": "2025-06-27T14:58:52.968Z"
   },
   {
    "duration": 4,
    "start_time": "2025-06-27T14:59:01.906Z"
   },
   {
    "duration": 5,
    "start_time": "2025-06-27T14:59:02.524Z"
   },
   {
    "duration": 18,
    "start_time": "2025-06-27T14:59:04.743Z"
   },
   {
    "duration": 4,
    "start_time": "2025-06-27T15:00:41.906Z"
   },
   {
    "duration": 5,
    "start_time": "2025-06-27T15:01:30.457Z"
   },
   {
    "duration": 5,
    "start_time": "2025-06-27T15:01:59.561Z"
   },
   {
    "duration": 19,
    "start_time": "2025-06-27T15:02:03.000Z"
   },
   {
    "duration": 27,
    "start_time": "2025-06-27T15:02:12.073Z"
   },
   {
    "duration": 7,
    "start_time": "2025-06-27T15:02:45.584Z"
   },
   {
    "duration": 26,
    "start_time": "2025-06-27T15:02:53.970Z"
   },
   {
    "duration": 41,
    "start_time": "2025-06-27T15:03:04.815Z"
   },
   {
    "duration": 20,
    "start_time": "2025-06-27T15:03:32.513Z"
   },
   {
    "duration": 38,
    "start_time": "2025-06-27T15:03:40.632Z"
   },
   {
    "duration": 31,
    "start_time": "2025-06-27T15:04:25.313Z"
   },
   {
    "duration": 7,
    "start_time": "2025-06-27T15:04:31.584Z"
   },
   {
    "duration": 3,
    "start_time": "2025-06-27T15:04:47.496Z"
   },
   {
    "duration": 8,
    "start_time": "2025-06-27T15:05:02.320Z"
   },
   {
    "duration": 66,
    "start_time": "2025-06-27T15:05:39.849Z"
   },
   {
    "duration": 23,
    "start_time": "2025-06-27T15:05:47.183Z"
   },
   {
    "duration": 8,
    "start_time": "2025-06-27T15:06:10.120Z"
   },
   {
    "duration": 16,
    "start_time": "2025-06-27T15:06:21.145Z"
   },
   {
    "duration": 23,
    "start_time": "2025-06-27T15:06:52.639Z"
   },
   {
    "duration": 11,
    "start_time": "2025-06-27T15:07:03.569Z"
   },
   {
    "duration": 17,
    "start_time": "2025-06-27T15:07:36.943Z"
   },
   {
    "duration": 377,
    "start_time": "2025-06-27T20:49:23.210Z"
   },
   {
    "duration": 111,
    "start_time": "2025-06-27T20:49:43.245Z"
   },
   {
    "duration": 24,
    "start_time": "2025-06-27T20:49:55.289Z"
   },
   {
    "duration": 14,
    "start_time": "2025-06-27T20:50:38.770Z"
   },
   {
    "duration": 59,
    "start_time": "2025-06-27T20:51:09.882Z"
   },
   {
    "duration": 322,
    "start_time": "2025-06-27T20:51:12.795Z"
   },
   {
    "duration": 80,
    "start_time": "2025-06-27T20:51:13.768Z"
   },
   {
    "duration": 25,
    "start_time": "2025-06-27T20:51:14.345Z"
   },
   {
    "duration": 14,
    "start_time": "2025-06-27T20:51:17.962Z"
   },
   {
    "duration": 3,
    "start_time": "2025-06-27T21:00:15.678Z"
   },
   {
    "duration": 13,
    "start_time": "2025-06-27T21:00:57.558Z"
   },
   {
    "duration": 4,
    "start_time": "2025-06-27T21:01:03.471Z"
   },
   {
    "duration": 6,
    "start_time": "2025-06-27T21:01:22.550Z"
   },
   {
    "duration": 19,
    "start_time": "2025-06-27T21:02:18.495Z"
   },
   {
    "duration": 4,
    "start_time": "2025-06-27T21:03:45.221Z"
   },
   {
    "duration": 8,
    "start_time": "2025-06-27T21:05:01.844Z"
   },
   {
    "duration": 8,
    "start_time": "2025-06-27T21:05:10.379Z"
   },
   {
    "duration": 7,
    "start_time": "2025-06-27T21:05:14.902Z"
   },
   {
    "duration": 14,
    "start_time": "2025-06-27T21:13:21.905Z"
   },
   {
    "duration": 6,
    "start_time": "2025-06-27T21:13:24.418Z"
   },
   {
    "duration": 4,
    "start_time": "2025-06-27T21:13:24.713Z"
   },
   {
    "duration": 4,
    "start_time": "2025-06-27T21:13:25.000Z"
   },
   {
    "duration": 4,
    "start_time": "2025-06-27T21:13:25.314Z"
   },
   {
    "duration": 12,
    "start_time": "2025-06-27T21:14:12.244Z"
   },
   {
    "duration": 9,
    "start_time": "2025-06-27T21:14:33.961Z"
   },
   {
    "duration": 10,
    "start_time": "2025-06-27T21:14:53.713Z"
   },
   {
    "duration": 15,
    "start_time": "2025-06-27T21:17:00.217Z"
   },
   {
    "duration": 15,
    "start_time": "2025-06-27T21:21:41.409Z"
   },
   {
    "duration": 1305,
    "start_time": "2025-06-27T21:21:56.519Z"
   },
   {
    "duration": 21,
    "start_time": "2025-06-27T21:22:02.183Z"
   },
   {
    "duration": 38,
    "start_time": "2025-06-27T21:22:23.648Z"
   },
   {
    "duration": 32,
    "start_time": "2025-06-27T21:22:55.600Z"
   },
   {
    "duration": 36,
    "start_time": "2025-06-27T21:23:37.840Z"
   },
   {
    "duration": 21,
    "start_time": "2025-06-27T21:23:59.799Z"
   },
   {
    "duration": 21,
    "start_time": "2025-06-27T21:24:21.398Z"
   },
   {
    "duration": 21,
    "start_time": "2025-06-27T21:24:30.184Z"
   },
   {
    "duration": 1399,
    "start_time": "2025-06-27T21:25:37.765Z"
   },
   {
    "duration": 1210,
    "start_time": "2025-06-27T21:25:48.222Z"
   },
   {
    "duration": 434,
    "start_time": "2025-06-27T21:26:49.133Z"
   },
   {
    "duration": 120,
    "start_time": "2025-06-27T21:26:49.569Z"
   },
   {
    "duration": 36,
    "start_time": "2025-06-27T21:26:49.942Z"
   },
   {
    "duration": 23,
    "start_time": "2025-06-27T21:26:51.653Z"
   },
   {
    "duration": 27,
    "start_time": "2025-06-27T21:27:03.978Z"
   },
   {
    "duration": 28,
    "start_time": "2025-06-27T21:27:11.405Z"
   },
   {
    "duration": 43,
    "start_time": "2025-06-27T21:27:21.248Z"
   },
   {
    "duration": 22,
    "start_time": "2025-06-27T21:27:30.766Z"
   },
   {
    "duration": 23,
    "start_time": "2025-06-27T21:27:35.876Z"
   },
   {
    "duration": 30,
    "start_time": "2025-06-27T21:27:40.718Z"
   },
   {
    "duration": 24,
    "start_time": "2025-06-27T21:27:45.589Z"
   },
   {
    "duration": 21,
    "start_time": "2025-06-27T21:27:49.596Z"
   },
   {
    "duration": 23,
    "start_time": "2025-06-27T21:27:53.565Z"
   },
   {
    "duration": 30,
    "start_time": "2025-06-27T21:28:00.139Z"
   },
   {
    "duration": 38,
    "start_time": "2025-06-27T21:28:04.132Z"
   },
   {
    "duration": 23,
    "start_time": "2025-06-27T21:28:08.165Z"
   },
   {
    "duration": 30,
    "start_time": "2025-06-27T21:28:11.448Z"
   },
   {
    "duration": 25,
    "start_time": "2025-06-27T21:28:18.251Z"
   },
   {
    "duration": 21,
    "start_time": "2025-06-27T21:28:21.573Z"
   },
   {
    "duration": 22,
    "start_time": "2025-06-27T21:28:24.910Z"
   },
   {
    "duration": 23,
    "start_time": "2025-06-27T21:28:59.525Z"
   },
   {
    "duration": 32,
    "start_time": "2025-06-27T21:29:08.237Z"
   },
   {
    "duration": 31,
    "start_time": "2025-06-27T21:29:18.653Z"
   },
   {
    "duration": 383,
    "start_time": "2025-06-27T21:29:45.651Z"
   },
   {
    "duration": 106,
    "start_time": "2025-06-27T21:29:46.037Z"
   },
   {
    "duration": 25,
    "start_time": "2025-06-27T21:29:48.092Z"
   },
   {
    "duration": 16,
    "start_time": "2025-06-27T21:29:50.388Z"
   },
   {
    "duration": 4,
    "start_time": "2025-06-27T21:29:54.149Z"
   },
   {
    "duration": 5,
    "start_time": "2025-06-27T21:29:54.985Z"
   },
   {
    "duration": 14,
    "start_time": "2025-06-27T21:29:58.414Z"
   },
   {
    "duration": 4,
    "start_time": "2025-06-27T21:29:59.300Z"
   },
   {
    "duration": 7,
    "start_time": "2025-06-27T21:29:59.836Z"
   },
   {
    "duration": 7,
    "start_time": "2025-06-27T21:30:00.172Z"
   },
   {
    "duration": 7,
    "start_time": "2025-06-27T21:30:00.643Z"
   },
   {
    "duration": 15,
    "start_time": "2025-06-27T21:30:03.452Z"
   },
   {
    "duration": 10,
    "start_time": "2025-06-27T21:30:06.010Z"
   },
   {
    "duration": 12,
    "start_time": "2025-06-27T21:30:08.546Z"
   },
   {
    "duration": 18,
    "start_time": "2025-06-27T21:38:36.066Z"
   },
   {
    "duration": 19,
    "start_time": "2025-06-27T21:41:41.912Z"
   },
   {
    "duration": 14,
    "start_time": "2025-06-27T21:44:27.982Z"
   },
   {
    "duration": 19,
    "start_time": "2025-06-27T21:45:00.567Z"
   },
   {
    "duration": 18,
    "start_time": "2025-06-27T21:51:03.526Z"
   },
   {
    "duration": 13,
    "start_time": "2025-06-27T21:52:02.039Z"
   },
   {
    "duration": 17,
    "start_time": "2025-06-27T21:52:54.269Z"
   },
   {
    "duration": 14,
    "start_time": "2025-06-27T21:53:57.868Z"
   },
   {
    "duration": 9,
    "start_time": "2025-06-27T21:54:28.363Z"
   },
   {
    "duration": 16,
    "start_time": "2025-06-27T21:54:36.540Z"
   },
   {
    "duration": 20,
    "start_time": "2025-06-27T21:56:43.225Z"
   },
   {
    "duration": 49,
    "start_time": "2025-06-30T10:19:16.161Z"
   },
   {
    "duration": 422,
    "start_time": "2025-06-30T10:19:22.240Z"
   },
   {
    "duration": 145,
    "start_time": "2025-06-30T10:19:22.664Z"
   },
   {
    "duration": 28,
    "start_time": "2025-06-30T10:19:22.993Z"
   },
   {
    "duration": 17,
    "start_time": "2025-06-30T10:19:23.662Z"
   },
   {
    "duration": 4,
    "start_time": "2025-06-30T10:19:26.383Z"
   },
   {
    "duration": 6,
    "start_time": "2025-06-30T10:19:26.719Z"
   },
   {
    "duration": 14,
    "start_time": "2025-06-30T10:19:29.079Z"
   },
   {
    "duration": 3,
    "start_time": "2025-06-30T10:19:30.504Z"
   },
   {
    "duration": 8,
    "start_time": "2025-06-30T10:19:30.744Z"
   },
   {
    "duration": 8,
    "start_time": "2025-06-30T10:19:30.999Z"
   },
   {
    "duration": 8,
    "start_time": "2025-06-30T10:19:31.383Z"
   },
   {
    "duration": 14,
    "start_time": "2025-06-30T10:19:33.744Z"
   },
   {
    "duration": 13,
    "start_time": "2025-06-30T10:19:35.344Z"
   },
   {
    "duration": 12,
    "start_time": "2025-06-30T10:19:36.280Z"
   },
   {
    "duration": 424,
    "start_time": "2025-06-30T10:55:59.547Z"
   },
   {
    "duration": 323,
    "start_time": "2025-06-30T10:55:59.973Z"
   },
   {
    "duration": 25,
    "start_time": "2025-06-30T10:56:01.154Z"
   },
   {
    "duration": 17,
    "start_time": "2025-06-30T10:56:04.074Z"
   },
   {
    "duration": 22,
    "start_time": "2025-06-30T10:56:17.218Z"
   },
   {
    "duration": 3,
    "start_time": "2025-06-30T10:57:35.706Z"
   },
   {
    "duration": 6,
    "start_time": "2025-06-30T10:57:36.034Z"
   },
   {
    "duration": 15,
    "start_time": "2025-06-30T10:57:38.072Z"
   },
   {
    "duration": 4,
    "start_time": "2025-06-30T10:57:40.337Z"
   },
   {
    "duration": 8,
    "start_time": "2025-06-30T10:57:40.600Z"
   },
   {
    "duration": 8,
    "start_time": "2025-06-30T10:57:40.928Z"
   },
   {
    "duration": 370,
    "start_time": "2025-06-30T10:57:53.812Z"
   },
   {
    "duration": 103,
    "start_time": "2025-06-30T10:57:54.184Z"
   },
   {
    "duration": 26,
    "start_time": "2025-06-30T10:57:54.289Z"
   },
   {
    "duration": 16,
    "start_time": "2025-06-30T10:57:54.349Z"
   },
   {
    "duration": 4,
    "start_time": "2025-06-30T10:58:04.194Z"
   },
   {
    "duration": 6,
    "start_time": "2025-06-30T10:58:04.362Z"
   },
   {
    "duration": 15,
    "start_time": "2025-06-30T10:58:12.449Z"
   },
   {
    "duration": 10,
    "start_time": "2025-06-30T10:58:12.803Z"
   },
   {
    "duration": 8,
    "start_time": "2025-06-30T10:58:13.298Z"
   },
   {
    "duration": 8,
    "start_time": "2025-06-30T10:58:14.426Z"
   },
   {
    "duration": 13,
    "start_time": "2025-06-30T10:58:18.219Z"
   },
   {
    "duration": 15,
    "start_time": "2025-06-30T10:58:52.281Z"
   },
   {
    "duration": 10,
    "start_time": "2025-06-30T10:58:52.913Z"
   },
   {
    "duration": 12,
    "start_time": "2025-06-30T10:58:55.853Z"
   },
   {
    "duration": 23,
    "start_time": "2025-06-30T10:59:00.475Z"
   },
   {
    "duration": 14,
    "start_time": "2025-06-30T10:59:01.029Z"
   },
   {
    "duration": 20,
    "start_time": "2025-06-30T10:59:03.073Z"
   },
   {
    "duration": 16,
    "start_time": "2025-06-30T10:59:05.881Z"
   },
   {
    "duration": 32,
    "start_time": "2025-06-30T11:00:09.057Z"
   },
   {
    "duration": 17,
    "start_time": "2025-06-30T11:30:58.528Z"
   },
   {
    "duration": 31,
    "start_time": "2025-06-30T11:38:59.453Z"
   },
   {
    "duration": 23,
    "start_time": "2025-06-30T11:39:39.053Z"
   },
   {
    "duration": 7,
    "start_time": "2025-06-30T11:42:53.389Z"
   },
   {
    "duration": 4,
    "start_time": "2025-06-30T11:43:28.052Z"
   },
   {
    "duration": 6,
    "start_time": "2025-06-30T11:43:54.591Z"
   },
   {
    "duration": 8,
    "start_time": "2025-06-30T11:44:01.628Z"
   },
   {
    "duration": 6,
    "start_time": "2025-06-30T11:44:11.651Z"
   },
   {
    "duration": 3,
    "start_time": "2025-06-30T11:44:22.307Z"
   },
   {
    "duration": 4,
    "start_time": "2025-06-30T11:44:48.061Z"
   },
   {
    "duration": 7,
    "start_time": "2025-06-30T11:46:46.533Z"
   },
   {
    "duration": 427,
    "start_time": "2025-06-30T11:47:09.444Z"
   },
   {
    "duration": 133,
    "start_time": "2025-06-30T11:47:09.873Z"
   },
   {
    "duration": 29,
    "start_time": "2025-06-30T11:47:10.153Z"
   },
   {
    "duration": 17,
    "start_time": "2025-06-30T11:47:11.881Z"
   },
   {
    "duration": 4,
    "start_time": "2025-06-30T11:47:15.587Z"
   },
   {
    "duration": 9,
    "start_time": "2025-06-30T11:47:17.131Z"
   },
   {
    "duration": 14,
    "start_time": "2025-06-30T11:47:19.721Z"
   },
   {
    "duration": 7,
    "start_time": "2025-06-30T11:47:21.698Z"
   },
   {
    "duration": 9,
    "start_time": "2025-06-30T11:47:23.065Z"
   },
   {
    "duration": 7,
    "start_time": "2025-06-30T11:47:25.146Z"
   },
   {
    "duration": 34,
    "start_time": "2025-06-30T11:47:26.220Z"
   },
   {
    "duration": 12,
    "start_time": "2025-06-30T11:47:29.050Z"
   },
   {
    "duration": 10,
    "start_time": "2025-06-30T11:47:31.346Z"
   },
   {
    "duration": 11,
    "start_time": "2025-06-30T11:47:32.266Z"
   },
   {
    "duration": 23,
    "start_time": "2025-06-30T11:47:34.747Z"
   },
   {
    "duration": 13,
    "start_time": "2025-06-30T11:47:39.204Z"
   },
   {
    "duration": 21,
    "start_time": "2025-06-30T11:47:39.700Z"
   },
   {
    "duration": 17,
    "start_time": "2025-06-30T11:47:40.146Z"
   },
   {
    "duration": 17,
    "start_time": "2025-06-30T11:47:46.339Z"
   },
   {
    "duration": 4,
    "start_time": "2025-06-30T11:47:53.234Z"
   },
   {
    "duration": 4,
    "start_time": "2025-06-30T11:47:53.586Z"
   },
   {
    "duration": 5,
    "start_time": "2025-06-30T11:47:53.986Z"
   },
   {
    "duration": 8,
    "start_time": "2025-06-30T11:54:21.852Z"
   },
   {
    "duration": 222,
    "start_time": "2025-06-30T16:25:11.388Z"
   },
   {
    "duration": 165,
    "start_time": "2025-06-30T16:25:17.973Z"
   },
   {
    "duration": 163,
    "start_time": "2025-06-30T16:25:28.237Z"
   },
   {
    "duration": 154,
    "start_time": "2025-06-30T16:25:36.580Z"
   },
   {
    "duration": 153,
    "start_time": "2025-06-30T16:30:46.609Z"
   },
   {
    "duration": 33,
    "start_time": "2025-06-30T16:35:32.801Z"
   },
   {
    "duration": 36,
    "start_time": "2025-06-30T16:35:42.754Z"
   },
   {
    "duration": 32,
    "start_time": "2025-06-30T16:36:12.595Z"
   },
   {
    "duration": 31,
    "start_time": "2025-06-30T16:36:29.513Z"
   },
   {
    "duration": 3,
    "start_time": "2025-06-30T16:50:06.947Z"
   },
   {
    "duration": 5,
    "start_time": "2025-06-30T16:52:00.156Z"
   },
   {
    "duration": 20,
    "start_time": "2025-06-30T16:52:06.268Z"
   },
   {
    "duration": 25,
    "start_time": "2025-06-30T16:52:11.003Z"
   },
   {
    "duration": 18,
    "start_time": "2025-06-30T16:52:24.571Z"
   },
   {
    "duration": 4,
    "start_time": "2025-06-30T16:53:18.163Z"
   },
   {
    "duration": 168,
    "start_time": "2025-06-30T16:53:30.938Z"
   },
   {
    "duration": 4,
    "start_time": "2025-06-30T16:53:33.435Z"
   },
   {
    "duration": 16,
    "start_time": "2025-06-30T16:53:39.714Z"
   },
   {
    "duration": 4,
    "start_time": "2025-06-30T16:53:46.314Z"
   },
   {
    "duration": 5,
    "start_time": "2025-06-30T16:58:06.200Z"
   },
   {
    "duration": 6,
    "start_time": "2025-06-30T16:58:14.617Z"
   },
   {
    "duration": 7,
    "start_time": "2025-06-30T16:58:47.169Z"
   },
   {
    "duration": 5,
    "start_time": "2025-06-30T16:58:55.208Z"
   },
   {
    "duration": 5,
    "start_time": "2025-06-30T16:59:08.592Z"
   },
   {
    "duration": 6,
    "start_time": "2025-06-30T17:00:01.512Z"
   },
   {
    "duration": 8,
    "start_time": "2025-06-30T17:00:23.593Z"
   },
   {
    "duration": 5,
    "start_time": "2025-06-30T17:01:22.121Z"
   },
   {
    "duration": 16,
    "start_time": "2025-06-30T17:02:38.712Z"
   },
   {
    "duration": 6,
    "start_time": "2025-06-30T17:04:20.330Z"
   },
   {
    "duration": 5,
    "start_time": "2025-06-30T17:06:09.879Z"
   },
   {
    "duration": 19,
    "start_time": "2025-06-30T17:08:51.103Z"
   },
   {
    "duration": 32,
    "start_time": "2025-06-30T17:09:03.933Z"
   },
   {
    "duration": 18,
    "start_time": "2025-06-30T17:10:38.565Z"
   },
   {
    "duration": 9,
    "start_time": "2025-06-30T17:11:08.669Z"
   },
   {
    "duration": 25,
    "start_time": "2025-06-30T17:11:38.805Z"
   },
   {
    "duration": 3,
    "start_time": "2025-06-30T17:11:58.932Z"
   },
   {
    "duration": 23,
    "start_time": "2025-06-30T17:12:23.900Z"
   },
   {
    "duration": 14,
    "start_time": "2025-06-30T17:12:40.629Z"
   },
   {
    "duration": 18,
    "start_time": "2025-06-30T17:13:19.925Z"
   },
   {
    "duration": 28,
    "start_time": "2025-06-30T17:15:02.020Z"
   },
   {
    "duration": 18,
    "start_time": "2025-06-30T17:15:15.540Z"
   },
   {
    "duration": 40,
    "start_time": "2025-06-30T17:16:30.737Z"
   },
   {
    "duration": 33,
    "start_time": "2025-06-30T17:16:41.710Z"
   },
   {
    "duration": 437,
    "start_time": "2025-06-30T17:17:19.500Z"
   },
   {
    "duration": 129,
    "start_time": "2025-06-30T17:17:19.939Z"
   },
   {
    "duration": 28,
    "start_time": "2025-06-30T17:17:20.300Z"
   },
   {
    "duration": 16,
    "start_time": "2025-06-30T17:17:22.547Z"
   },
   {
    "duration": 4,
    "start_time": "2025-06-30T17:17:29.563Z"
   },
   {
    "duration": 7,
    "start_time": "2025-06-30T17:17:30.297Z"
   },
   {
    "duration": 15,
    "start_time": "2025-06-30T17:17:32.970Z"
   },
   {
    "duration": 8,
    "start_time": "2025-06-30T17:17:35.426Z"
   },
   {
    "duration": 8,
    "start_time": "2025-06-30T17:17:35.755Z"
   },
   {
    "duration": 9,
    "start_time": "2025-06-30T17:17:36.132Z"
   },
   {
    "duration": 36,
    "start_time": "2025-06-30T17:17:37.251Z"
   },
   {
    "duration": 13,
    "start_time": "2025-06-30T17:17:40.043Z"
   },
   {
    "duration": 9,
    "start_time": "2025-06-30T17:17:48.260Z"
   },
   {
    "duration": 11,
    "start_time": "2025-06-30T17:17:49.930Z"
   },
   {
    "duration": 24,
    "start_time": "2025-06-30T17:17:53.756Z"
   },
   {
    "duration": 14,
    "start_time": "2025-06-30T17:17:55.517Z"
   },
   {
    "duration": 22,
    "start_time": "2025-06-30T17:17:55.859Z"
   },
   {
    "duration": 18,
    "start_time": "2025-06-30T17:17:56.237Z"
   },
   {
    "duration": 17,
    "start_time": "2025-06-30T17:18:16.900Z"
   },
   {
    "duration": 3,
    "start_time": "2025-06-30T17:18:33.939Z"
   },
   {
    "duration": 4,
    "start_time": "2025-06-30T17:18:36.169Z"
   },
   {
    "duration": 63,
    "start_time": "2025-06-30T17:18:37.386Z"
   },
   {
    "duration": 167,
    "start_time": "2025-06-30T17:18:56.634Z"
   },
   {
    "duration": 160,
    "start_time": "2025-06-30T17:18:57.938Z"
   },
   {
    "duration": 5,
    "start_time": "2025-06-30T17:19:00.601Z"
   },
   {
    "duration": 5,
    "start_time": "2025-06-30T17:19:05.419Z"
   },
   {
    "duration": 5,
    "start_time": "2025-06-30T17:19:07.545Z"
   },
   {
    "duration": 8,
    "start_time": "2025-06-30T17:19:08.010Z"
   },
   {
    "duration": 10,
    "start_time": "2025-06-30T17:19:08.786Z"
   },
   {
    "duration": 370,
    "start_time": "2025-06-30T18:36:37.252Z"
   },
   {
    "duration": 124,
    "start_time": "2025-06-30T18:36:37.624Z"
   },
   {
    "duration": 28,
    "start_time": "2025-06-30T18:36:37.792Z"
   },
   {
    "duration": 16,
    "start_time": "2025-06-30T18:36:38.539Z"
   },
   {
    "duration": 5,
    "start_time": "2025-06-30T18:36:44.631Z"
   },
   {
    "duration": 7,
    "start_time": "2025-06-30T18:36:46.137Z"
   },
   {
    "duration": 15,
    "start_time": "2025-06-30T18:36:47.730Z"
   },
   {
    "duration": 8,
    "start_time": "2025-06-30T18:36:49.674Z"
   },
   {
    "duration": 9,
    "start_time": "2025-06-30T18:36:49.986Z"
   },
   {
    "duration": 9,
    "start_time": "2025-06-30T18:36:50.306Z"
   },
   {
    "duration": 35,
    "start_time": "2025-06-30T18:36:51.172Z"
   },
   {
    "duration": 14,
    "start_time": "2025-06-30T18:36:54.538Z"
   },
   {
    "duration": 9,
    "start_time": "2025-06-30T18:36:56.152Z"
   },
   {
    "duration": 12,
    "start_time": "2025-06-30T18:36:56.744Z"
   },
   {
    "duration": 23,
    "start_time": "2025-06-30T18:37:00.433Z"
   },
   {
    "duration": 13,
    "start_time": "2025-06-30T18:37:00.977Z"
   },
   {
    "duration": 21,
    "start_time": "2025-06-30T18:37:01.329Z"
   },
   {
    "duration": 17,
    "start_time": "2025-06-30T18:37:01.689Z"
   },
   {
    "duration": 17,
    "start_time": "2025-06-30T18:37:13.191Z"
   },
   {
    "duration": 4,
    "start_time": "2025-06-30T18:37:15.569Z"
   },
   {
    "duration": 3,
    "start_time": "2025-06-30T18:37:16.034Z"
   },
   {
    "duration": 172,
    "start_time": "2025-06-30T18:37:16.594Z"
   },
   {
    "duration": 164,
    "start_time": "2025-06-30T18:37:16.986Z"
   },
   {
    "duration": 5,
    "start_time": "2025-06-30T18:37:19.523Z"
   },
   {
    "duration": 6,
    "start_time": "2025-06-30T18:37:48.618Z"
   },
   {
    "duration": 6,
    "start_time": "2025-06-30T18:37:48.904Z"
   },
   {
    "duration": 8,
    "start_time": "2025-06-30T18:37:49.456Z"
   },
   {
    "duration": 8,
    "start_time": "2025-06-30T18:37:51.177Z"
   },
   {
    "duration": 9,
    "start_time": "2025-06-30T18:40:50.715Z"
   },
   {
    "duration": 12,
    "start_time": "2025-06-30T18:42:11.723Z"
   },
   {
    "duration": 6,
    "start_time": "2025-06-30T18:43:48.953Z"
   },
   {
    "duration": 9,
    "start_time": "2025-06-30T18:44:05.457Z"
   },
   {
    "duration": 9,
    "start_time": "2025-06-30T18:44:12.618Z"
   },
   {
    "duration": 15,
    "start_time": "2025-06-30T18:44:40.408Z"
   },
   {
    "duration": 8,
    "start_time": "2025-06-30T18:45:14.800Z"
   },
   {
    "duration": 14,
    "start_time": "2025-06-30T18:45:33.529Z"
   },
   {
    "duration": 7,
    "start_time": "2025-06-30T18:46:01.016Z"
   },
   {
    "duration": 5,
    "start_time": "2025-06-30T18:46:17.208Z"
   },
   {
    "duration": 13,
    "start_time": "2025-06-30T18:46:39.296Z"
   },
   {
    "duration": 7,
    "start_time": "2025-06-30T18:49:07.623Z"
   },
   {
    "duration": 8,
    "start_time": "2025-06-30T18:49:44.393Z"
   },
   {
    "duration": 19,
    "start_time": "2025-06-30T18:49:54.207Z"
   },
   {
    "duration": 33,
    "start_time": "2025-06-30T18:50:37.669Z"
   },
   {
    "duration": 17,
    "start_time": "2025-06-30T18:51:13.111Z"
   },
   {
    "duration": 32,
    "start_time": "2025-06-30T18:51:31.255Z"
   },
   {
    "duration": 4,
    "start_time": "2025-06-30T18:59:47.204Z"
   },
   {
    "duration": 5,
    "start_time": "2025-06-30T19:00:05.500Z"
   },
   {
    "duration": 5,
    "start_time": "2025-06-30T19:00:17.094Z"
   },
   {
    "duration": 4,
    "start_time": "2025-06-30T19:01:10.826Z"
   },
   {
    "duration": 18,
    "start_time": "2025-06-30T19:01:25.995Z"
   },
   {
    "duration": 32,
    "start_time": "2025-06-30T19:01:30.173Z"
   },
   {
    "duration": 4,
    "start_time": "2025-06-30T19:01:39.338Z"
   },
   {
    "duration": 4,
    "start_time": "2025-06-30T19:01:44.251Z"
   },
   {
    "duration": 4,
    "start_time": "2025-06-30T19:02:48.154Z"
   },
   {
    "duration": 2,
    "start_time": "2025-06-30T19:03:11.778Z"
   },
   {
    "duration": 4,
    "start_time": "2025-06-30T19:03:18.755Z"
   },
   {
    "duration": 2,
    "start_time": "2025-06-30T19:04:05.523Z"
   },
   {
    "duration": 4,
    "start_time": "2025-06-30T19:04:10.659Z"
   },
   {
    "duration": 4,
    "start_time": "2025-06-30T19:04:30.610Z"
   },
   {
    "duration": 7,
    "start_time": "2025-06-30T19:09:34.072Z"
   },
   {
    "duration": 8,
    "start_time": "2025-06-30T19:10:03.144Z"
   },
   {
    "duration": 21,
    "start_time": "2025-06-30T19:10:14.017Z"
   },
   {
    "duration": 17,
    "start_time": "2025-06-30T19:11:08.618Z"
   },
   {
    "duration": 19,
    "start_time": "2025-06-30T19:12:02.568Z"
   },
   {
    "duration": 54,
    "start_time": "2025-06-30T19:22:24.058Z"
   },
   {
    "duration": 66,
    "start_time": "2025-06-30T19:22:29.300Z"
   },
   {
    "duration": 23,
    "start_time": "2025-06-30T19:22:39.093Z"
   },
   {
    "duration": 22,
    "start_time": "2025-06-30T19:25:36.084Z"
   },
   {
    "duration": 24,
    "start_time": "2025-06-30T19:25:45.132Z"
   },
   {
    "duration": 21,
    "start_time": "2025-06-30T19:28:53.426Z"
   },
   {
    "duration": 18,
    "start_time": "2025-06-30T19:29:02.443Z"
   },
   {
    "duration": 20,
    "start_time": "2025-06-30T19:29:20.434Z"
   },
   {
    "duration": 23,
    "start_time": "2025-06-30T19:29:21.761Z"
   },
   {
    "duration": 19,
    "start_time": "2025-06-30T19:29:35.456Z"
   },
   {
    "duration": 25,
    "start_time": "2025-06-30T19:33:05.264Z"
   },
   {
    "duration": 21,
    "start_time": "2025-06-30T19:33:08.825Z"
   },
   {
    "duration": 24,
    "start_time": "2025-06-30T19:36:21.375Z"
   },
   {
    "duration": 8,
    "start_time": "2025-06-30T19:36:26.999Z"
   },
   {
    "duration": 372,
    "start_time": "2025-06-30T19:36:41.745Z"
   },
   {
    "duration": 78,
    "start_time": "2025-06-30T19:36:42.119Z"
   },
   {
    "duration": 27,
    "start_time": "2025-06-30T19:36:42.266Z"
   },
   {
    "duration": 17,
    "start_time": "2025-06-30T19:36:44.911Z"
   },
   {
    "duration": 4,
    "start_time": "2025-06-30T19:36:47.008Z"
   },
   {
    "duration": 7,
    "start_time": "2025-06-30T19:36:47.383Z"
   },
   {
    "duration": 15,
    "start_time": "2025-06-30T19:36:49.168Z"
   },
   {
    "duration": 8,
    "start_time": "2025-06-30T19:36:50.528Z"
   },
   {
    "duration": 9,
    "start_time": "2025-06-30T19:36:50.790Z"
   },
   {
    "duration": 8,
    "start_time": "2025-06-30T19:36:51.048Z"
   },
   {
    "duration": 35,
    "start_time": "2025-06-30T19:36:51.544Z"
   },
   {
    "duration": 13,
    "start_time": "2025-06-30T19:36:53.679Z"
   },
   {
    "duration": 9,
    "start_time": "2025-06-30T19:36:54.134Z"
   },
   {
    "duration": 10,
    "start_time": "2025-06-30T19:36:55.543Z"
   },
   {
    "duration": 23,
    "start_time": "2025-06-30T19:36:57.703Z"
   },
   {
    "duration": 14,
    "start_time": "2025-06-30T19:36:58.049Z"
   },
   {
    "duration": 22,
    "start_time": "2025-06-30T19:36:58.377Z"
   },
   {
    "duration": 17,
    "start_time": "2025-06-30T19:36:58.688Z"
   },
   {
    "duration": 17,
    "start_time": "2025-06-30T19:37:05.504Z"
   },
   {
    "duration": 4,
    "start_time": "2025-06-30T19:37:07.126Z"
   },
   {
    "duration": 3,
    "start_time": "2025-06-30T19:37:07.534Z"
   },
   {
    "duration": 161,
    "start_time": "2025-06-30T19:37:07.937Z"
   },
   {
    "duration": 167,
    "start_time": "2025-06-30T19:37:09.311Z"
   },
   {
    "duration": 5,
    "start_time": "2025-06-30T19:37:10.423Z"
   },
   {
    "duration": 6,
    "start_time": "2025-06-30T19:37:11.510Z"
   },
   {
    "duration": 10,
    "start_time": "2025-06-30T19:37:12.911Z"
   },
   {
    "duration": 5,
    "start_time": "2025-06-30T19:37:13.544Z"
   },
   {
    "duration": 8,
    "start_time": "2025-06-30T19:37:14.002Z"
   },
   {
    "duration": 14,
    "start_time": "2025-06-30T19:37:14.416Z"
   },
   {
    "duration": 5,
    "start_time": "2025-06-30T19:37:14.976Z"
   },
   {
    "duration": 16,
    "start_time": "2025-06-30T19:37:21.464Z"
   },
   {
    "duration": 8,
    "start_time": "2025-06-30T19:37:22.366Z"
   },
   {
    "duration": 28,
    "start_time": "2025-06-30T19:37:24.442Z"
   },
   {
    "duration": 32,
    "start_time": "2025-06-30T19:37:26.303Z"
   },
   {
    "duration": 3,
    "start_time": "2025-06-30T19:37:36.127Z"
   },
   {
    "duration": 3,
    "start_time": "2025-06-30T19:37:36.671Z"
   },
   {
    "duration": 20,
    "start_time": "2025-06-30T19:37:38.975Z"
   },
   {
    "duration": 29,
    "start_time": "2025-06-30T19:37:44.728Z"
   },
   {
    "duration": 64,
    "start_time": "2025-06-30T19:37:47.096Z"
   },
   {
    "duration": 22,
    "start_time": "2025-06-30T19:37:54.041Z"
   },
   {
    "duration": 32,
    "start_time": "2025-06-30T19:38:03.628Z"
   },
   {
    "duration": 26,
    "start_time": "2025-06-30T19:39:32.447Z"
   },
   {
    "duration": 24,
    "start_time": "2025-06-30T19:40:01.407Z"
   },
   {
    "duration": 14,
    "start_time": "2025-06-30T19:51:04.195Z"
   },
   {
    "duration": 26,
    "start_time": "2025-06-30T19:51:18.053Z"
   },
   {
    "duration": 437,
    "start_time": "2025-06-30T19:51:45.290Z"
   },
   {
    "duration": 96,
    "start_time": "2025-06-30T19:51:45.729Z"
   },
   {
    "duration": 25,
    "start_time": "2025-06-30T19:51:45.827Z"
   },
   {
    "duration": 22,
    "start_time": "2025-06-30T19:51:46.083Z"
   },
   {
    "duration": 4,
    "start_time": "2025-06-30T19:51:48.792Z"
   },
   {
    "duration": 6,
    "start_time": "2025-06-30T19:51:49.369Z"
   },
   {
    "duration": 15,
    "start_time": "2025-06-30T19:51:50.753Z"
   },
   {
    "duration": 8,
    "start_time": "2025-06-30T19:51:52.234Z"
   },
   {
    "duration": 8,
    "start_time": "2025-06-30T19:51:52.461Z"
   },
   {
    "duration": 7,
    "start_time": "2025-06-30T19:51:52.650Z"
   },
   {
    "duration": 43,
    "start_time": "2025-06-30T19:51:53.090Z"
   },
   {
    "duration": 14,
    "start_time": "2025-06-30T19:51:55.650Z"
   },
   {
    "duration": 10,
    "start_time": "2025-06-30T19:51:56.042Z"
   },
   {
    "duration": 11,
    "start_time": "2025-06-30T19:51:57.891Z"
   },
   {
    "duration": 29,
    "start_time": "2025-06-30T19:51:59.084Z"
   },
   {
    "duration": 24,
    "start_time": "2025-06-30T19:51:59.402Z"
   },
   {
    "duration": 20,
    "start_time": "2025-06-30T19:52:00.327Z"
   },
   {
    "duration": 16,
    "start_time": "2025-06-30T19:52:00.724Z"
   },
   {
    "duration": 17,
    "start_time": "2025-06-30T19:52:10.228Z"
   },
   {
    "duration": 3,
    "start_time": "2025-06-30T19:52:10.690Z"
   },
   {
    "duration": 4,
    "start_time": "2025-06-30T19:52:12.083Z"
   },
   {
    "duration": 174,
    "start_time": "2025-06-30T19:52:12.315Z"
   },
   {
    "duration": 175,
    "start_time": "2025-06-30T19:52:12.563Z"
   },
   {
    "duration": 5,
    "start_time": "2025-06-30T19:52:13.387Z"
   },
   {
    "duration": 4,
    "start_time": "2025-06-30T19:52:14.915Z"
   },
   {
    "duration": 10,
    "start_time": "2025-06-30T19:52:15.273Z"
   },
   {
    "duration": 5,
    "start_time": "2025-06-30T19:52:15.546Z"
   },
   {
    "duration": 7,
    "start_time": "2025-06-30T19:52:15.817Z"
   },
   {
    "duration": 26,
    "start_time": "2025-06-30T19:52:17.489Z"
   },
   {
    "duration": 5,
    "start_time": "2025-06-30T19:52:17.739Z"
   },
   {
    "duration": 15,
    "start_time": "2025-06-30T19:52:18.413Z"
   },
   {
    "duration": 7,
    "start_time": "2025-06-30T19:52:19.082Z"
   },
   {
    "duration": 16,
    "start_time": "2025-06-30T19:52:21.129Z"
   },
   {
    "duration": 42,
    "start_time": "2025-06-30T19:52:21.507Z"
   },
   {
    "duration": 5,
    "start_time": "2025-06-30T19:52:24.919Z"
   },
   {
    "duration": 3,
    "start_time": "2025-06-30T19:52:25.331Z"
   },
   {
    "duration": 18,
    "start_time": "2025-06-30T19:52:28.851Z"
   },
   {
    "duration": 7,
    "start_time": "2025-06-30T19:52:32.131Z"
   },
   {
    "duration": 24,
    "start_time": "2025-06-30T19:52:34.834Z"
   },
   {
    "duration": 31,
    "start_time": "2025-06-30T19:52:57.515Z"
   },
   {
    "duration": 24,
    "start_time": "2025-06-30T19:53:09.262Z"
   },
   {
    "duration": 412,
    "start_time": "2025-06-30T19:53:45.884Z"
   },
   {
    "duration": 121,
    "start_time": "2025-06-30T19:53:46.299Z"
   },
   {
    "duration": 37,
    "start_time": "2025-06-30T19:53:46.422Z"
   },
   {
    "duration": 16,
    "start_time": "2025-06-30T19:53:46.461Z"
   },
   {
    "duration": 4,
    "start_time": "2025-06-30T19:53:46.866Z"
   },
   {
    "duration": 8,
    "start_time": "2025-06-30T19:53:47.010Z"
   },
   {
    "duration": 14,
    "start_time": "2025-06-30T19:53:47.434Z"
   },
   {
    "duration": 9,
    "start_time": "2025-06-30T19:53:47.594Z"
   },
   {
    "duration": 9,
    "start_time": "2025-06-30T19:53:47.744Z"
   },
   {
    "duration": 12,
    "start_time": "2025-06-30T19:53:49.467Z"
   },
   {
    "duration": 47,
    "start_time": "2025-06-30T19:53:49.609Z"
   },
   {
    "duration": 12,
    "start_time": "2025-06-30T19:53:50.072Z"
   },
   {
    "duration": 14,
    "start_time": "2025-06-30T19:53:50.227Z"
   },
   {
    "duration": 19,
    "start_time": "2025-06-30T19:53:50.387Z"
   },
   {
    "duration": 23,
    "start_time": "2025-06-30T19:53:50.946Z"
   },
   {
    "duration": 14,
    "start_time": "2025-06-30T19:53:51.262Z"
   },
   {
    "duration": 21,
    "start_time": "2025-06-30T19:53:51.443Z"
   },
   {
    "duration": 18,
    "start_time": "2025-06-30T19:53:51.724Z"
   },
   {
    "duration": 18,
    "start_time": "2025-06-30T19:53:53.665Z"
   },
   {
    "duration": 4,
    "start_time": "2025-06-30T19:53:53.844Z"
   },
   {
    "duration": 4,
    "start_time": "2025-06-30T19:53:54.155Z"
   },
   {
    "duration": 188,
    "start_time": "2025-06-30T19:53:54.331Z"
   },
   {
    "duration": 188,
    "start_time": "2025-06-30T19:53:54.521Z"
   },
   {
    "duration": 5,
    "start_time": "2025-06-30T19:53:56.377Z"
   },
   {
    "duration": 4,
    "start_time": "2025-06-30T19:53:56.738Z"
   },
   {
    "duration": 14,
    "start_time": "2025-06-30T19:53:56.889Z"
   },
   {
    "duration": 7,
    "start_time": "2025-06-30T19:53:57.041Z"
   },
   {
    "duration": 11,
    "start_time": "2025-06-30T19:53:58.795Z"
   },
   {
    "duration": 14,
    "start_time": "2025-06-30T19:53:58.978Z"
   },
   {
    "duration": 5,
    "start_time": "2025-06-30T19:53:59.125Z"
   },
   {
    "duration": 18,
    "start_time": "2025-06-30T19:53:59.273Z"
   },
   {
    "duration": 9,
    "start_time": "2025-06-30T19:53:59.435Z"
   },
   {
    "duration": 20,
    "start_time": "2025-06-30T19:54:01.440Z"
   },
   {
    "duration": 42,
    "start_time": "2025-06-30T19:54:01.804Z"
   },
   {
    "duration": 4,
    "start_time": "2025-06-30T19:54:05.691Z"
   },
   {
    "duration": 4,
    "start_time": "2025-06-30T19:54:06.035Z"
   },
   {
    "duration": 23,
    "start_time": "2025-06-30T19:54:09.114Z"
   },
   {
    "duration": 20,
    "start_time": "2025-06-30T19:54:11.642Z"
   },
   {
    "duration": 384,
    "start_time": "2025-07-01T13:51:56.016Z"
   },
   {
    "duration": 121,
    "start_time": "2025-07-01T13:51:56.402Z"
   },
   {
    "duration": 29,
    "start_time": "2025-07-01T13:51:56.625Z"
   },
   {
    "duration": 16,
    "start_time": "2025-07-01T13:51:58.488Z"
   },
   {
    "duration": 4,
    "start_time": "2025-07-01T13:52:04.065Z"
   },
   {
    "duration": 7,
    "start_time": "2025-07-01T13:52:06.607Z"
   },
   {
    "duration": 15,
    "start_time": "2025-07-01T13:52:07.208Z"
   },
   {
    "duration": 9,
    "start_time": "2025-07-01T13:52:07.559Z"
   },
   {
    "duration": 8,
    "start_time": "2025-07-01T13:52:07.800Z"
   },
   {
    "duration": 8,
    "start_time": "2025-07-01T13:52:09.685Z"
   },
   {
    "duration": 34,
    "start_time": "2025-07-01T13:52:10.024Z"
   },
   {
    "duration": 18,
    "start_time": "2025-07-01T13:52:11.488Z"
   },
   {
    "duration": 11,
    "start_time": "2025-07-01T13:52:13.766Z"
   },
   {
    "duration": 12,
    "start_time": "2025-07-01T13:52:14.184Z"
   },
   {
    "duration": 23,
    "start_time": "2025-07-01T13:52:16.911Z"
   },
   {
    "duration": 13,
    "start_time": "2025-07-01T13:52:17.415Z"
   },
   {
    "duration": 21,
    "start_time": "2025-07-01T13:52:19.095Z"
   },
   {
    "duration": 18,
    "start_time": "2025-07-01T13:52:19.655Z"
   },
   {
    "duration": 15,
    "start_time": "2025-07-01T13:52:24.216Z"
   },
   {
    "duration": 4,
    "start_time": "2025-07-01T13:52:27.234Z"
   },
   {
    "duration": 3,
    "start_time": "2025-07-01T13:52:32.697Z"
   },
   {
    "duration": 165,
    "start_time": "2025-07-01T13:52:32.996Z"
   },
   {
    "duration": 165,
    "start_time": "2025-07-01T13:52:33.415Z"
   },
   {
    "duration": 6,
    "start_time": "2025-07-01T13:52:35.376Z"
   },
   {
    "duration": 6,
    "start_time": "2025-07-01T13:52:36.080Z"
   },
   {
    "duration": 12,
    "start_time": "2025-07-01T13:52:37.852Z"
   },
   {
    "duration": 6,
    "start_time": "2025-07-01T13:52:43.737Z"
   },
   {
    "duration": 11,
    "start_time": "2025-07-01T13:52:43.943Z"
   },
   {
    "duration": 16,
    "start_time": "2025-07-01T13:52:44.535Z"
   },
   {
    "duration": 5,
    "start_time": "2025-07-01T13:52:45.127Z"
   },
   {
    "duration": 16,
    "start_time": "2025-07-01T13:52:47.423Z"
   },
   {
    "duration": 9,
    "start_time": "2025-07-01T13:53:04.751Z"
   },
   {
    "duration": 19,
    "start_time": "2025-07-01T13:53:06.350Z"
   },
   {
    "duration": 33,
    "start_time": "2025-07-01T13:53:13.215Z"
   },
   {
    "duration": 4,
    "start_time": "2025-07-01T13:53:16.880Z"
   },
   {
    "duration": 3,
    "start_time": "2025-07-01T13:53:18.486Z"
   },
   {
    "duration": 20,
    "start_time": "2025-07-01T13:53:22.351Z"
   },
   {
    "duration": 22,
    "start_time": "2025-07-01T13:58:57.896Z"
   },
   {
    "duration": 27,
    "start_time": "2025-07-01T13:59:15.398Z"
   },
   {
    "duration": 7,
    "start_time": "2025-07-01T14:00:04.173Z"
   },
   {
    "duration": 7,
    "start_time": "2025-07-01T14:00:06.726Z"
   },
   {
    "duration": 28,
    "start_time": "2025-07-01T14:00:15.709Z"
   },
   {
    "duration": 28,
    "start_time": "2025-07-01T14:00:59.862Z"
   },
   {
    "duration": 27,
    "start_time": "2025-07-01T14:05:54.790Z"
   },
   {
    "duration": 418,
    "start_time": "2025-07-01T14:06:08.084Z"
   },
   {
    "duration": 133,
    "start_time": "2025-07-01T14:06:08.504Z"
   },
   {
    "duration": 29,
    "start_time": "2025-07-01T14:06:08.639Z"
   },
   {
    "duration": 24,
    "start_time": "2025-07-01T14:06:08.669Z"
   },
   {
    "duration": 5,
    "start_time": "2025-07-01T14:06:09.087Z"
   },
   {
    "duration": 6,
    "start_time": "2025-07-01T14:06:09.227Z"
   },
   {
    "duration": 17,
    "start_time": "2025-07-01T14:06:09.621Z"
   },
   {
    "duration": 9,
    "start_time": "2025-07-01T14:06:09.747Z"
   },
   {
    "duration": 17,
    "start_time": "2025-07-01T14:06:09.874Z"
   },
   {
    "duration": 9,
    "start_time": "2025-07-01T14:06:10.035Z"
   },
   {
    "duration": 35,
    "start_time": "2025-07-01T14:06:10.131Z"
   },
   {
    "duration": 16,
    "start_time": "2025-07-01T14:06:10.571Z"
   },
   {
    "duration": 10,
    "start_time": "2025-07-01T14:06:10.730Z"
   },
   {
    "duration": 12,
    "start_time": "2025-07-01T14:06:10.889Z"
   },
   {
    "duration": 24,
    "start_time": "2025-07-01T14:06:11.588Z"
   },
   {
    "duration": 14,
    "start_time": "2025-07-01T14:06:11.757Z"
   },
   {
    "duration": 21,
    "start_time": "2025-07-01T14:06:11.898Z"
   },
   {
    "duration": 22,
    "start_time": "2025-07-01T14:06:12.057Z"
   },
   {
    "duration": 17,
    "start_time": "2025-07-01T14:06:12.435Z"
   },
   {
    "duration": 4,
    "start_time": "2025-07-01T14:06:13.388Z"
   },
   {
    "duration": 4,
    "start_time": "2025-07-01T14:06:13.563Z"
   },
   {
    "duration": 175,
    "start_time": "2025-07-01T14:06:13.713Z"
   },
   {
    "duration": 179,
    "start_time": "2025-07-01T14:06:13.891Z"
   },
   {
    "duration": 5,
    "start_time": "2025-07-01T14:06:14.189Z"
   },
   {
    "duration": 5,
    "start_time": "2025-07-01T14:06:14.529Z"
   },
   {
    "duration": 11,
    "start_time": "2025-07-01T14:06:14.689Z"
   },
   {
    "duration": 5,
    "start_time": "2025-07-01T14:06:14.850Z"
   },
   {
    "duration": 7,
    "start_time": "2025-07-01T14:06:15.012Z"
   },
   {
    "duration": 28,
    "start_time": "2025-07-01T14:06:15.161Z"
   },
   {
    "duration": 5,
    "start_time": "2025-07-01T14:06:15.326Z"
   },
   {
    "duration": 24,
    "start_time": "2025-07-01T14:06:15.473Z"
   },
   {
    "duration": 7,
    "start_time": "2025-07-01T14:06:15.642Z"
   },
   {
    "duration": 19,
    "start_time": "2025-07-01T14:06:15.962Z"
   },
   {
    "duration": 34,
    "start_time": "2025-07-01T14:06:18.082Z"
   },
   {
    "duration": 4,
    "start_time": "2025-07-01T14:06:20.971Z"
   },
   {
    "duration": 4,
    "start_time": "2025-07-01T14:06:21.162Z"
   },
   {
    "duration": 20,
    "start_time": "2025-07-01T14:06:24.251Z"
   },
   {
    "duration": 22,
    "start_time": "2025-07-01T14:06:28.763Z"
   },
   {
    "duration": 27,
    "start_time": "2025-07-01T14:06:37.189Z"
   },
   {
    "duration": 7,
    "start_time": "2025-07-01T14:06:50.936Z"
   },
   {
    "duration": 27,
    "start_time": "2025-07-01T14:06:59.228Z"
   },
   {
    "duration": 6,
    "start_time": "2025-07-01T14:09:09.584Z"
   },
   {
    "duration": 7,
    "start_time": "2025-07-01T14:09:16.551Z"
   },
   {
    "duration": 6,
    "start_time": "2025-07-01T14:10:27.051Z"
   },
   {
    "duration": 7,
    "start_time": "2025-07-01T14:11:48.811Z"
   },
   {
    "duration": 8,
    "start_time": "2025-07-01T14:11:50.576Z"
   },
   {
    "duration": 9,
    "start_time": "2025-07-01T14:12:33.073Z"
   },
   {
    "duration": 66,
    "start_time": "2025-07-01T14:15:05.129Z"
   },
   {
    "duration": 7,
    "start_time": "2025-07-01T14:15:28.984Z"
   },
   {
    "duration": 7,
    "start_time": "2025-07-01T14:15:38.936Z"
   },
   {
    "duration": 7,
    "start_time": "2025-07-01T14:15:42.736Z"
   },
   {
    "duration": 7,
    "start_time": "2025-07-01T14:18:09.280Z"
   },
   {
    "duration": 7,
    "start_time": "2025-07-01T14:18:16.359Z"
   },
   {
    "duration": 7,
    "start_time": "2025-07-01T14:20:45.743Z"
   },
   {
    "duration": 7,
    "start_time": "2025-07-01T14:21:49.158Z"
   },
   {
    "duration": 8,
    "start_time": "2025-07-01T14:21:53.294Z"
   },
   {
    "duration": 8,
    "start_time": "2025-07-01T14:22:01.173Z"
   },
   {
    "duration": 8,
    "start_time": "2025-07-01T14:22:09.135Z"
   },
   {
    "duration": 5,
    "start_time": "2025-07-01T14:29:04.432Z"
   },
   {
    "duration": 69,
    "start_time": "2025-07-01T14:50:15.824Z"
   },
   {
    "duration": 89,
    "start_time": "2025-07-01T14:50:27.721Z"
   },
   {
    "duration": 51,
    "start_time": "2025-07-01T18:51:17.848Z"
   },
   {
    "duration": 364,
    "start_time": "2025-07-01T18:51:22.015Z"
   },
   {
    "duration": 133,
    "start_time": "2025-07-01T18:51:22.703Z"
   },
   {
    "duration": 30,
    "start_time": "2025-07-01T18:51:23.143Z"
   },
   {
    "duration": 16,
    "start_time": "2025-07-01T18:51:24.765Z"
   },
   {
    "duration": 4,
    "start_time": "2025-07-01T18:51:27.230Z"
   },
   {
    "duration": 6,
    "start_time": "2025-07-01T18:51:27.629Z"
   },
   {
    "duration": 16,
    "start_time": "2025-07-01T18:51:43.809Z"
   },
   {
    "duration": 9,
    "start_time": "2025-07-01T18:51:46.238Z"
   },
   {
    "duration": 9,
    "start_time": "2025-07-01T18:51:46.438Z"
   },
   {
    "duration": 10,
    "start_time": "2025-07-01T18:51:46.638Z"
   },
   {
    "duration": 37,
    "start_time": "2025-07-01T18:51:46.846Z"
   },
   {
    "duration": 14,
    "start_time": "2025-07-01T18:51:50.358Z"
   },
   {
    "duration": 9,
    "start_time": "2025-07-01T18:51:50.910Z"
   },
   {
    "duration": 10,
    "start_time": "2025-07-01T18:51:52.758Z"
   },
   {
    "duration": 23,
    "start_time": "2025-07-01T18:52:05.533Z"
   },
   {
    "duration": 14,
    "start_time": "2025-07-01T18:52:05.717Z"
   },
   {
    "duration": 22,
    "start_time": "2025-07-01T18:52:05.853Z"
   },
   {
    "duration": 18,
    "start_time": "2025-07-01T18:52:06.037Z"
   },
   {
    "duration": 19,
    "start_time": "2025-07-01T18:52:06.348Z"
   },
   {
    "duration": 5,
    "start_time": "2025-07-01T18:52:06.501Z"
   },
   {
    "duration": 4,
    "start_time": "2025-07-01T18:52:32.605Z"
   },
   {
    "duration": 4,
    "start_time": "2025-07-01T18:52:33.053Z"
   },
   {
    "duration": 4,
    "start_time": "2025-07-01T18:52:53.070Z"
   },
   {
    "duration": 444,
    "start_time": "2025-07-01T18:53:30.431Z"
   },
   {
    "duration": 91,
    "start_time": "2025-07-01T18:53:30.893Z"
   },
   {
    "duration": 29,
    "start_time": "2025-07-01T18:53:31.141Z"
   },
   {
    "duration": 16,
    "start_time": "2025-07-01T18:53:31.381Z"
   },
   {
    "duration": 4,
    "start_time": "2025-07-01T18:53:33.813Z"
   },
   {
    "duration": 7,
    "start_time": "2025-07-01T18:53:34.284Z"
   },
   {
    "duration": 15,
    "start_time": "2025-07-01T18:53:42.303Z"
   },
   {
    "duration": 9,
    "start_time": "2025-07-01T18:53:44.221Z"
   },
   {
    "duration": 8,
    "start_time": "2025-07-01T18:53:44.430Z"
   },
   {
    "duration": 8,
    "start_time": "2025-07-01T18:53:44.629Z"
   },
   {
    "duration": 36,
    "start_time": "2025-07-01T18:53:44.990Z"
   },
   {
    "duration": 17,
    "start_time": "2025-07-01T18:53:47.957Z"
   },
   {
    "duration": 9,
    "start_time": "2025-07-01T18:53:48.428Z"
   },
   {
    "duration": 12,
    "start_time": "2025-07-01T18:53:49.900Z"
   },
   {
    "duration": 23,
    "start_time": "2025-07-01T18:53:52.124Z"
   },
   {
    "duration": 14,
    "start_time": "2025-07-01T18:53:52.292Z"
   },
   {
    "duration": 21,
    "start_time": "2025-07-01T18:53:52.484Z"
   },
   {
    "duration": 18,
    "start_time": "2025-07-01T18:53:54.333Z"
   },
   {
    "duration": 18,
    "start_time": "2025-07-01T18:53:55.308Z"
   },
   {
    "duration": 3,
    "start_time": "2025-07-01T18:53:56.920Z"
   },
   {
    "duration": 4,
    "start_time": "2025-07-01T18:53:57.813Z"
   },
   {
    "duration": 173,
    "start_time": "2025-07-01T18:54:01.774Z"
   },
   {
    "duration": 164,
    "start_time": "2025-07-01T18:54:02.180Z"
   },
   {
    "duration": 5,
    "start_time": "2025-07-01T18:54:04.479Z"
   },
   {
    "duration": 6,
    "start_time": "2025-07-01T18:54:54.885Z"
   },
   {
    "duration": 17,
    "start_time": "2025-07-01T18:54:55.132Z"
   },
   {
    "duration": 6,
    "start_time": "2025-07-01T18:54:55.359Z"
   },
   {
    "duration": 8,
    "start_time": "2025-07-01T18:54:55.619Z"
   },
   {
    "duration": 13,
    "start_time": "2025-07-01T18:54:57.380Z"
   },
   {
    "duration": 6,
    "start_time": "2025-07-01T18:54:57.628Z"
   },
   {
    "duration": 20,
    "start_time": "2025-07-01T18:54:57.879Z"
   },
   {
    "duration": 10,
    "start_time": "2025-07-01T18:54:58.323Z"
   },
   {
    "duration": 20,
    "start_time": "2025-07-01T18:55:01.068Z"
   },
   {
    "duration": 35,
    "start_time": "2025-07-01T18:55:01.424Z"
   },
   {
    "duration": 4,
    "start_time": "2025-07-01T18:55:04.412Z"
   },
   {
    "duration": 4,
    "start_time": "2025-07-01T18:55:04.733Z"
   },
   {
    "duration": 19,
    "start_time": "2025-07-01T18:55:07.989Z"
   },
   {
    "duration": 30,
    "start_time": "2025-07-01T18:58:16.685Z"
   },
   {
    "duration": 30,
    "start_time": "2025-07-01T18:58:38.587Z"
   },
   {
    "duration": 27,
    "start_time": "2025-07-01T18:58:40.506Z"
   },
   {
    "duration": 405,
    "start_time": "2025-07-01T18:59:27.380Z"
   },
   {
    "duration": 110,
    "start_time": "2025-07-01T18:59:27.787Z"
   },
   {
    "duration": 26,
    "start_time": "2025-07-01T18:59:27.899Z"
   },
   {
    "duration": 18,
    "start_time": "2025-07-01T18:59:27.965Z"
   },
   {
    "duration": 4,
    "start_time": "2025-07-01T18:59:28.571Z"
   },
   {
    "duration": 6,
    "start_time": "2025-07-01T18:59:28.683Z"
   },
   {
    "duration": 23,
    "start_time": "2025-07-01T18:59:29.052Z"
   },
   {
    "duration": 8,
    "start_time": "2025-07-01T18:59:29.194Z"
   },
   {
    "duration": 8,
    "start_time": "2025-07-01T18:59:29.337Z"
   },
   {
    "duration": 13,
    "start_time": "2025-07-01T18:59:29.460Z"
   },
   {
    "duration": 33,
    "start_time": "2025-07-01T18:59:29.587Z"
   },
   {
    "duration": 14,
    "start_time": "2025-07-01T18:59:30.131Z"
   },
   {
    "duration": 13,
    "start_time": "2025-07-01T18:59:30.273Z"
   },
   {
    "duration": 12,
    "start_time": "2025-07-01T18:59:30.417Z"
   },
   {
    "duration": 24,
    "start_time": "2025-07-01T18:59:30.945Z"
   },
   {
    "duration": 14,
    "start_time": "2025-07-01T18:59:31.081Z"
   },
   {
    "duration": 21,
    "start_time": "2025-07-01T18:59:31.217Z"
   },
   {
    "duration": 18,
    "start_time": "2025-07-01T18:59:31.361Z"
   },
   {
    "duration": 19,
    "start_time": "2025-07-01T18:59:31.658Z"
   },
   {
    "duration": 3,
    "start_time": "2025-07-01T18:59:31.801Z"
   },
   {
    "duration": 4,
    "start_time": "2025-07-01T18:59:33.145Z"
   },
   {
    "duration": 193,
    "start_time": "2025-07-01T18:59:33.323Z"
   },
   {
    "duration": 175,
    "start_time": "2025-07-01T18:59:33.517Z"
   },
   {
    "duration": 5,
    "start_time": "2025-07-01T18:59:33.745Z"
   },
   {
    "duration": 5,
    "start_time": "2025-07-01T18:59:35.554Z"
   },
   {
    "duration": 10,
    "start_time": "2025-07-01T18:59:35.706Z"
   },
   {
    "duration": 5,
    "start_time": "2025-07-01T18:59:35.848Z"
   },
   {
    "duration": 7,
    "start_time": "2025-07-01T18:59:35.984Z"
   },
   {
    "duration": 14,
    "start_time": "2025-07-01T18:59:37.497Z"
   },
   {
    "duration": 5,
    "start_time": "2025-07-01T18:59:37.664Z"
   },
   {
    "duration": 15,
    "start_time": "2025-07-01T18:59:37.800Z"
   },
   {
    "duration": 8,
    "start_time": "2025-07-01T18:59:37.938Z"
   },
   {
    "duration": 18,
    "start_time": "2025-07-01T18:59:40.124Z"
   },
   {
    "duration": 37,
    "start_time": "2025-07-01T18:59:40.330Z"
   },
   {
    "duration": 4,
    "start_time": "2025-07-01T18:59:42.704Z"
   },
   {
    "duration": 4,
    "start_time": "2025-07-01T18:59:43.953Z"
   },
   {
    "duration": 31,
    "start_time": "2025-07-01T18:59:45.195Z"
   },
   {
    "duration": 21,
    "start_time": "2025-07-01T18:59:52.020Z"
   },
   {
    "duration": 68,
    "start_time": "2025-07-01T19:00:17.570Z"
   },
   {
    "duration": 11,
    "start_time": "2025-07-01T19:00:31.667Z"
   },
   {
    "duration": 25,
    "start_time": "2025-07-01T19:00:37.035Z"
   },
   {
    "duration": 28,
    "start_time": "2025-07-01T19:00:52.058Z"
   },
   {
    "duration": 7,
    "start_time": "2025-07-01T19:00:57.137Z"
   },
   {
    "duration": 8,
    "start_time": "2025-07-01T19:00:58.762Z"
   },
   {
    "duration": 9,
    "start_time": "2025-07-01T19:01:00.330Z"
   },
   {
    "duration": 7,
    "start_time": "2025-07-01T19:01:02.304Z"
   },
   {
    "duration": 431,
    "start_time": "2025-07-01T20:19:40.647Z"
   },
   {
    "duration": 149,
    "start_time": "2025-07-01T20:19:41.080Z"
   },
   {
    "duration": 27,
    "start_time": "2025-07-01T20:19:41.230Z"
   },
   {
    "duration": 41,
    "start_time": "2025-07-01T20:19:41.259Z"
   },
   {
    "duration": 5,
    "start_time": "2025-07-01T20:19:41.301Z"
   },
   {
    "duration": 10,
    "start_time": "2025-07-01T20:19:41.308Z"
   },
   {
    "duration": 24,
    "start_time": "2025-07-01T20:19:41.320Z"
   },
   {
    "duration": 8,
    "start_time": "2025-07-01T20:19:41.346Z"
   },
   {
    "duration": 17,
    "start_time": "2025-07-01T20:19:41.355Z"
   },
   {
    "duration": 10,
    "start_time": "2025-07-01T20:19:41.375Z"
   },
   {
    "duration": 41,
    "start_time": "2025-07-01T20:19:41.387Z"
   },
   {
    "duration": 19,
    "start_time": "2025-07-01T20:19:41.430Z"
   },
   {
    "duration": 9,
    "start_time": "2025-07-01T20:19:41.451Z"
   },
   {
    "duration": 10,
    "start_time": "2025-07-01T20:19:41.462Z"
   },
   {
    "duration": 21,
    "start_time": "2025-07-01T20:19:41.474Z"
   },
   {
    "duration": 44,
    "start_time": "2025-07-01T20:19:41.497Z"
   },
   {
    "duration": 21,
    "start_time": "2025-07-01T20:19:41.542Z"
   },
   {
    "duration": 20,
    "start_time": "2025-07-01T20:19:41.564Z"
   },
   {
    "duration": 18,
    "start_time": "2025-07-01T20:19:41.586Z"
   },
   {
    "duration": 36,
    "start_time": "2025-07-01T20:19:41.606Z"
   },
   {
    "duration": 32,
    "start_time": "2025-07-01T20:19:41.644Z"
   },
   {
    "duration": 169,
    "start_time": "2025-07-01T20:19:41.678Z"
   },
   {
    "duration": 165,
    "start_time": "2025-07-01T20:19:41.849Z"
   },
   {
    "duration": 63,
    "start_time": "2025-07-01T20:19:52.273Z"
   },
   {
    "duration": 11,
    "start_time": "2025-07-01T20:19:55.550Z"
   },
   {
    "duration": 375,
    "start_time": "2025-07-01T20:20:01.839Z"
   },
   {
    "duration": 77,
    "start_time": "2025-07-01T20:20:07.369Z"
   },
   {
    "duration": 10,
    "start_time": "2025-07-01T20:20:14.195Z"
   },
   {
    "duration": 3,
    "start_time": "2025-07-01T20:25:49.730Z"
   },
   {
    "duration": 129,
    "start_time": "2025-07-01T20:25:49.739Z"
   },
   {
    "duration": 22,
    "start_time": "2025-07-01T20:25:49.870Z"
   },
   {
    "duration": 35,
    "start_time": "2025-07-01T20:25:49.894Z"
   },
   {
    "duration": 5,
    "start_time": "2025-07-01T20:25:49.931Z"
   },
   {
    "duration": 13,
    "start_time": "2025-07-01T20:25:49.940Z"
   },
   {
    "duration": 15,
    "start_time": "2025-07-01T20:25:49.955Z"
   },
   {
    "duration": 42,
    "start_time": "2025-07-01T20:25:49.972Z"
   },
   {
    "duration": 42,
    "start_time": "2025-07-01T20:25:50.016Z"
   },
   {
    "duration": 48,
    "start_time": "2025-07-01T20:25:50.060Z"
   },
   {
    "duration": 52,
    "start_time": "2025-07-01T20:25:50.110Z"
   },
   {
    "duration": 27,
    "start_time": "2025-07-01T20:25:50.164Z"
   },
   {
    "duration": 32,
    "start_time": "2025-07-01T20:25:50.193Z"
   },
   {
    "duration": 37,
    "start_time": "2025-07-01T20:25:50.227Z"
   },
   {
    "duration": 28,
    "start_time": "2025-07-01T20:25:50.267Z"
   },
   {
    "duration": 13,
    "start_time": "2025-07-01T20:25:50.297Z"
   },
   {
    "duration": 23,
    "start_time": "2025-07-01T20:25:50.311Z"
   },
   {
    "duration": 20,
    "start_time": "2025-07-01T20:25:50.336Z"
   },
   {
    "duration": 27,
    "start_time": "2025-07-01T20:25:50.358Z"
   },
   {
    "duration": 17,
    "start_time": "2025-07-01T20:25:50.387Z"
   },
   {
    "duration": 10,
    "start_time": "2025-07-01T20:25:50.406Z"
   },
   {
    "duration": 175,
    "start_time": "2025-07-01T20:25:50.417Z"
   },
   {
    "duration": 168,
    "start_time": "2025-07-01T20:25:50.594Z"
   },
   {
    "duration": 5,
    "start_time": "2025-07-01T20:25:57.292Z"
   },
   {
    "duration": 74,
    "start_time": "2025-07-01T20:25:58.540Z"
   },
   {
    "duration": 171,
    "start_time": "2025-07-01T20:26:01.371Z"
   },
   {
    "duration": 5,
    "start_time": "2025-07-01T20:26:03.056Z"
   }
  ],
  "colab": {
   "provenance": []
  },
  "kernelspec": {
   "display_name": "Python 3 (ipykernel)",
   "language": "python",
   "name": "python3"
  },
  "language_info": {
   "codemirror_mode": {
    "name": "ipython",
    "version": 3
   },
   "file_extension": ".py",
   "mimetype": "text/x-python",
   "name": "python",
   "nbconvert_exporter": "python",
   "pygments_lexer": "ipython3",
   "version": "3.12.7"
  },
  "toc": {
   "base_numbering": 1,
   "nav_menu": {},
   "number_sections": true,
   "sideBar": true,
   "skip_h1_title": true,
   "title_cell": "Table of Contents",
   "title_sidebar": "Contents",
   "toc_cell": true,
   "toc_position": {
    "height": "calc(100% - 180px)",
    "left": "10px",
    "top": "150px",
    "width": "411.992px"
   },
   "toc_section_display": true,
   "toc_window_display": false
  }
 },
 "nbformat": 4,
 "nbformat_minor": 5
}
